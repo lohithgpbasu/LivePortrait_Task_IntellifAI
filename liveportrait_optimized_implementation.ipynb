{
  "nbformat": 4,
  "nbformat_minor": 0,
  "metadata": {
    "colab": {
      "provenance": [],
      "gpuType": "T4"
    },
    "kernelspec": {
      "name": "python3",
      "display_name": "Python 3"
    },
    "language_info": {
      "name": "python"
    },
    "accelerator": "GPU"
  },
  "cells": [
    {
      "cell_type": "code",
      "execution_count": 1,
      "metadata": {
        "colab": {
          "base_uri": "https://localhost:8080/"
        },
        "id": "XuV4wDtDpBER",
        "outputId": "5c1335b3-bcd3-4902-8387-0edddfd56bff"
      },
      "outputs": [
        {
          "output_type": "stream",
          "name": "stdout",
          "text": [
            "Cloning into 'LivePortrait'...\n",
            "remote: Enumerating objects: 1071, done.\u001b[K\n",
            "remote: Counting objects: 100% (295/295), done.\u001b[K\n",
            "remote: Compressing objects: 100% (49/49), done.\u001b[K\n",
            "remote: Total 1071 (delta 262), reused 246 (delta 246), pack-reused 776 (from 3)\u001b[K\n",
            "Receiving objects: 100% (1071/1071), 38.77 MiB | 33.50 MiB/s, done.\n",
            "Resolving deltas: 100% (557/557), done.\n"
          ]
        }
      ],
      "source": [
        "!git clone https://github.com/KwaiVGI/LivePortrait.git"
      ]
    },
    {
      "cell_type": "code",
      "source": [
        "%cd LivePortrait"
      ],
      "metadata": {
        "colab": {
          "base_uri": "https://localhost:8080/"
        },
        "id": "IBulLpxApJ23",
        "outputId": "1ef84c88-9f8b-4243-e2c4-76e7a211f173"
      },
      "execution_count": 2,
      "outputs": [
        {
          "output_type": "stream",
          "name": "stdout",
          "text": [
            "/content/LivePortrait\n"
          ]
        }
      ]
    },
    {
      "cell_type": "code",
      "source": [
        "!pip install -q torch torchvision imageio opencv-python gdown dlib"
      ],
      "metadata": {
        "colab": {
          "base_uri": "https://localhost:8080/"
        },
        "id": "QXGq_U5KpnFW",
        "outputId": "3854b285-275e-40e9-abe3-9421343055ed"
      },
      "execution_count": 3,
      "outputs": [
        {
          "output_type": "stream",
          "name": "stdout",
          "text": [
            "\u001b[2K   \u001b[90m━━━━━━━━━━━━━━━━━━━━━━━━━━━━━━━━━━━━━━━━\u001b[0m \u001b[32m363.4/363.4 MB\u001b[0m \u001b[31m4.4 MB/s\u001b[0m eta \u001b[36m0:00:00\u001b[0m\n",
            "\u001b[2K   \u001b[90m━━━━━━━━━━━━━━━━━━━━━━━━━━━━━━━━━━━━━━━━\u001b[0m \u001b[32m13.8/13.8 MB\u001b[0m \u001b[31m48.9 MB/s\u001b[0m eta \u001b[36m0:00:00\u001b[0m\n",
            "\u001b[2K   \u001b[90m━━━━━━━━━━━━━━━━━━━━━━━━━━━━━━━━━━━━━━━━\u001b[0m \u001b[32m24.6/24.6 MB\u001b[0m \u001b[31m46.6 MB/s\u001b[0m eta \u001b[36m0:00:00\u001b[0m\n",
            "\u001b[2K   \u001b[90m━━━━━━━━━━━━━━━━━━━━━━━━━━━━━━━━━━━━━━━━\u001b[0m \u001b[32m883.7/883.7 kB\u001b[0m \u001b[31m38.1 MB/s\u001b[0m eta \u001b[36m0:00:00\u001b[0m\n",
            "\u001b[2K   \u001b[90m━━━━━━━━━━━━━━━━━━━━━━━━━━━━━━━━━━━━━━━━\u001b[0m \u001b[32m664.8/664.8 MB\u001b[0m \u001b[31m1.3 MB/s\u001b[0m eta \u001b[36m0:00:00\u001b[0m\n",
            "\u001b[2K   \u001b[90m━━━━━━━━━━━━━━━━━━━━━━━━━━━━━━━━━━━━━━━━\u001b[0m \u001b[32m211.5/211.5 MB\u001b[0m \u001b[31m6.3 MB/s\u001b[0m eta \u001b[36m0:00:00\u001b[0m\n",
            "\u001b[2K   \u001b[90m━━━━━━━━━━━━━━━━━━━━━━━━━━━━━━━━━━━━━━━━\u001b[0m \u001b[32m56.3/56.3 MB\u001b[0m \u001b[31m12.8 MB/s\u001b[0m eta \u001b[36m0:00:00\u001b[0m\n",
            "\u001b[2K   \u001b[90m━━━━━━━━━━━━━━━━━━━━━━━━━━━━━━━━━━━━━━━━\u001b[0m \u001b[32m127.9/127.9 MB\u001b[0m \u001b[31m7.8 MB/s\u001b[0m eta \u001b[36m0:00:00\u001b[0m\n",
            "\u001b[2K   \u001b[90m━━━━━━━━━━━━━━━━━━━━━━━━━━━━━━━━━━━━━━━━\u001b[0m \u001b[32m207.5/207.5 MB\u001b[0m \u001b[31m5.9 MB/s\u001b[0m eta \u001b[36m0:00:00\u001b[0m\n",
            "\u001b[2K   \u001b[90m━━━━━━━━━━━━━━━━━━━━━━━━━━━━━━━━━━━━━━━━\u001b[0m \u001b[32m21.1/21.1 MB\u001b[0m \u001b[31m85.1 MB/s\u001b[0m eta \u001b[36m0:00:00\u001b[0m\n",
            "\u001b[?25h"
          ]
        }
      ]
    },
    {
      "cell_type": "code",
      "source": [
        "!pip install tyro"
      ],
      "metadata": {
        "colab": {
          "base_uri": "https://localhost:8080/"
        },
        "id": "FZZZvnp9rw5A",
        "outputId": "251b1b25-eed8-4327-aeae-78acf70b4b06"
      },
      "execution_count": 4,
      "outputs": [
        {
          "output_type": "stream",
          "name": "stdout",
          "text": [
            "Collecting tyro\n",
            "  Downloading tyro-0.9.24-py3-none-any.whl.metadata (11 kB)\n",
            "Requirement already satisfied: docstring-parser>=0.15 in /usr/local/lib/python3.11/dist-packages (from tyro) (0.16)\n",
            "Requirement already satisfied: rich>=11.1.0 in /usr/local/lib/python3.11/dist-packages (from tyro) (13.9.4)\n",
            "Collecting shtab>=1.5.6 (from tyro)\n",
            "  Downloading shtab-1.7.2-py3-none-any.whl.metadata (7.4 kB)\n",
            "Requirement already satisfied: typeguard>=4.0.0 in /usr/local/lib/python3.11/dist-packages (from tyro) (4.4.2)\n",
            "Requirement already satisfied: typing-extensions>=4.13.0 in /usr/local/lib/python3.11/dist-packages (from tyro) (4.13.2)\n",
            "Requirement already satisfied: markdown-it-py>=2.2.0 in /usr/local/lib/python3.11/dist-packages (from rich>=11.1.0->tyro) (3.0.0)\n",
            "Requirement already satisfied: pygments<3.0.0,>=2.13.0 in /usr/local/lib/python3.11/dist-packages (from rich>=11.1.0->tyro) (2.19.1)\n",
            "Requirement already satisfied: mdurl~=0.1 in /usr/local/lib/python3.11/dist-packages (from markdown-it-py>=2.2.0->rich>=11.1.0->tyro) (0.1.2)\n",
            "Downloading tyro-0.9.24-py3-none-any.whl (128 kB)\n",
            "\u001b[2K   \u001b[90m━━━━━━━━━━━━━━━━━━━━━━━━━━━━━━━━━━━━━━━━\u001b[0m \u001b[32m128.3/128.3 kB\u001b[0m \u001b[31m4.2 MB/s\u001b[0m eta \u001b[36m0:00:00\u001b[0m\n",
            "\u001b[?25hDownloading shtab-1.7.2-py3-none-any.whl (14 kB)\n",
            "Installing collected packages: shtab, tyro\n",
            "Successfully installed shtab-1.7.2 tyro-0.9.24\n"
          ]
        }
      ]
    },
    {
      "cell_type": "code",
      "source": [
        "!pip install torch torchvision opencv-python imageio gdown dlib tyro onnx onnxruntime ffmpeg-python"
      ],
      "metadata": {
        "colab": {
          "base_uri": "https://localhost:8080/"
        },
        "id": "opfX0FyxwzBW",
        "outputId": "cb6901d0-e76e-4917-c42b-66f28a68eb59"
      },
      "execution_count": 5,
      "outputs": [
        {
          "output_type": "stream",
          "name": "stdout",
          "text": [
            "Requirement already satisfied: torch in /usr/local/lib/python3.11/dist-packages (2.6.0+cu124)\n",
            "Requirement already satisfied: torchvision in /usr/local/lib/python3.11/dist-packages (0.21.0+cu124)\n",
            "Requirement already satisfied: opencv-python in /usr/local/lib/python3.11/dist-packages (4.11.0.86)\n",
            "Requirement already satisfied: imageio in /usr/local/lib/python3.11/dist-packages (2.37.0)\n",
            "Requirement already satisfied: gdown in /usr/local/lib/python3.11/dist-packages (5.2.0)\n",
            "Requirement already satisfied: dlib in /usr/local/lib/python3.11/dist-packages (19.24.6)\n",
            "Requirement already satisfied: tyro in /usr/local/lib/python3.11/dist-packages (0.9.24)\n",
            "Collecting onnx\n",
            "  Downloading onnx-1.18.0-cp311-cp311-manylinux_2_17_x86_64.manylinux2014_x86_64.whl.metadata (6.9 kB)\n",
            "Collecting onnxruntime\n",
            "  Downloading onnxruntime-1.22.0-cp311-cp311-manylinux_2_27_x86_64.manylinux_2_28_x86_64.whl.metadata (4.5 kB)\n",
            "Collecting ffmpeg-python\n",
            "  Downloading ffmpeg_python-0.2.0-py3-none-any.whl.metadata (1.7 kB)\n",
            "Requirement already satisfied: filelock in /usr/local/lib/python3.11/dist-packages (from torch) (3.18.0)\n",
            "Requirement already satisfied: typing-extensions>=4.10.0 in /usr/local/lib/python3.11/dist-packages (from torch) (4.13.2)\n",
            "Requirement already satisfied: networkx in /usr/local/lib/python3.11/dist-packages (from torch) (3.5)\n",
            "Requirement already satisfied: jinja2 in /usr/local/lib/python3.11/dist-packages (from torch) (3.1.6)\n",
            "Requirement already satisfied: fsspec in /usr/local/lib/python3.11/dist-packages (from torch) (2025.3.2)\n",
            "Requirement already satisfied: nvidia-cuda-nvrtc-cu12==12.4.127 in /usr/local/lib/python3.11/dist-packages (from torch) (12.4.127)\n",
            "Requirement already satisfied: nvidia-cuda-runtime-cu12==12.4.127 in /usr/local/lib/python3.11/dist-packages (from torch) (12.4.127)\n",
            "Requirement already satisfied: nvidia-cuda-cupti-cu12==12.4.127 in /usr/local/lib/python3.11/dist-packages (from torch) (12.4.127)\n",
            "Requirement already satisfied: nvidia-cudnn-cu12==9.1.0.70 in /usr/local/lib/python3.11/dist-packages (from torch) (9.1.0.70)\n",
            "Requirement already satisfied: nvidia-cublas-cu12==12.4.5.8 in /usr/local/lib/python3.11/dist-packages (from torch) (12.4.5.8)\n",
            "Requirement already satisfied: nvidia-cufft-cu12==11.2.1.3 in /usr/local/lib/python3.11/dist-packages (from torch) (11.2.1.3)\n",
            "Requirement already satisfied: nvidia-curand-cu12==10.3.5.147 in /usr/local/lib/python3.11/dist-packages (from torch) (10.3.5.147)\n",
            "Requirement already satisfied: nvidia-cusolver-cu12==11.6.1.9 in /usr/local/lib/python3.11/dist-packages (from torch) (11.6.1.9)\n",
            "Requirement already satisfied: nvidia-cusparse-cu12==12.3.1.170 in /usr/local/lib/python3.11/dist-packages (from torch) (12.3.1.170)\n",
            "Requirement already satisfied: nvidia-cusparselt-cu12==0.6.2 in /usr/local/lib/python3.11/dist-packages (from torch) (0.6.2)\n",
            "Requirement already satisfied: nvidia-nccl-cu12==2.21.5 in /usr/local/lib/python3.11/dist-packages (from torch) (2.21.5)\n",
            "Requirement already satisfied: nvidia-nvtx-cu12==12.4.127 in /usr/local/lib/python3.11/dist-packages (from torch) (12.4.127)\n",
            "Requirement already satisfied: nvidia-nvjitlink-cu12==12.4.127 in /usr/local/lib/python3.11/dist-packages (from torch) (12.4.127)\n",
            "Requirement already satisfied: triton==3.2.0 in /usr/local/lib/python3.11/dist-packages (from torch) (3.2.0)\n",
            "Requirement already satisfied: sympy==1.13.1 in /usr/local/lib/python3.11/dist-packages (from torch) (1.13.1)\n",
            "Requirement already satisfied: mpmath<1.4,>=1.1.0 in /usr/local/lib/python3.11/dist-packages (from sympy==1.13.1->torch) (1.3.0)\n",
            "Requirement already satisfied: numpy in /usr/local/lib/python3.11/dist-packages (from torchvision) (2.0.2)\n",
            "Requirement already satisfied: pillow!=8.3.*,>=5.3.0 in /usr/local/lib/python3.11/dist-packages (from torchvision) (11.2.1)\n",
            "Requirement already satisfied: beautifulsoup4 in /usr/local/lib/python3.11/dist-packages (from gdown) (4.13.4)\n",
            "Requirement already satisfied: requests[socks] in /usr/local/lib/python3.11/dist-packages (from gdown) (2.32.3)\n",
            "Requirement already satisfied: tqdm in /usr/local/lib/python3.11/dist-packages (from gdown) (4.67.1)\n",
            "Requirement already satisfied: docstring-parser>=0.15 in /usr/local/lib/python3.11/dist-packages (from tyro) (0.16)\n",
            "Requirement already satisfied: rich>=11.1.0 in /usr/local/lib/python3.11/dist-packages (from tyro) (13.9.4)\n",
            "Requirement already satisfied: shtab>=1.5.6 in /usr/local/lib/python3.11/dist-packages (from tyro) (1.7.2)\n",
            "Requirement already satisfied: typeguard>=4.0.0 in /usr/local/lib/python3.11/dist-packages (from tyro) (4.4.2)\n",
            "Requirement already satisfied: protobuf>=4.25.1 in /usr/local/lib/python3.11/dist-packages (from onnx) (5.29.5)\n",
            "Collecting coloredlogs (from onnxruntime)\n",
            "  Downloading coloredlogs-15.0.1-py2.py3-none-any.whl.metadata (12 kB)\n",
            "Requirement already satisfied: flatbuffers in /usr/local/lib/python3.11/dist-packages (from onnxruntime) (25.2.10)\n",
            "Requirement already satisfied: packaging in /usr/local/lib/python3.11/dist-packages (from onnxruntime) (24.2)\n",
            "Requirement already satisfied: future in /usr/local/lib/python3.11/dist-packages (from ffmpeg-python) (1.0.0)\n",
            "Requirement already satisfied: markdown-it-py>=2.2.0 in /usr/local/lib/python3.11/dist-packages (from rich>=11.1.0->tyro) (3.0.0)\n",
            "Requirement already satisfied: pygments<3.0.0,>=2.13.0 in /usr/local/lib/python3.11/dist-packages (from rich>=11.1.0->tyro) (2.19.1)\n",
            "Requirement already satisfied: soupsieve>1.2 in /usr/local/lib/python3.11/dist-packages (from beautifulsoup4->gdown) (2.7)\n",
            "Collecting humanfriendly>=9.1 (from coloredlogs->onnxruntime)\n",
            "  Downloading humanfriendly-10.0-py2.py3-none-any.whl.metadata (9.2 kB)\n",
            "Requirement already satisfied: MarkupSafe>=2.0 in /usr/local/lib/python3.11/dist-packages (from jinja2->torch) (3.0.2)\n",
            "Requirement already satisfied: charset-normalizer<4,>=2 in /usr/local/lib/python3.11/dist-packages (from requests[socks]->gdown) (3.4.2)\n",
            "Requirement already satisfied: idna<4,>=2.5 in /usr/local/lib/python3.11/dist-packages (from requests[socks]->gdown) (3.10)\n",
            "Requirement already satisfied: urllib3<3,>=1.21.1 in /usr/local/lib/python3.11/dist-packages (from requests[socks]->gdown) (2.4.0)\n",
            "Requirement already satisfied: certifi>=2017.4.17 in /usr/local/lib/python3.11/dist-packages (from requests[socks]->gdown) (2025.4.26)\n",
            "Requirement already satisfied: PySocks!=1.5.7,>=1.5.6 in /usr/local/lib/python3.11/dist-packages (from requests[socks]->gdown) (1.7.1)\n",
            "Requirement already satisfied: mdurl~=0.1 in /usr/local/lib/python3.11/dist-packages (from markdown-it-py>=2.2.0->rich>=11.1.0->tyro) (0.1.2)\n",
            "Downloading onnx-1.18.0-cp311-cp311-manylinux_2_17_x86_64.manylinux2014_x86_64.whl (17.6 MB)\n",
            "\u001b[2K   \u001b[90m━━━━━━━━━━━━━━━━━━━━━━━━━━━━━━━━━━━━━━━━\u001b[0m \u001b[32m17.6/17.6 MB\u001b[0m \u001b[31m109.9 MB/s\u001b[0m eta \u001b[36m0:00:00\u001b[0m\n",
            "\u001b[?25hDownloading onnxruntime-1.22.0-cp311-cp311-manylinux_2_27_x86_64.manylinux_2_28_x86_64.whl (16.4 MB)\n",
            "\u001b[2K   \u001b[90m━━━━━━━━━━━━━━━━━━━━━━━━━━━━━━━━━━━━━━━━\u001b[0m \u001b[32m16.4/16.4 MB\u001b[0m \u001b[31m117.3 MB/s\u001b[0m eta \u001b[36m0:00:00\u001b[0m\n",
            "\u001b[?25hDownloading ffmpeg_python-0.2.0-py3-none-any.whl (25 kB)\n",
            "Downloading coloredlogs-15.0.1-py2.py3-none-any.whl (46 kB)\n",
            "\u001b[2K   \u001b[90m━━━━━━━━━━━━━━━━━━━━━━━━━━━━━━━━━━━━━━━━\u001b[0m \u001b[32m46.0/46.0 kB\u001b[0m \u001b[31m4.4 MB/s\u001b[0m eta \u001b[36m0:00:00\u001b[0m\n",
            "\u001b[?25hDownloading humanfriendly-10.0-py2.py3-none-any.whl (86 kB)\n",
            "\u001b[2K   \u001b[90m━━━━━━━━━━━━━━━━━━━━━━━━━━━━━━━━━━━━━━━━\u001b[0m \u001b[32m86.8/86.8 kB\u001b[0m \u001b[31m8.1 MB/s\u001b[0m eta \u001b[36m0:00:00\u001b[0m\n",
            "\u001b[?25hInstalling collected packages: onnx, humanfriendly, ffmpeg-python, coloredlogs, onnxruntime\n",
            "Successfully installed coloredlogs-15.0.1 ffmpeg-python-0.2.0 humanfriendly-10.0 onnx-1.18.0 onnxruntime-1.22.0\n"
          ]
        }
      ]
    },
    {
      "cell_type": "code",
      "source": [
        "!apt-get install git-lfs"
      ],
      "metadata": {
        "colab": {
          "base_uri": "https://localhost:8080/"
        },
        "id": "Cbbuqobkx55J",
        "outputId": "b4b5a551-5a45-4bcc-eabe-e4b0baa52f04"
      },
      "execution_count": 6,
      "outputs": [
        {
          "output_type": "stream",
          "name": "stdout",
          "text": [
            "Reading package lists... Done\n",
            "Building dependency tree... Done\n",
            "Reading state information... Done\n",
            "git-lfs is already the newest version (3.0.2-1ubuntu0.3).\n",
            "0 upgraded, 0 newly installed, 0 to remove and 35 not upgraded.\n"
          ]
        }
      ]
    },
    {
      "cell_type": "code",
      "source": [
        "!git lfs install"
      ],
      "metadata": {
        "colab": {
          "base_uri": "https://localhost:8080/"
        },
        "id": "iIu9V3nyyaVu",
        "outputId": "85cc8443-c771-4ea4-9e28-99c34415b660"
      },
      "execution_count": 7,
      "outputs": [
        {
          "output_type": "stream",
          "name": "stdout",
          "text": [
            "Updated git hooks.\n",
            "Git LFS initialized.\n"
          ]
        }
      ]
    },
    {
      "cell_type": "code",
      "source": [
        "!rm -rf pretrained_weights"
      ],
      "metadata": {
        "id": "-y9tEh3PyeJq"
      },
      "execution_count": 8,
      "outputs": []
    },
    {
      "cell_type": "code",
      "source": [
        "!git clone https://huggingface.co/KwaiVGI/liveportrait pretrained_weights"
      ],
      "metadata": {
        "colab": {
          "base_uri": "https://localhost:8080/"
        },
        "id": "DC8ZyW4kygu_",
        "outputId": "33f2aeb6-1eee-4fe4-d3d3-d94df7bea71f"
      },
      "execution_count": 9,
      "outputs": [
        {
          "output_type": "stream",
          "name": "stdout",
          "text": [
            "Cloning into 'pretrained_weights'...\n",
            "remote: Enumerating objects: 90, done.\u001b[K\n",
            "remote: Counting objects: 100% (14/14), done.\u001b[K\n",
            "remote: Compressing objects: 100% (14/14), done.\u001b[K\n",
            "remote: Total 90 (delta 3), reused 0 (delta 0), pack-reused 76 (from 1)\u001b[K\n",
            "Unpacking objects: 100% (90/90), 23.50 KiB | 1.02 MiB/s, done.\n",
            "Filtering content: 100% (20/20), 1.99 GiB | 72.35 MiB/s, done.\n"
          ]
        }
      ]
    },
    {
      "cell_type": "code",
      "source": [
        "!ls pretrained_weights/liveportrait/base_models"
      ],
      "metadata": {
        "colab": {
          "base_uri": "https://localhost:8080/"
        },
        "id": "aqHrEYS6yvDi",
        "outputId": "2bc05374-5ef8-41a5-e1ef-c4a6aa190a4b"
      },
      "execution_count": 10,
      "outputs": [
        {
          "output_type": "stream",
          "name": "stdout",
          "text": [
            "appearance_feature_extractor.pth  spade_generator.pth\n",
            "motion_extractor.pth\t\t  warping_module.pth\n"
          ]
        }
      ]
    },
    {
      "cell_type": "code",
      "source": [
        "!pip uninstall numpy"
      ],
      "metadata": {
        "colab": {
          "base_uri": "https://localhost:8080/"
        },
        "id": "u26-7wOnzZtc",
        "outputId": "8e7d6ec2-1e73-423b-89e3-596208bdfcf7"
      },
      "execution_count": 11,
      "outputs": [
        {
          "output_type": "stream",
          "name": "stdout",
          "text": [
            "Found existing installation: numpy 2.0.2\n",
            "Uninstalling numpy-2.0.2:\n",
            "  Would remove:\n",
            "    /usr/local/bin/f2py\n",
            "    /usr/local/bin/numpy-config\n",
            "    /usr/local/lib/python3.11/dist-packages/numpy-2.0.2.dist-info/*\n",
            "    /usr/local/lib/python3.11/dist-packages/numpy.libs/libgfortran-040039e1-0352e75f.so.5.0.0\n",
            "    /usr/local/lib/python3.11/dist-packages/numpy.libs/libquadmath-96973f99-934c22de.so.0.0.0\n",
            "    /usr/local/lib/python3.11/dist-packages/numpy.libs/libscipy_openblas64_-99b71e71.so\n",
            "    /usr/local/lib/python3.11/dist-packages/numpy/*\n",
            "Proceed (Y/n)? y\n",
            "  Successfully uninstalled numpy-2.0.2\n"
          ]
        }
      ]
    },
    {
      "cell_type": "code",
      "source": [
        "!pip install numpy==1.26.4"
      ],
      "metadata": {
        "colab": {
          "base_uri": "https://localhost:8080/"
        },
        "id": "_4ctlN_O0HiY",
        "outputId": "4c697619-939b-4fd3-e7ab-fbb82385d679"
      },
      "execution_count": 12,
      "outputs": [
        {
          "output_type": "stream",
          "name": "stdout",
          "text": [
            "Collecting numpy==1.26.4\n",
            "  Downloading numpy-1.26.4-cp311-cp311-manylinux_2_17_x86_64.manylinux2014_x86_64.whl.metadata (61 kB)\n",
            "\u001b[?25l     \u001b[90m━━━━━━━━━━━━━━━━━━━━━━━━━━━━━━━━━━━━━━━━\u001b[0m \u001b[32m0.0/61.0 kB\u001b[0m \u001b[31m?\u001b[0m eta \u001b[36m-:--:--\u001b[0m\r\u001b[2K     \u001b[90m━━━━━━━━━━━━━━━━━━━━━━━━━━━━━━━━━━━━━━━━\u001b[0m \u001b[32m61.0/61.0 kB\u001b[0m \u001b[31m2.4 MB/s\u001b[0m eta \u001b[36m0:00:00\u001b[0m\n",
            "\u001b[?25hDownloading numpy-1.26.4-cp311-cp311-manylinux_2_17_x86_64.manylinux2014_x86_64.whl (18.3 MB)\n",
            "\u001b[2K   \u001b[90m━━━━━━━━━━━━━━━━━━━━━━━━━━━━━━━━━━━━━━━━\u001b[0m \u001b[32m18.3/18.3 MB\u001b[0m \u001b[31m39.1 MB/s\u001b[0m eta \u001b[36m0:00:00\u001b[0m\n",
            "\u001b[?25hInstalling collected packages: numpy\n",
            "\u001b[31mERROR: pip's dependency resolver does not currently take into account all the packages that are installed. This behaviour is the source of the following dependency conflicts.\n",
            "thinc 8.3.6 requires numpy<3.0.0,>=2.0.0, but you have numpy 1.26.4 which is incompatible.\u001b[0m\u001b[31m\n",
            "\u001b[0mSuccessfully installed numpy-1.26.4\n"
          ]
        }
      ]
    },
    {
      "cell_type": "code",
      "source": [
        "!git lfs install"
      ],
      "metadata": {
        "colab": {
          "base_uri": "https://localhost:8080/"
        },
        "id": "ChsSzykq0XsS",
        "outputId": "a039a435-5d17-41ed-e8ab-3a0e458a25cf"
      },
      "execution_count": 13,
      "outputs": [
        {
          "output_type": "stream",
          "name": "stdout",
          "text": [
            "Updated git hooks.\n",
            "Git LFS initialized.\n"
          ]
        }
      ]
    },
    {
      "cell_type": "code",
      "source": [
        "# Run this cell, if you got any error in cell [9] when runed or got any other type of error\n",
        "!pip install --force-reinstall onnxruntime"
      ],
      "metadata": {
        "colab": {
          "base_uri": "https://localhost:8080/"
        },
        "id": "ODPgcpkq5x6l",
        "outputId": "9429507a-b53d-4e69-b37b-a54e08f85f9b"
      },
      "execution_count": null,
      "outputs": [
        {
          "output_type": "stream",
          "name": "stdout",
          "text": [
            "Collecting onnxruntime\n",
            "  Using cached onnxruntime-1.22.0-cp311-cp311-manylinux_2_27_x86_64.manylinux_2_28_x86_64.whl.metadata (4.5 kB)\n",
            "Collecting coloredlogs (from onnxruntime)\n",
            "  Using cached coloredlogs-15.0.1-py2.py3-none-any.whl.metadata (12 kB)\n",
            "Collecting flatbuffers (from onnxruntime)\n",
            "  Downloading flatbuffers-25.2.10-py2.py3-none-any.whl.metadata (875 bytes)\n",
            "Collecting numpy>=1.21.6 (from onnxruntime)\n",
            "  Downloading numpy-2.2.6-cp311-cp311-manylinux_2_17_x86_64.manylinux2014_x86_64.whl.metadata (62 kB)\n",
            "\u001b[2K     \u001b[90m━━━━━━━━━━━━━━━━━━━━━━━━━━━━━━━━━━━━━━━━\u001b[0m \u001b[32m62.0/62.0 kB\u001b[0m \u001b[31m3.8 MB/s\u001b[0m eta \u001b[36m0:00:00\u001b[0m\n",
            "\u001b[?25hCollecting packaging (from onnxruntime)\n",
            "  Downloading packaging-25.0-py3-none-any.whl.metadata (3.3 kB)\n",
            "\u001b[31mERROR: Operation cancelled by user\u001b[0m\u001b[31m\n",
            "\u001b[0m"
          ]
        }
      ]
    },
    {
      "cell_type": "code",
      "source": [
        "!pip install pykalman"
      ],
      "metadata": {
        "colab": {
          "base_uri": "https://localhost:8080/"
        },
        "id": "_BUEfsGP1Jg7",
        "outputId": "4dfae115-67bf-46be-ac63-f509c45c8ab4"
      },
      "execution_count": 14,
      "outputs": [
        {
          "output_type": "stream",
          "name": "stdout",
          "text": [
            "Collecting pykalman\n",
            "  Downloading pykalman-0.10.1-py2.py3-none-any.whl.metadata (9.5 kB)\n",
            "Requirement already satisfied: numpy<3 in /usr/local/lib/python3.11/dist-packages (from pykalman) (1.26.4)\n",
            "Requirement already satisfied: packaging in /usr/local/lib/python3.11/dist-packages (from pykalman) (24.2)\n",
            "Collecting scikit-base<0.13.0 (from pykalman)\n",
            "  Downloading scikit_base-0.12.3-py3-none-any.whl.metadata (8.8 kB)\n",
            "Requirement already satisfied: scipy<2.0.0 in /usr/local/lib/python3.11/dist-packages (from pykalman) (1.15.3)\n",
            "Downloading pykalman-0.10.1-py2.py3-none-any.whl (248 kB)\n",
            "\u001b[2K   \u001b[90m━━━━━━━━━━━━━━━━━━━━━━━━━━━━━━━━━━━━━━━━\u001b[0m \u001b[32m248.5/248.5 kB\u001b[0m \u001b[31m8.8 MB/s\u001b[0m eta \u001b[36m0:00:00\u001b[0m\n",
            "\u001b[?25hDownloading scikit_base-0.12.3-py3-none-any.whl (145 kB)\n",
            "\u001b[2K   \u001b[90m━━━━━━━━━━━━━━━━━━━━━━━━━━━━━━━━━━━━━━━━\u001b[0m \u001b[32m145.5/145.5 kB\u001b[0m \u001b[31m16.4 MB/s\u001b[0m eta \u001b[36m0:00:00\u001b[0m\n",
            "\u001b[?25hInstalling collected packages: scikit-base, pykalman\n",
            "Successfully installed pykalman-0.10.1 scikit-base-0.12.3\n"
          ]
        }
      ]
    },
    {
      "cell_type": "code",
      "source": [
        "!python inference.py -s assets/examples/source/s9.jpg -d assets/examples/driving/d0.mp4"
      ],
      "metadata": {
        "colab": {
          "base_uri": "https://localhost:8080/"
        },
        "collapsed": true,
        "id": "SOZHPP2t0f4l",
        "outputId": "7b26b837-db35-481b-c96b-1edf100a3a40"
      },
      "execution_count": 15,
      "outputs": [
        {
          "output_type": "stream",
          "name": "stdout",
          "text": [
            "\u001b[2;36m[15:04:03]\u001b[0m\u001b[2;36m \u001b[0mLoad appearance_feature_extractor from    \u001b]8;id=695986;file:///content/LivePortrait/src/live_portrait_wrapper.py\u001b\\\u001b[2mlive_portrait_wrapper.py\u001b[0m\u001b]8;;\u001b\\\u001b[2m:\u001b[0m\u001b]8;id=487160;file:///content/LivePortrait/src/live_portrait_wrapper.py#46\u001b\\\u001b[2m46\u001b[0m\u001b]8;;\u001b\\\n",
            "\u001b[2;36m           \u001b[0m\u001b[35m/content/LivePortrait/pretrained_weights/\u001b[0m \u001b[2m                           \u001b[0m\n",
            "\u001b[2;36m           \u001b[0m\u001b[35mliveportrait/base_models/\u001b[0m\u001b[95mappearance_featu\u001b[0m \u001b[2m                           \u001b[0m\n",
            "\u001b[2;36m           \u001b[0m\u001b[95mre_extractor.pth\u001b[0m done.                    \u001b[2m                           \u001b[0m\n",
            "\u001b[2;36m          \u001b[0m\u001b[2;36m \u001b[0mLoad motion_extractor from                \u001b]8;id=328526;file:///content/LivePortrait/src/live_portrait_wrapper.py\u001b\\\u001b[2mlive_portrait_wrapper.py\u001b[0m\u001b]8;;\u001b\\\u001b[2m:\u001b[0m\u001b]8;id=180711;file:///content/LivePortrait/src/live_portrait_wrapper.py#49\u001b\\\u001b[2m49\u001b[0m\u001b]8;;\u001b\\\n",
            "\u001b[2;36m           \u001b[0m\u001b[35m/content/LivePortrait/pretrained_weights/\u001b[0m \u001b[2m                           \u001b[0m\n",
            "\u001b[2;36m           \u001b[0m\u001b[35mliveportrait/base_models/\u001b[0m\u001b[95mmotion_extractor\u001b[0m \u001b[2m                           \u001b[0m\n",
            "\u001b[2;36m           \u001b[0m\u001b[95m.pth\u001b[0m done.                                \u001b[2m                           \u001b[0m\n",
            "\u001b[2;36m[15:04:04]\u001b[0m\u001b[2;36m \u001b[0mLoad warping_module from                  \u001b]8;id=59256;file:///content/LivePortrait/src/live_portrait_wrapper.py\u001b\\\u001b[2mlive_portrait_wrapper.py\u001b[0m\u001b]8;;\u001b\\\u001b[2m:\u001b[0m\u001b]8;id=806797;file:///content/LivePortrait/src/live_portrait_wrapper.py#52\u001b\\\u001b[2m52\u001b[0m\u001b]8;;\u001b\\\n",
            "\u001b[2;36m           \u001b[0m\u001b[35m/content/LivePortrait/pretrained_weights/\u001b[0m \u001b[2m                           \u001b[0m\n",
            "\u001b[2;36m           \u001b[0m\u001b[35mliveportrait/base_models/\u001b[0m\u001b[95mwarping_module.p\u001b[0m \u001b[2m                           \u001b[0m\n",
            "\u001b[2;36m           \u001b[0m\u001b[95mth\u001b[0m done.                                  \u001b[2m                           \u001b[0m\n",
            "\u001b[2;36m[15:04:05]\u001b[0m\u001b[2;36m \u001b[0mLoad spade_generator from                 \u001b]8;id=876048;file:///content/LivePortrait/src/live_portrait_wrapper.py\u001b\\\u001b[2mlive_portrait_wrapper.py\u001b[0m\u001b]8;;\u001b\\\u001b[2m:\u001b[0m\u001b]8;id=707024;file:///content/LivePortrait/src/live_portrait_wrapper.py#55\u001b\\\u001b[2m55\u001b[0m\u001b]8;;\u001b\\\n",
            "\u001b[2;36m           \u001b[0m\u001b[35m/content/LivePortrait/pretrained_weights/\u001b[0m \u001b[2m                           \u001b[0m\n",
            "\u001b[2;36m           \u001b[0m\u001b[35mliveportrait/base_models/\u001b[0m\u001b[95mspade_generator.\u001b[0m \u001b[2m                           \u001b[0m\n",
            "\u001b[2;36m           \u001b[0m\u001b[95mpth\u001b[0m done.                                 \u001b[2m                           \u001b[0m\n",
            "\u001b[2;36m          \u001b[0m\u001b[2;36m \u001b[0mLoad stitching_retargeting_module from    \u001b]8;id=306496;file:///content/LivePortrait/src/live_portrait_wrapper.py\u001b\\\u001b[2mlive_portrait_wrapper.py\u001b[0m\u001b]8;;\u001b\\\u001b[2m:\u001b[0m\u001b]8;id=174239;file:///content/LivePortrait/src/live_portrait_wrapper.py#59\u001b\\\u001b[2m59\u001b[0m\u001b]8;;\u001b\\\n",
            "\u001b[2;36m           \u001b[0m\u001b[35m/content/LivePortrait/pretrained_weights/\u001b[0m \u001b[2m                           \u001b[0m\n",
            "\u001b[2;36m           \u001b[0m\u001b[35mliveportrait/retargeting_models/\u001b[0m\u001b[95mstitching\u001b[0m \u001b[2m                           \u001b[0m\n",
            "\u001b[2;36m           \u001b[0m\u001b[95m_retargeting_module.pth\u001b[0m done.             \u001b[2m                           \u001b[0m\n",
            "/usr/local/lib/python3.11/dist-packages/onnxruntime/capi/onnxruntime_inference_collection.py:121: UserWarning: Specified provider 'CUDAExecutionProvider' is not in available provider names.Available providers: 'AzureExecutionProvider, CPUExecutionProvider'\n",
            "  warnings.warn(\n",
            "\u001b[2;36m[15:04:06]\u001b[0m\u001b[2;36m \u001b[0mFaceAnalysisDIY warmup time: \u001b[1;36m0.\u001b[0m231s           \u001b]8;id=230314;file:///content/LivePortrait/src/utils/face_analysis_diy.py\u001b\\\u001b[2mface_analysis_diy.py\u001b[0m\u001b]8;;\u001b\\\u001b[2m:\u001b[0m\u001b]8;id=677975;file:///content/LivePortrait/src/utils/face_analysis_diy.py#79\u001b\\\u001b[2m79\u001b[0m\u001b]8;;\u001b\\\n",
            "\u001b[2;36m          \u001b[0m\u001b[2;36m \u001b[0mLandmarkRunner warmup time: \u001b[1;36m0.\u001b[0m146s        \u001b]8;id=368449;file:///content/LivePortrait/src/utils/human_landmark_runner.py\u001b\\\u001b[2mhuman_landmark_runner.py\u001b[0m\u001b]8;;\u001b\\\u001b[2m:\u001b[0m\u001b]8;id=394236;file:///content/LivePortrait/src/utils/human_landmark_runner.py#95\u001b\\\u001b[2m95\u001b[0m\u001b]8;;\u001b\\\n",
            "\u001b[2;36m          \u001b[0m\u001b[2;36m \u001b[0mLoad source image from                   \u001b]8;id=259812;file:///content/LivePortrait/src/live_portrait_pipeline.py\u001b\\\u001b[2mlive_portrait_pipeline.py\u001b[0m\u001b]8;;\u001b\\\u001b[2m:\u001b[0m\u001b]8;id=212259;file:///content/LivePortrait/src/live_portrait_pipeline.py#90\u001b\\\u001b[2m90\u001b[0m\u001b]8;;\u001b\\\n",
            "\u001b[2;36m           \u001b[0massets/examples/source/s9.jpg            \u001b[2m                            \u001b[0m\n",
            "\u001b[2;36m          \u001b[0m\u001b[2;36m \u001b[0mLoad driving video from:                \u001b]8;id=450820;file:///content/LivePortrait/src/live_portrait_pipeline.py\u001b\\\u001b[2mlive_portrait_pipeline.py\u001b[0m\u001b]8;;\u001b\\\u001b[2m:\u001b[0m\u001b]8;id=911614;file:///content/LivePortrait/src/live_portrait_pipeline.py#133\u001b\\\u001b[2m133\u001b[0m\u001b]8;;\u001b\\\n",
            "\u001b[2;36m           \u001b[0massets/examples/driving/d0.mp4, FPS is  \u001b[2m                             \u001b[0m\n",
            "\u001b[2;36m           \u001b[0m\u001b[1;36m25\u001b[0m                                      \u001b[2m                             \u001b[0m\n",
            "\u001b[2;36m[15:04:07]\u001b[0m\u001b[2;36m \u001b[0mStart making driving motion template\u001b[33m...\u001b[0m \u001b]8;id=651740;file:///content/LivePortrait/src/live_portrait_pipeline.py\u001b\\\u001b[2mlive_portrait_pipeline.py\u001b[0m\u001b]8;;\u001b\\\u001b[2m:\u001b[0m\u001b]8;id=138003;file:///content/LivePortrait/src/live_portrait_pipeline.py#144\u001b\\\u001b[2m144\u001b[0m\u001b]8;;\u001b\\\n",
            "\u001b[2KMaking motion templates... \u001b[90m━━━━━━━━━━━━━━━━━━━━━━━━━━━━━━━━━━━━━━━━\u001b[0m \u001b[35m100%\u001b[0m \u001b[33m0:00:02\u001b[0m\n",
            "\u001b[?25h\u001b[2;36m[15:04:26]\u001b[0m\u001b[2;36m \u001b[0mDump motion template to                 \u001b]8;id=890604;file:///content/LivePortrait/src/live_portrait_pipeline.py\u001b\\\u001b[2mlive_portrait_pipeline.py\u001b[0m\u001b]8;;\u001b\\\u001b[2m:\u001b[0m\u001b]8;id=551440;file:///content/LivePortrait/src/live_portrait_pipeline.py#172\u001b\\\u001b[2m172\u001b[0m\u001b]8;;\u001b\\\n",
            "\u001b[2;36m           \u001b[0massets/examples/driving/d0.pkl          \u001b[2m                             \u001b[0m\n",
            "\u001b[2;36m          \u001b[0m\u001b[2;36m \u001b[0mPrepared pasteback mask done.           \u001b]8;id=634168;file:///content/LivePortrait/src/live_portrait_pipeline.py\u001b\\\u001b[2mlive_portrait_pipeline.py\u001b[0m\u001b]8;;\u001b\\\u001b[2m:\u001b[0m\u001b]8;id=911099;file:///content/LivePortrait/src/live_portrait_pipeline.py#183\u001b\\\u001b[2m183\u001b[0m\u001b]8;;\u001b\\\n",
            "\u001b[2;36m[15:04:27]\u001b[0m\u001b[2;36m \u001b[0mThe animated video consists of \u001b[1;36m78\u001b[0m       \u001b]8;id=495222;file:///content/LivePortrait/src/live_portrait_pipeline.py\u001b\\\u001b[2mlive_portrait_pipeline.py\u001b[0m\u001b]8;;\u001b\\\u001b[2m:\u001b[0m\u001b]8;id=233219;file:///content/LivePortrait/src/live_portrait_pipeline.py#270\u001b\\\u001b[2m270\u001b[0m\u001b]8;;\u001b\\\n",
            "\u001b[2;36m           \u001b[0mframes.                                 \u001b[2m                             \u001b[0m\n",
            "\u001b[2K🚀Animating... \u001b[90m━━━━━━━━━━━━━━━━━━━━━━━━━━━━━━━━━━━━━━━━\u001b[0m \u001b[35m100%\u001b[0m \u001b[33m0:00:13\u001b[0m\n",
            "\u001b[2KConcatenating result... \u001b[90m━━━━━━━━━━━━━━━━━━━━━━━━━━━━━━━━━━━━━━━━\u001b[0m \u001b[35m100%\u001b[0m \u001b[33m0:00:00\u001b[0m\n",
            "\u001b[2KWriting \u001b[90m━━━━━━━━━━━━━━━━━━━━━━━━━━━━━━━━━━━━━━━━\u001b[0m \u001b[35m100%\u001b[0m \u001b[33m0:00:00\u001b[0m\n",
            "\u001b[2KWriting \u001b[90m━━━━━━━━━━━━━━━━━━━━━━━━━━━━━━━━━━━━━━━━\u001b[0m \u001b[35m100%\u001b[0m \u001b[33m0:00:00\u001b[0m\n",
            "\u001b[1A\u001b[2K\u001b[2;36m[15:04:46]\u001b[0m\u001b[2;36m \u001b[0m\u001b[1;32mAnimated template:                     \u001b[0m \u001b]8;id=605816;file:///content/LivePortrait/src/live_portrait_pipeline.py\u001b\\\u001b[2mlive_portrait_pipeline.py\u001b[0m\u001b]8;;\u001b\\\u001b[2m:\u001b[0m\u001b]8;id=828450;file:///content/LivePortrait/src/live_portrait_pipeline.py#503\u001b\\\u001b[2m503\u001b[0m\u001b]8;;\u001b\\\n",
            "\u001b[2;36m           \u001b[0m\u001b[1;32massets/examples/driving/d0.pkl, you can\u001b[0m \u001b[2m                             \u001b[0m\n",
            "\u001b[2;36m           \u001b[0m\u001b[1;32mspecify `-d` argument with this        \u001b[0m \u001b[2m                             \u001b[0m\n",
            "\u001b[2;36m           \u001b[0m\u001b[1;32mtemplate path next time to avoid       \u001b[0m \u001b[2m                             \u001b[0m\n",
            "\u001b[2;36m           \u001b[0m\u001b[1;32mcropping video, motion making and      \u001b[0m \u001b[2m                             \u001b[0m\n",
            "\u001b[2;36m           \u001b[0m\u001b[1;32mprotecting privacy.                    \u001b[0m \u001b[2m                             \u001b[0m\n",
            "\u001b[2;36m          \u001b[0m\u001b[2;36m \u001b[0mAnimated video: animations/s9--d0.mp4   \u001b]8;id=718418;file:///content/LivePortrait/src/live_portrait_pipeline.py\u001b\\\u001b[2mlive_portrait_pipeline.py\u001b[0m\u001b]8;;\u001b\\\u001b[2m:\u001b[0m\u001b]8;id=46315;file:///content/LivePortrait/src/live_portrait_pipeline.py#504\u001b\\\u001b[2m504\u001b[0m\u001b]8;;\u001b\\\n",
            "\u001b[2;36m          \u001b[0m\u001b[2;36m \u001b[0mAnimated video with concat:             \u001b]8;id=945444;file:///content/LivePortrait/src/live_portrait_pipeline.py\u001b\\\u001b[2mlive_portrait_pipeline.py\u001b[0m\u001b]8;;\u001b\\\u001b[2m:\u001b[0m\u001b]8;id=781776;file:///content/LivePortrait/src/live_portrait_pipeline.py#505\u001b\\\u001b[2m505\u001b[0m\u001b]8;;\u001b\\\n",
            "\u001b[2;36m           \u001b[0manimations/s9--d0_concat.mp4            \u001b[2m                             \u001b[0m\n"
          ]
        }
      ]
    },
    {
      "cell_type": "code",
      "source": [
        "%%writefile inference.py\n",
        "# coding: utf-8\n",
        "\"\"\"\n",
        "The entrance of humans\n",
        "\"\"\"\n",
        "\n",
        "import os\n",
        "import os.path as osp\n",
        "import tyro\n",
        "import subprocess\n",
        "import time\n",
        "import sys\n",
        "from src.config.argument_config import ArgumentConfig\n",
        "from src.config.inference_config import InferenceConfig\n",
        "from src.config.crop_config import CropConfig\n",
        "from src.live_portrait_pipeline import LivePortraitPipeline\n",
        "\n",
        "\n",
        "def partial_fields(target_class, kwargs):\n",
        "    return target_class(**{k: v for k, v in kwargs.items() if hasattr(target_class, k)})\n",
        "\n",
        "\n",
        "def fast_check_ffmpeg():\n",
        "    try:\n",
        "        subprocess.run([\"ffmpeg\", \"-version\"], capture_output=True, check=True)\n",
        "        return True\n",
        "    except Exception as e:\n",
        "        print(f\"❌ FFmpeg check failed: {e}\")\n",
        "        sys.stdout.flush()\n",
        "        return False\n",
        "\n",
        "\n",
        "def fast_check_args(args: ArgumentConfig):\n",
        "    if not osp.exists(args.source):\n",
        "        raise FileNotFoundError(f\"source info not found: {args.source}\")\n",
        "    if not osp.exists(args.driving):\n",
        "        raise FileNotFoundError(f\"driving info not found: {args.driving}\")\n",
        "\n",
        "\n",
        "def main():\n",
        "    # set tyro theme\n",
        "    tyro.extras.set_accent_color(\"bright_cyan\")\n",
        "    args = tyro.cli(ArgumentConfig)\n",
        "\n",
        "    # ✅ Enabled AMP (Mixed Precision) Inference\n",
        "    args.flag_use_half_precision = True\n",
        "\n",
        "    ffmpeg_dir = os.path.join(os.getcwd(), \"ffmpeg\")\n",
        "    if osp.exists(ffmpeg_dir):\n",
        "        os.environ[\"PATH\"] += (os.pathsep + ffmpeg_dir)\n",
        "\n",
        "    if not fast_check_ffmpeg():\n",
        "        raise ImportError(\"FFmpeg is not installed. Please install it: https://ffmpeg.org/download.html\")\n",
        "\n",
        "    fast_check_args(args)\n",
        "\n",
        "    inference_cfg = partial_fields(InferenceConfig, args.__dict__)\n",
        "    crop_cfg = partial_fields(CropConfig, args.__dict__)\n",
        "\n",
        "    live_portrait_pipeline = LivePortraitPipeline(\n",
        "        inference_cfg=inference_cfg,\n",
        "        crop_cfg=crop_cfg\n",
        "    )\n",
        "\n",
        "    try:\n",
        "        print(\"⚠️ BEFORE EXECUTE\")\n",
        "        sys.stdout.flush()\n",
        "\n",
        "        start_time = time.time()\n",
        "        live_portrait_pipeline.execute(args)\n",
        "        end_time = time.time()\n",
        "\n",
        "        print(\"⚠️ AFTER EXECUTE\")\n",
        "        sys.stdout.flush()\n",
        "\n",
        "        print(f\"✅ Inference Time: {end_time - start_time:.2f} seconds\")\n",
        "        sys.stdout.flush()\n",
        "\n",
        "        with open(\"log.txt\", \"w\") as f:\n",
        "            f.write(f\"Inference Time: {end_time - start_time:.2f} seconds\\n\")\n",
        "\n",
        "    except Exception as e:\n",
        "        print(f\"❌ CRASHED during execution: {repr(e)}\")\n",
        "        sys.stdout.flush()\n",
        "        with open(\"log.txt\", \"w\") as f:\n",
        "            f.write(f\"Execution failed: {repr(e)}\\n\")\n",
        "\n",
        "\n",
        "if __name__ == \"__main__\":\n",
        "    main()\n",
        "\n",
        "\n"
      ],
      "metadata": {
        "colab": {
          "base_uri": "https://localhost:8080/"
        },
        "id": "eG-kM_Pa7_kZ",
        "outputId": "6a2c423b-bd5c-487f-e8fc-dbff3231fb9b"
      },
      "execution_count": 29,
      "outputs": [
        {
          "output_type": "stream",
          "name": "stdout",
          "text": [
            "Overwriting inference.py\n"
          ]
        }
      ]
    },
    {
      "cell_type": "code",
      "source": [
        "!python inference.py -s assets/examples/source/lohith.jpg -d assets/examples/driving/d0.mp4"
      ],
      "metadata": {
        "colab": {
          "base_uri": "https://localhost:8080/"
        },
        "id": "jG4ZZyez9FZa",
        "outputId": "e517a555-b5c8-457a-f047-e54224bdc81c"
      },
      "execution_count": 30,
      "outputs": [
        {
          "output_type": "stream",
          "name": "stdout",
          "text": [
            "\u001b[2;36m[15:11:47]\u001b[0m\u001b[2;36m \u001b[0mLoad appearance_feature_extractor from    \u001b]8;id=652046;file:///content/LivePortrait/src/live_portrait_wrapper.py\u001b\\\u001b[2mlive_portrait_wrapper.py\u001b[0m\u001b]8;;\u001b\\\u001b[2m:\u001b[0m\u001b]8;id=436418;file:///content/LivePortrait/src/live_portrait_wrapper.py#46\u001b\\\u001b[2m46\u001b[0m\u001b]8;;\u001b\\\n",
            "\u001b[2;36m           \u001b[0m\u001b[35m/content/LivePortrait/pretrained_weights/\u001b[0m \u001b[2m                           \u001b[0m\n",
            "\u001b[2;36m           \u001b[0m\u001b[35mliveportrait/base_models/\u001b[0m\u001b[95mappearance_featu\u001b[0m \u001b[2m                           \u001b[0m\n",
            "\u001b[2;36m           \u001b[0m\u001b[95mre_extractor.pth\u001b[0m done.                    \u001b[2m                           \u001b[0m\n",
            "\u001b[2;36m          \u001b[0m\u001b[2;36m \u001b[0mLoad motion_extractor from                \u001b]8;id=462847;file:///content/LivePortrait/src/live_portrait_wrapper.py\u001b\\\u001b[2mlive_portrait_wrapper.py\u001b[0m\u001b]8;;\u001b\\\u001b[2m:\u001b[0m\u001b]8;id=705050;file:///content/LivePortrait/src/live_portrait_wrapper.py#49\u001b\\\u001b[2m49\u001b[0m\u001b]8;;\u001b\\\n",
            "\u001b[2;36m           \u001b[0m\u001b[35m/content/LivePortrait/pretrained_weights/\u001b[0m \u001b[2m                           \u001b[0m\n",
            "\u001b[2;36m           \u001b[0m\u001b[35mliveportrait/base_models/\u001b[0m\u001b[95mmotion_extractor\u001b[0m \u001b[2m                           \u001b[0m\n",
            "\u001b[2;36m           \u001b[0m\u001b[95m.pth\u001b[0m done.                                \u001b[2m                           \u001b[0m\n",
            "\u001b[2;36m[15:11:48]\u001b[0m\u001b[2;36m \u001b[0mLoad warping_module from                  \u001b]8;id=983012;file:///content/LivePortrait/src/live_portrait_wrapper.py\u001b\\\u001b[2mlive_portrait_wrapper.py\u001b[0m\u001b]8;;\u001b\\\u001b[2m:\u001b[0m\u001b]8;id=410564;file:///content/LivePortrait/src/live_portrait_wrapper.py#52\u001b\\\u001b[2m52\u001b[0m\u001b]8;;\u001b\\\n",
            "\u001b[2;36m           \u001b[0m\u001b[35m/content/LivePortrait/pretrained_weights/\u001b[0m \u001b[2m                           \u001b[0m\n",
            "\u001b[2;36m           \u001b[0m\u001b[35mliveportrait/base_models/\u001b[0m\u001b[95mwarping_module.p\u001b[0m \u001b[2m                           \u001b[0m\n",
            "\u001b[2;36m           \u001b[0m\u001b[95mth\u001b[0m done.                                  \u001b[2m                           \u001b[0m\n",
            "\u001b[2;36m          \u001b[0m\u001b[2;36m \u001b[0mLoad spade_generator from                 \u001b]8;id=841786;file:///content/LivePortrait/src/live_portrait_wrapper.py\u001b\\\u001b[2mlive_portrait_wrapper.py\u001b[0m\u001b]8;;\u001b\\\u001b[2m:\u001b[0m\u001b]8;id=371879;file:///content/LivePortrait/src/live_portrait_wrapper.py#55\u001b\\\u001b[2m55\u001b[0m\u001b]8;;\u001b\\\n",
            "\u001b[2;36m           \u001b[0m\u001b[35m/content/LivePortrait/pretrained_weights/\u001b[0m \u001b[2m                           \u001b[0m\n",
            "\u001b[2;36m           \u001b[0m\u001b[35mliveportrait/base_models/\u001b[0m\u001b[95mspade_generator.\u001b[0m \u001b[2m                           \u001b[0m\n",
            "\u001b[2;36m           \u001b[0m\u001b[95mpth\u001b[0m done.                                 \u001b[2m                           \u001b[0m\n",
            "\u001b[2;36m          \u001b[0m\u001b[2;36m \u001b[0mLoad stitching_retargeting_module from    \u001b]8;id=611651;file:///content/LivePortrait/src/live_portrait_wrapper.py\u001b\\\u001b[2mlive_portrait_wrapper.py\u001b[0m\u001b]8;;\u001b\\\u001b[2m:\u001b[0m\u001b]8;id=600199;file:///content/LivePortrait/src/live_portrait_wrapper.py#59\u001b\\\u001b[2m59\u001b[0m\u001b]8;;\u001b\\\n",
            "\u001b[2;36m           \u001b[0m\u001b[35m/content/LivePortrait/pretrained_weights/\u001b[0m \u001b[2m                           \u001b[0m\n",
            "\u001b[2;36m           \u001b[0m\u001b[35mliveportrait/retargeting_models/\u001b[0m\u001b[95mstitching\u001b[0m \u001b[2m                           \u001b[0m\n",
            "\u001b[2;36m           \u001b[0m\u001b[95m_retargeting_module.pth\u001b[0m done.             \u001b[2m                           \u001b[0m\n",
            "/usr/local/lib/python3.11/dist-packages/onnxruntime/capi/onnxruntime_inference_collection.py:121: UserWarning: Specified provider 'CUDAExecutionProvider' is not in available provider names.Available providers: 'AzureExecutionProvider, CPUExecutionProvider'\n",
            "  warnings.warn(\n",
            "\u001b[2;36m[15:11:49]\u001b[0m\u001b[2;36m \u001b[0mFaceAnalysisDIY warmup time: \u001b[1;36m0.\u001b[0m233s           \u001b]8;id=101916;file:///content/LivePortrait/src/utils/face_analysis_diy.py\u001b\\\u001b[2mface_analysis_diy.py\u001b[0m\u001b]8;;\u001b\\\u001b[2m:\u001b[0m\u001b]8;id=491595;file:///content/LivePortrait/src/utils/face_analysis_diy.py#79\u001b\\\u001b[2m79\u001b[0m\u001b]8;;\u001b\\\n",
            "\u001b[2;36m          \u001b[0m\u001b[2;36m \u001b[0mLandmarkRunner warmup time: \u001b[1;36m0.\u001b[0m157s        \u001b]8;id=616952;file:///content/LivePortrait/src/utils/human_landmark_runner.py\u001b\\\u001b[2mhuman_landmark_runner.py\u001b[0m\u001b]8;;\u001b\\\u001b[2m:\u001b[0m\u001b]8;id=469198;file:///content/LivePortrait/src/utils/human_landmark_runner.py#95\u001b\\\u001b[2m95\u001b[0m\u001b]8;;\u001b\\\n",
            "⚠️ BEFORE EXECUTE\n",
            "\u001b[2;36m          \u001b[0m\u001b[2;36m \u001b[0mLoad source image from                   \u001b]8;id=168448;file:///content/LivePortrait/src/live_portrait_pipeline.py\u001b\\\u001b[2mlive_portrait_pipeline.py\u001b[0m\u001b]8;;\u001b\\\u001b[2m:\u001b[0m\u001b]8;id=273174;file:///content/LivePortrait/src/live_portrait_pipeline.py#90\u001b\\\u001b[2m90\u001b[0m\u001b]8;;\u001b\\\n",
            "\u001b[2;36m           \u001b[0massets/examples/source/lohith.jpg        \u001b[2m                            \u001b[0m\n",
            "\u001b[2;36m          \u001b[0m\u001b[2;36m \u001b[0mLoad driving video from:                \u001b]8;id=547140;file:///content/LivePortrait/src/live_portrait_pipeline.py\u001b\\\u001b[2mlive_portrait_pipeline.py\u001b[0m\u001b]8;;\u001b\\\u001b[2m:\u001b[0m\u001b]8;id=124426;file:///content/LivePortrait/src/live_portrait_pipeline.py#133\u001b\\\u001b[2m133\u001b[0m\u001b]8;;\u001b\\\n",
            "\u001b[2;36m           \u001b[0massets/examples/driving/d0.mp4, FPS is  \u001b[2m                             \u001b[0m\n",
            "\u001b[2;36m           \u001b[0m\u001b[1;36m25\u001b[0m                                      \u001b[2m                             \u001b[0m\n",
            "\u001b[2;36m[15:11:50]\u001b[0m\u001b[2;36m \u001b[0mStart making driving motion template\u001b[33m...\u001b[0m \u001b]8;id=561051;file:///content/LivePortrait/src/live_portrait_pipeline.py\u001b\\\u001b[2mlive_portrait_pipeline.py\u001b[0m\u001b]8;;\u001b\\\u001b[2m:\u001b[0m\u001b]8;id=228217;file:///content/LivePortrait/src/live_portrait_pipeline.py#144\u001b\\\u001b[2m144\u001b[0m\u001b]8;;\u001b\\\n",
            "\u001b[2KMaking motion templates... \u001b[90m━━━━━━━━━━━━━━━━━━━━━━━━━━━━━━━━━━━━━━━━\u001b[0m \u001b[35m100%\u001b[0m \u001b[33m0:00:01\u001b[0m\n",
            "\u001b[?25h\u001b[2;36m[15:12:08]\u001b[0m\u001b[2;36m \u001b[0mDump motion template to                 \u001b]8;id=951700;file:///content/LivePortrait/src/live_portrait_pipeline.py\u001b\\\u001b[2mlive_portrait_pipeline.py\u001b[0m\u001b]8;;\u001b\\\u001b[2m:\u001b[0m\u001b]8;id=841834;file:///content/LivePortrait/src/live_portrait_pipeline.py#172\u001b\\\u001b[2m172\u001b[0m\u001b]8;;\u001b\\\n",
            "\u001b[2;36m           \u001b[0massets/examples/driving/d0.pkl          \u001b[2m                             \u001b[0m\n",
            "\u001b[2;36m          \u001b[0m\u001b[2;36m \u001b[0mPrepared pasteback mask done.           \u001b]8;id=340211;file:///content/LivePortrait/src/live_portrait_pipeline.py\u001b\\\u001b[2mlive_portrait_pipeline.py\u001b[0m\u001b]8;;\u001b\\\u001b[2m:\u001b[0m\u001b]8;id=656525;file:///content/LivePortrait/src/live_portrait_pipeline.py#183\u001b\\\u001b[2m183\u001b[0m\u001b]8;;\u001b\\\n",
            "\u001b[2;36m[15:12:09]\u001b[0m\u001b[2;36m \u001b[0mThe animated video consists of \u001b[1;36m78\u001b[0m       \u001b]8;id=721982;file:///content/LivePortrait/src/live_portrait_pipeline.py\u001b\\\u001b[2mlive_portrait_pipeline.py\u001b[0m\u001b]8;;\u001b\\\u001b[2m:\u001b[0m\u001b]8;id=175703;file:///content/LivePortrait/src/live_portrait_pipeline.py#270\u001b\\\u001b[2m270\u001b[0m\u001b]8;;\u001b\\\n",
            "\u001b[2;36m           \u001b[0mframes.                                 \u001b[2m                             \u001b[0m\n",
            "\u001b[2K🚀Animating... \u001b[90m━━━━━━━━━━━━━━━━━━━━━━━━━━━━━━━━━━━━━━━━\u001b[0m \u001b[35m100%\u001b[0m \u001b[33m0:00:12\u001b[0m\n",
            "\u001b[2KConcatenating result... \u001b[90m━━━━━━━━━━━━━━━━━━━━━━━━━━━━━━━━━━━━━━━━\u001b[0m \u001b[35m100%\u001b[0m \u001b[33m0:00:00\u001b[0m\n",
            "\u001b[2KWriting \u001b[90m━━━━━━━━━━━━━━━━━━━━━━━━━━━━━━━━━━━━━━━━\u001b[0m \u001b[35m100%\u001b[0m \u001b[33m0:00:00\u001b[0m\n",
            "\u001b[2KWriting \u001b[90m━━━━━━━━━━━━━━━━━━━━━━━━━━━━━━━━━━━━━━━━\u001b[0m \u001b[35m100%\u001b[0m \u001b[33m0:00:00\u001b[0m\n",
            "\u001b[1A\u001b[2K\u001b[2;36m[15:12:27]\u001b[0m\u001b[2;36m \u001b[0m\u001b[1;32mAnimated template:                     \u001b[0m \u001b]8;id=270115;file:///content/LivePortrait/src/live_portrait_pipeline.py\u001b\\\u001b[2mlive_portrait_pipeline.py\u001b[0m\u001b]8;;\u001b\\\u001b[2m:\u001b[0m\u001b]8;id=386995;file:///content/LivePortrait/src/live_portrait_pipeline.py#503\u001b\\\u001b[2m503\u001b[0m\u001b]8;;\u001b\\\n",
            "\u001b[2;36m           \u001b[0m\u001b[1;32massets/examples/driving/d0.pkl, you can\u001b[0m \u001b[2m                             \u001b[0m\n",
            "\u001b[2;36m           \u001b[0m\u001b[1;32mspecify `-d` argument with this        \u001b[0m \u001b[2m                             \u001b[0m\n",
            "\u001b[2;36m           \u001b[0m\u001b[1;32mtemplate path next time to avoid       \u001b[0m \u001b[2m                             \u001b[0m\n",
            "\u001b[2;36m           \u001b[0m\u001b[1;32mcropping video, motion making and      \u001b[0m \u001b[2m                             \u001b[0m\n",
            "\u001b[2;36m           \u001b[0m\u001b[1;32mprotecting privacy.                    \u001b[0m \u001b[2m                             \u001b[0m\n",
            "\u001b[2;36m          \u001b[0m\u001b[2;36m \u001b[0mAnimated video:                         \u001b]8;id=29153;file:///content/LivePortrait/src/live_portrait_pipeline.py\u001b\\\u001b[2mlive_portrait_pipeline.py\u001b[0m\u001b]8;;\u001b\\\u001b[2m:\u001b[0m\u001b]8;id=761111;file:///content/LivePortrait/src/live_portrait_pipeline.py#504\u001b\\\u001b[2m504\u001b[0m\u001b]8;;\u001b\\\n",
            "\u001b[2;36m           \u001b[0manimations/lohith--d0.mp4               \u001b[2m                             \u001b[0m\n",
            "\u001b[2;36m          \u001b[0m\u001b[2;36m \u001b[0mAnimated video with concat:             \u001b]8;id=59488;file:///content/LivePortrait/src/live_portrait_pipeline.py\u001b\\\u001b[2mlive_portrait_pipeline.py\u001b[0m\u001b]8;;\u001b\\\u001b[2m:\u001b[0m\u001b]8;id=369964;file:///content/LivePortrait/src/live_portrait_pipeline.py#505\u001b\\\u001b[2m505\u001b[0m\u001b]8;;\u001b\\\n",
            "\u001b[2;36m           \u001b[0manimations/lohith--d0_concat.mp4        \u001b[2m                             \u001b[0m\n",
            "⚠️ AFTER EXECUTE\n",
            "✅ Inference Time: 37.98 seconds\n"
          ]
        }
      ]
    },
    {
      "cell_type": "code",
      "source": [
        "!python -u inference.py"
      ],
      "metadata": {
        "colab": {
          "base_uri": "https://localhost:8080/"
        },
        "id": "Zqj0XlKy-A9i",
        "outputId": "5f59d9b3-20e1-40fb-c995-cfe879a97239"
      },
      "execution_count": 31,
      "outputs": [
        {
          "output_type": "stream",
          "name": "stdout",
          "text": [
            "\u001b[2;36m[15:13:31]\u001b[0m\u001b[2;36m \u001b[0mLoad appearance_feature_extractor from    \u001b]8;id=728866;file:///content/LivePortrait/src/live_portrait_wrapper.py\u001b\\\u001b[2mlive_portrait_wrapper.py\u001b[0m\u001b]8;;\u001b\\\u001b[2m:\u001b[0m\u001b]8;id=736716;file:///content/LivePortrait/src/live_portrait_wrapper.py#46\u001b\\\u001b[2m46\u001b[0m\u001b]8;;\u001b\\\n",
            "\u001b[2;36m           \u001b[0m\u001b[35m/content/LivePortrait/pretrained_weights/\u001b[0m \u001b[2m                           \u001b[0m\n",
            "\u001b[2;36m           \u001b[0m\u001b[35mliveportrait/base_models/\u001b[0m\u001b[95mappearance_featu\u001b[0m \u001b[2m                           \u001b[0m\n",
            "\u001b[2;36m           \u001b[0m\u001b[95mre_extractor.pth\u001b[0m done.                    \u001b[2m                           \u001b[0m\n",
            "\u001b[2;36m          \u001b[0m\u001b[2;36m \u001b[0mLoad motion_extractor from                \u001b]8;id=208768;file:///content/LivePortrait/src/live_portrait_wrapper.py\u001b\\\u001b[2mlive_portrait_wrapper.py\u001b[0m\u001b]8;;\u001b\\\u001b[2m:\u001b[0m\u001b]8;id=4165;file:///content/LivePortrait/src/live_portrait_wrapper.py#49\u001b\\\u001b[2m49\u001b[0m\u001b]8;;\u001b\\\n",
            "\u001b[2;36m           \u001b[0m\u001b[35m/content/LivePortrait/pretrained_weights/\u001b[0m \u001b[2m                           \u001b[0m\n",
            "\u001b[2;36m           \u001b[0m\u001b[35mliveportrait/base_models/\u001b[0m\u001b[95mmotion_extractor\u001b[0m \u001b[2m                           \u001b[0m\n",
            "\u001b[2;36m           \u001b[0m\u001b[95m.pth\u001b[0m done.                                \u001b[2m                           \u001b[0m\n",
            "\u001b[2;36m[15:13:32]\u001b[0m\u001b[2;36m \u001b[0mLoad warping_module from                  \u001b]8;id=405830;file:///content/LivePortrait/src/live_portrait_wrapper.py\u001b\\\u001b[2mlive_portrait_wrapper.py\u001b[0m\u001b]8;;\u001b\\\u001b[2m:\u001b[0m\u001b]8;id=293971;file:///content/LivePortrait/src/live_portrait_wrapper.py#52\u001b\\\u001b[2m52\u001b[0m\u001b]8;;\u001b\\\n",
            "\u001b[2;36m           \u001b[0m\u001b[35m/content/LivePortrait/pretrained_weights/\u001b[0m \u001b[2m                           \u001b[0m\n",
            "\u001b[2;36m           \u001b[0m\u001b[35mliveportrait/base_models/\u001b[0m\u001b[95mwarping_module.p\u001b[0m \u001b[2m                           \u001b[0m\n",
            "\u001b[2;36m           \u001b[0m\u001b[95mth\u001b[0m done.                                  \u001b[2m                           \u001b[0m\n",
            "\u001b[2;36m[15:13:33]\u001b[0m\u001b[2;36m \u001b[0mLoad spade_generator from                 \u001b]8;id=179248;file:///content/LivePortrait/src/live_portrait_wrapper.py\u001b\\\u001b[2mlive_portrait_wrapper.py\u001b[0m\u001b]8;;\u001b\\\u001b[2m:\u001b[0m\u001b]8;id=188185;file:///content/LivePortrait/src/live_portrait_wrapper.py#55\u001b\\\u001b[2m55\u001b[0m\u001b]8;;\u001b\\\n",
            "\u001b[2;36m           \u001b[0m\u001b[35m/content/LivePortrait/pretrained_weights/\u001b[0m \u001b[2m                           \u001b[0m\n",
            "\u001b[2;36m           \u001b[0m\u001b[35mliveportrait/base_models/\u001b[0m\u001b[95mspade_generator.\u001b[0m \u001b[2m                           \u001b[0m\n",
            "\u001b[2;36m           \u001b[0m\u001b[95mpth\u001b[0m done.                                 \u001b[2m                           \u001b[0m\n",
            "\u001b[2;36m          \u001b[0m\u001b[2;36m \u001b[0mLoad stitching_retargeting_module from    \u001b]8;id=896293;file:///content/LivePortrait/src/live_portrait_wrapper.py\u001b\\\u001b[2mlive_portrait_wrapper.py\u001b[0m\u001b]8;;\u001b\\\u001b[2m:\u001b[0m\u001b]8;id=525493;file:///content/LivePortrait/src/live_portrait_wrapper.py#59\u001b\\\u001b[2m59\u001b[0m\u001b]8;;\u001b\\\n",
            "\u001b[2;36m           \u001b[0m\u001b[35m/content/LivePortrait/pretrained_weights/\u001b[0m \u001b[2m                           \u001b[0m\n",
            "\u001b[2;36m           \u001b[0m\u001b[35mliveportrait/retargeting_models/\u001b[0m\u001b[95mstitching\u001b[0m \u001b[2m                           \u001b[0m\n",
            "\u001b[2;36m           \u001b[0m\u001b[95m_retargeting_module.pth\u001b[0m done.             \u001b[2m                           \u001b[0m\n",
            "/usr/local/lib/python3.11/dist-packages/onnxruntime/capi/onnxruntime_inference_collection.py:121: UserWarning: Specified provider 'CUDAExecutionProvider' is not in available provider names.Available providers: 'AzureExecutionProvider, CPUExecutionProvider'\n",
            "  warnings.warn(\n",
            "\u001b[2;36m          \u001b[0m\u001b[2;36m \u001b[0mFaceAnalysisDIY warmup time: \u001b[1;36m0.\u001b[0m234s           \u001b]8;id=862535;file:///content/LivePortrait/src/utils/face_analysis_diy.py\u001b\\\u001b[2mface_analysis_diy.py\u001b[0m\u001b]8;;\u001b\\\u001b[2m:\u001b[0m\u001b]8;id=890892;file:///content/LivePortrait/src/utils/face_analysis_diy.py#79\u001b\\\u001b[2m79\u001b[0m\u001b]8;;\u001b\\\n",
            "\u001b[2;36m          \u001b[0m\u001b[2;36m \u001b[0mLandmarkRunner warmup time: \u001b[1;36m0.\u001b[0m163s        \u001b]8;id=177895;file:///content/LivePortrait/src/utils/human_landmark_runner.py\u001b\\\u001b[2mhuman_landmark_runner.py\u001b[0m\u001b]8;;\u001b\\\u001b[2m:\u001b[0m\u001b]8;id=4460;file:///content/LivePortrait/src/utils/human_landmark_runner.py#95\u001b\\\u001b[2m95\u001b[0m\u001b]8;;\u001b\\\n",
            "⚠️ BEFORE EXECUTE\n",
            "\u001b[2;36m          \u001b[0m\u001b[2;36m \u001b[0mLoad source image from                   \u001b]8;id=417191;file:///content/LivePortrait/src/live_portrait_pipeline.py\u001b\\\u001b[2mlive_portrait_pipeline.py\u001b[0m\u001b]8;;\u001b\\\u001b[2m:\u001b[0m\u001b]8;id=440373;file:///content/LivePortrait/src/live_portrait_pipeline.py#90\u001b\\\u001b[2m90\u001b[0m\u001b]8;;\u001b\\\n",
            "\u001b[2;36m           \u001b[0m\u001b[35m/content/LivePortrait/src/config/../../a\u001b[0m \u001b[2m                            \u001b[0m\n",
            "\u001b[2;36m           \u001b[0m\u001b[35mssets/examples/source/\u001b[0m\u001b[95ms0.jpg\u001b[0m             \u001b[2m                            \u001b[0m\n",
            "\u001b[2;36m          \u001b[0m\u001b[2;36m \u001b[0mLoad driving video from:                \u001b]8;id=223547;file:///content/LivePortrait/src/live_portrait_pipeline.py\u001b\\\u001b[2mlive_portrait_pipeline.py\u001b[0m\u001b]8;;\u001b\\\u001b[2m:\u001b[0m\u001b]8;id=780314;file:///content/LivePortrait/src/live_portrait_pipeline.py#133\u001b\\\u001b[2m133\u001b[0m\u001b]8;;\u001b\\\n",
            "\u001b[2;36m           \u001b[0m\u001b[35m/content/LivePortrait/src/config/../../\u001b[0m \u001b[2m                             \u001b[0m\n",
            "\u001b[2;36m           \u001b[0m\u001b[35massets/examples/driving/\u001b[0m\u001b[95md0.mp4\u001b[0m, FPS is  \u001b[2m                             \u001b[0m\n",
            "\u001b[2;36m           \u001b[0m\u001b[1;36m25\u001b[0m                                      \u001b[2m                             \u001b[0m\n",
            "\u001b[2;36m[15:13:34]\u001b[0m\u001b[2;36m \u001b[0mStart making driving motion template\u001b[33m...\u001b[0m \u001b]8;id=524745;file:///content/LivePortrait/src/live_portrait_pipeline.py\u001b\\\u001b[2mlive_portrait_pipeline.py\u001b[0m\u001b]8;;\u001b\\\u001b[2m:\u001b[0m\u001b]8;id=603313;file:///content/LivePortrait/src/live_portrait_pipeline.py#144\u001b\\\u001b[2m144\u001b[0m\u001b]8;;\u001b\\\n",
            "\u001b[2KMaking motion templates... \u001b[90m━━━━━━━━━━━━━━━━━━━━━━━━━━━━━━━━━━━━━━━━\u001b[0m \u001b[35m100%\u001b[0m \u001b[33m0:00:02\u001b[0m\n",
            "\u001b[?25h\u001b[2;36m[15:13:52]\u001b[0m\u001b[2;36m \u001b[0mDump motion template to                 \u001b]8;id=659966;file:///content/LivePortrait/src/live_portrait_pipeline.py\u001b\\\u001b[2mlive_portrait_pipeline.py\u001b[0m\u001b]8;;\u001b\\\u001b[2m:\u001b[0m\u001b]8;id=328688;file:///content/LivePortrait/src/live_portrait_pipeline.py#172\u001b\\\u001b[2m172\u001b[0m\u001b]8;;\u001b\\\n",
            "\u001b[2;36m           \u001b[0m\u001b[35m/content/LivePortrait/src/config/../../\u001b[0m \u001b[2m                             \u001b[0m\n",
            "\u001b[2;36m           \u001b[0m\u001b[35massets/examples/driving/\u001b[0m\u001b[95md0.pkl\u001b[0m          \u001b[2m                             \u001b[0m\n",
            "\u001b[2;36m          \u001b[0m\u001b[2;36m \u001b[0mPrepared pasteback mask done.           \u001b]8;id=69216;file:///content/LivePortrait/src/live_portrait_pipeline.py\u001b\\\u001b[2mlive_portrait_pipeline.py\u001b[0m\u001b]8;;\u001b\\\u001b[2m:\u001b[0m\u001b]8;id=932687;file:///content/LivePortrait/src/live_portrait_pipeline.py#183\u001b\\\u001b[2m183\u001b[0m\u001b]8;;\u001b\\\n",
            "\u001b[2;36m[15:13:53]\u001b[0m\u001b[2;36m \u001b[0mThe animated video consists of \u001b[1;36m78\u001b[0m       \u001b]8;id=171003;file:///content/LivePortrait/src/live_portrait_pipeline.py\u001b\\\u001b[2mlive_portrait_pipeline.py\u001b[0m\u001b]8;;\u001b\\\u001b[2m:\u001b[0m\u001b]8;id=83548;file:///content/LivePortrait/src/live_portrait_pipeline.py#270\u001b\\\u001b[2m270\u001b[0m\u001b]8;;\u001b\\\n",
            "\u001b[2;36m           \u001b[0mframes.                                 \u001b[2m                             \u001b[0m\n",
            "\u001b[2K🚀Animating... \u001b[90m━━━━━━━━━━━━━━━━━━━━━━━━━━━━━━━━━━━━━━━━\u001b[0m \u001b[35m100%\u001b[0m \u001b[33m0:00:12\u001b[0m\n",
            "\u001b[2KConcatenating result... \u001b[90m━━━━━━━━━━━━━━━━━━━━━━━━━━━━━━━━━━━━━━━━\u001b[0m \u001b[35m100%\u001b[0m \u001b[33m0:00:00\u001b[0m\n",
            "\u001b[2KWriting \u001b[90m━━━━━━━━━━━━━━━━━━━━━━━━━━━━━━━━━━━━━━━━\u001b[0m \u001b[35m100%\u001b[0m \u001b[33m0:00:00\u001b[0m\n",
            "\u001b[2KWriting \u001b[90m━━━━━━━━━━━━━━━━━━━━━━━━━━━━━━━━━━━━━━━━\u001b[0m \u001b[35m100%\u001b[0m \u001b[33m0:00:00\u001b[0m\n",
            "\u001b[1A\u001b[2K\u001b[2;36m[15:14:10]\u001b[0m\u001b[2;36m \u001b[0m\u001b[1;32mAnimated template:                     \u001b[0m \u001b]8;id=92830;file:///content/LivePortrait/src/live_portrait_pipeline.py\u001b\\\u001b[2mlive_portrait_pipeline.py\u001b[0m\u001b]8;;\u001b\\\u001b[2m:\u001b[0m\u001b]8;id=386441;file:///content/LivePortrait/src/live_portrait_pipeline.py#503\u001b\\\u001b[2m503\u001b[0m\u001b]8;;\u001b\\\n",
            "\u001b[2;36m           \u001b[0m\u001b[1;35m/content/LivePortrait/src/config/../../\u001b[0m \u001b[2m                             \u001b[0m\n",
            "\u001b[2;36m           \u001b[0m\u001b[1;35massets/examples/driving/\u001b[0m\u001b[1;95md0.pkl\u001b[0m\u001b[1;32m, you can\u001b[0m \u001b[2m                             \u001b[0m\n",
            "\u001b[2;36m           \u001b[0m\u001b[1;32mspecify `-d` argument with this        \u001b[0m \u001b[2m                             \u001b[0m\n",
            "\u001b[2;36m           \u001b[0m\u001b[1;32mtemplate path next time to avoid       \u001b[0m \u001b[2m                             \u001b[0m\n",
            "\u001b[2;36m           \u001b[0m\u001b[1;32mcropping video, motion making and      \u001b[0m \u001b[2m                             \u001b[0m\n",
            "\u001b[2;36m           \u001b[0m\u001b[1;32mprotecting privacy.                    \u001b[0m \u001b[2m                             \u001b[0m\n",
            "\u001b[2;36m          \u001b[0m\u001b[2;36m \u001b[0mAnimated video: animations/s0--d0.mp4   \u001b]8;id=875240;file:///content/LivePortrait/src/live_portrait_pipeline.py\u001b\\\u001b[2mlive_portrait_pipeline.py\u001b[0m\u001b]8;;\u001b\\\u001b[2m:\u001b[0m\u001b]8;id=44179;file:///content/LivePortrait/src/live_portrait_pipeline.py#504\u001b\\\u001b[2m504\u001b[0m\u001b]8;;\u001b\\\n",
            "\u001b[2;36m          \u001b[0m\u001b[2;36m \u001b[0mAnimated video with concat:             \u001b]8;id=744211;file:///content/LivePortrait/src/live_portrait_pipeline.py\u001b\\\u001b[2mlive_portrait_pipeline.py\u001b[0m\u001b]8;;\u001b\\\u001b[2m:\u001b[0m\u001b]8;id=329356;file:///content/LivePortrait/src/live_portrait_pipeline.py#505\u001b\\\u001b[2m505\u001b[0m\u001b]8;;\u001b\\\n",
            "\u001b[2;36m           \u001b[0manimations/s0--d0_concat.mp4            \u001b[2m                             \u001b[0m\n",
            "⚠️ AFTER EXECUTE\n",
            "✅ Inference Time: 36.49 seconds\n"
          ]
        }
      ]
    },
    {
      "cell_type": "code",
      "source": [
        "!cat log.txt"
      ],
      "metadata": {
        "colab": {
          "base_uri": "https://localhost:8080/"
        },
        "id": "jiBw5wY_FnaW",
        "outputId": "5350e695-35c6-4257-eebb-b046a5b8a233"
      },
      "execution_count": 32,
      "outputs": [
        {
          "output_type": "stream",
          "name": "stdout",
          "text": [
            "Inference Time: 36.49 seconds\n"
          ]
        }
      ]
    },
    {
      "cell_type": "code",
      "source": [
        "!python inference.py > log.txt 2>&1 &"
      ],
      "metadata": {
        "id": "Pak-88gyF1Jc"
      },
      "execution_count": 33,
      "outputs": []
    },
    {
      "cell_type": "code",
      "source": [
        "!tail -f log.txt"
      ],
      "metadata": {
        "colab": {
          "base_uri": "https://localhost:8080/"
        },
        "id": "UqTZGGohF20V",
        "outputId": "d67afdcc-d4c0-4192-a71b-31cf36f4e0b3"
      },
      "execution_count": 34,
      "outputs": [
        {
          "output_type": "stream",
          "name": "stdout",
          "text": [
            "[15:14:27] Load appearance_feature_extractor from    live_portrait_wrapper.py:46\n",
            "           /content/LivePortrait/pretrained_weights/                            \n",
            "           liveportrait/base_models/appearance_featu                            \n",
            "           re_extractor.pth done.                                               \n",
            "           Load motion_extractor from                live_portrait_wrapper.py:49\n",
            "           /content/LivePortrait/pretrained_weights/                            \n",
            "           liveportrait/base_models/motion_extractor                            \n",
            "           .pth done.                                                           \n",
            "[15:14:28] Load warping_module from                  live_portrait_wrapper.py:52\n",
            "           /content/LivePortrait/pretrained_weights/                            \n",
            "           liveportrait/base_models/warping_module.p                            \n",
            "           th done.                                                             \n",
            "[15:14:29] Load spade_generator from                 live_portrait_wrapper.py:55\n",
            "           /content/LivePortrait/pretrained_weights/                            \n",
            "           liveportrait/base_models/spade_generator.                            \n",
            "           pth done.                                                            \n",
            "           Load stitching_retargeting_module from    live_portrait_wrapper.py:59\n",
            "           /content/LivePortrait/pretrained_weights/                            \n",
            "           liveportrait/retargeting_models/stitching                            \n",
            "           _retargeting_module.pth done.                                        \n",
            "/usr/local/lib/python3.11/dist-packages/onnxruntime/capi/onnxruntime_inference_collection.py:121: UserWarning: Specified provider 'CUDAExecutionProvider' is not in available provider names.Available providers: 'AzureExecutionProvider, CPUExecutionProvider'\n",
            "  warnings.warn(\n",
            "           FaceAnalysisDIY warmup time: 0.233s           face_analysis_diy.py:79\n",
            "[15:14:30] LandmarkRunner warmup time: 0.153s        human_landmark_runner.py:95\n",
            "⚠️ BEFORE EXECUTE\n",
            "           Load source image from                   live_portrait_pipeline.py:90\n",
            "           /content/LivePortrait/src/config/../../a                             \n",
            "           ssets/examples/source/s0.jpg                                         \n",
            "           Load driving video from:                live_portrait_pipeline.py:133\n",
            "           /content/LivePortrait/src/config/../../                              \n",
            "           assets/examples/driving/d0.mp4, FPS is                               \n",
            "           25                                                                   \n",
            "           Start making driving motion template... live_portrait_pipeline.py:144\n",
            "Making motion templates... ━━━━━━━━━━━━━━━━━━━━━━━━━━━━━━━━━━━━━━━━ 100% 0:00:01\n",
            "[15:14:48] Dump motion template to                 live_portrait_pipeline.py:172\n",
            "           /content/LivePortrait/src/config/../../                              \n",
            "           assets/examples/driving/d0.pkl                                       \n",
            "           Prepared pasteback mask done.           live_portrait_pipeline.py:183\n",
            "[15:14:49] The animated video consists of 78       live_portrait_pipeline.py:270\n",
            "           frames.                                                              \n",
            "🚀Animating... ━━━━━━━━━━━━━━━━━━━━━━━━━━━━━━━━━━━━━━━━ 100% 0:00:12\n",
            "Concatenating result... ━━━━━━━━━━━━━━━━━━━━━━━━━━━━━━━━━━━━━━━━ 100% 0:00:00\n",
            "\n",
            "\n",
            "tail: log.txt: file truncated\n",
            "Inference Time: 37.26 seconds\n",
            "^C\n"
          ]
        }
      ]
    },
    {
      "cell_type": "markdown",
      "source": [
        "# **Input**\n",
        "# **The change to enable AMP** To Speed the inference Time"
      ],
      "metadata": {
        "id": "vJLurshAnYgi"
      }
    },
    {
      "cell_type": "markdown",
      "source": [
        "**Source Image taken**\n",
        "\n",
        "![lohith.jpg](data:image/jpeg;base64,/9j/4AAQSkZJRgABAQEAYABgAAD/4QAiRXhpZgAATU0AKgAAAAgAAQESAAMAAAABAAEAAAAAAAD/2wBDAA0JCgsKCA0LCgsODg0PEyAVExISEyccHhcgLikxMC4pLSwzOko+MzZGNywtQFdBRkxOUlNSMj5aYVpQYEpRUk//2wBDAQ4ODhMREyYVFSZPNS01T09PT09PT09PT09PT09PT09PT09PT09PT09PT09PT09PT09PT09PT09PT09PT09PT0//wAARCAPRAuoDASIAAhEBAxEB/8QAHwAAAQUBAQEBAQEAAAAAAAAAAAECAwQFBgcICQoL/8QAtRAAAgEDAwIEAwUFBAQAAAF9AQIDAAQRBRIhMUEGE1FhByJxFDKBkaEII0KxwRVS0fAkM2JyggkKFhcYGRolJicoKSo0NTY3ODk6Q0RFRkdISUpTVFVWV1hZWmNkZWZnaGlqc3R1dnd4eXqDhIWGh4iJipKTlJWWl5iZmqKjpKWmp6ipqrKztLW2t7i5usLDxMXGx8jJytLT1NXW19jZ2uHi4+Tl5ufo6erx8vP09fb3+Pn6/8QAHwEAAwEBAQEBAQEBAQAAAAAAAAECAwQFBgcICQoL/8QAtREAAgECBAQDBAcFBAQAAQJ3AAECAxEEBSExBhJBUQdhcRMiMoEIFEKRobHBCSMzUvAVYnLRChYkNOEl8RcYGRomJygpKjU2Nzg5OkNERUZHSElKU1RVVldYWVpjZGVmZ2hpanN0dXZ3eHl6goOEhYaHiImKkpOUlZaXmJmaoqOkpaanqKmqsrO0tba3uLm6wsPExcbHyMnK0tPU1dbX2Nna4uPk5ebn6Onq8vP09fb3+Pn6/9oADAMBAAIRAxEAPwDv6KKWsSxKWiigAopaKAEopaKAEoxS0UAJS0UYoAKSlooASlpKWgAooooASkp1JSGJSUtJQAlFLSUAFJS0lACUlOpKQxKKWikAlJTqSgBKKWigBKSlooAKKKKAEooopAFJS0lAAKdTRS0wA0lLSUgCiiigAoopKACiiigApKKSgApKKKACikooAKKKKACiiigBaWm0tNAOopKKYhaKSlpgLRSUUAFLSUtMQUUUUAFFFFABRRSUgCiiigYlFFFACUlLSUAFFFFAxKKKKAEooooEFJS0lACUUtJQBpUUmaKYh1FJRQAtLSUtMAooooAKKKKACiiigAooooASilooAKSlopAJSU6koGNopaSkAlFLSUAJRRRSASkpaSgYUUUUgCiiigBKKWkoAKDRRQAlFFJQAUUUmRQAtJSFgKjaUDvQBLmjIqq1wB3qI3a+tFgL+RSEiqH2tf7wprXqgZLCnZiuaG4Ubx61jvqkK9ZB+dMGsW3Tzl/OjlYXNouKTePWsVtYtx/y2X86hbXLcH/WA01Bhc6DeKXcKwI9btm/5agVZh1OCQ4WVSfrQ4sLmtmiq0c4bvUwcGoasMdSUZooAKSiikAUUlGaAFopM0UwHUtNopoQ6lpKKYC0tJRTAWikooAWiiigBaKSloEFFFJTAWikopAFFFJTAKKKKBiUUtJSASiiigApKWkNAwpKWkoEFJS0lABSUtJQBo4oxTsUUxDaWlooAKUUlLQAUtFFMBKKWigBKKWigAooooAKSlooASiiikAUUUUAIabT6aaQxKSlpKACkpaKQDaSlNJQMKKKKQBRRRQAlGaQsBULygd6AJiaTcKpSXQXqarvqEa9XH51VhGnuFIXFZP9qQ/89B+dMk1WBVyZBRyhc1GmA71C90B3rAudaUgiEFjWPdalqDZxGQPamogddNqEcaks4ArHu/EVuhIRix9q5OSaZmzKzZPXOakWBWTeCv0Paq5UI05tfebhHC/mcVTe/uWyTOfzqs0Zz6enHFQSA4wW6dMd6ALbahc4yJ2H41G99Oes7n8ap8jnk4qa3tpLn5YGiL/3XbBP49KYXJTcFvvuwz+NIXBGd278KbcWd7ZbRdWrR56EjIqEnJ6AH8qaESkg8Bj09aaWkUbg2QOvaot7BuvT3oEuOvb15oAkW4O0g/l6U5LqRHyrEEdKhJDnIHWmlWHUdqBG5Ya9c25BZjInoT0rq9N1eG8jDIwDd1PUV5wGIPB96mhneGQPG2GHPBoaTGmeqJKD3qUNmuJ0zxGRhLn6bq6i2u0mjDxsCprJxsUmXs0ZqISA07cKhjHZozTc0ZpAOozSUU0A6lptLTAdS02lpiFpaSimAtFJS0AFFFFAC0UlLTEFFFFABRRSUhhRRRTEFFFJSAWkoopjCkoooAKSlpKQBSUppKACiikoAKSlooA06KWiqEJikxTqSgBKWiikAoooopgFFLRQAlFLRQAUUUUAFJS0UAJRRRSAKSlpKACkNLRQA2kp1IRSGNooooGJSUtIaQCUUGmk4oAWmO+BTXkAFUbq6WNSWYD8aLASzXAUZJrFvtZjiJCnJqhqOqbiyq3FYRl3Ek4BPSrSEaNxqE0+clh9KoPKWP3m9+ahMrknBH0xUO5l+8B9c9KoVycuRwGJPpmoGmJY4JxThIIzls9fQGgi3nYYZ0Y9eMigRCZ2B+8akW8nXkSHH1pX06cx7omWVf8AZ4I/CqjxsjbZPlPcGi6Yal1r4sNsqq2O+MGoWkHWNyCf4TVbjnDDn8KUxSY424+tOwXZainO7DnH9aWRQx+YflVMhwehx9c/rT1uMj5gR+FFgTJdsfQlvb3pRGqtujb9aj8wE8nIp+8EYIHTqKB3J2nmaERPKSg6KecVFKsZHyvn1yMUhjkU5Bz3pu0E5OTz2oBkfl4Gd/4GkKYI5+tT7ccqPzppX2Ix7Gi5NiIfJyM/SnsQ65x2pDxwfzo4xxQMj5HPH50oYg0rAkVGOODTESqxJ4P/ANetTStWks3AJJjJ5HpWWhH5+1I5I+6e9Jjueh2WpRXSAxtz6VdEwrzKG6libdGxX6Zresdd/dgSzEEdio/n/wDqqHAakdkJR61Irg1hW2oxTorRuDntmr0NyG6Gs3Eq5pA5parpIDUobNICSlpoNGaYD6Wm5pc1Qh1LTc0ZoAdRSZozTELS0lFABmikpaAFopKKAFooooAKKSigAooooGFFJRQAUUUlABRRRSAKSiloASkpaSgAooooA1KKKWqEFJS0UAJRS0lABS0lLQAUUUUAFFFFABRRRQAUUUUAFFFFACUUtJSASiiigApKKKQxppKcaQ0ANpDSmo3cAUhg7YFVZpwo5NR3VysaksQMVzOpaqzsUjJA9apIDSvdVEYIT5jXOXt9NM2S3FV3lJJLNuJ6VUkk5PA5qhEk0m5eoqsSwOTjr2NNkbjmot49aoRJv7Ht6UomXGGXNQPlFzkFT0PrUJYjjuDQJl47WB24/KkLBT+vQVSErKepFP8AOJ79aBXLqyOHDK3I9+tSG580FZ4wwH51nhsj5qeshAypHFKw7kjQRSEbcq3uarPA8ZyG/SrsUschCsNjZ6ninSRTIuQCVoGZw8wHoevY0MW/iH6VbeNtuQD+FRMrBc4z+NO4rEA6/ex9advIbGenpSNtzgqc0BQeh/CmImhuGC7Wb6VN5gbkgZ9R+FUyjAc96VXYHkdelKwFonAJGDTN+DyOai3E8jtRuYcZGKLDuSB80HOMiosqTycZ96em4jAOaGAgfacMPxpSARmnPgDAOTnn2qLof8mgQpUKckcU7cCMevWml+xH4+tAwSCOCKADAxR+NIfbtSbgen+FNAWIZGTlGI+hrd0vUmj2pPgA9G3Zrmec9SR29qnhuXjOSAwxik1cLnocE4KghgR9atLMPWuV0nVYpR5byKhxwCQM1sJICMg1k1ZlpmusoNSq2ayY5WB5ORV2KTIosBbBpc1GrZFOzQA/NLmmCnUwHUUlFAh1FJRQAtLSUUALRSUUALRRRQAUUUlAwooooAKKKKACkpaSkAtJRRTGFJS0lIQUlLSUAFFFFAGrRRRVCCiiigQUUUUAFFFFAxaSlooASilooASiiigApaKKAEopaSgApKWkoASiiikAUlLRSGNpDSmo3bAoAbI2BWfd3KxoSTjFLfXawxs7MAAK5W8v5LmU4PyDoKaQDdT1F53KpkqOw71lAmRslGP0WrjTBRhtm7Hrn/8AVSrMCpIQNjnkU7j0KZR9p/dkDjr3qFo5OuwdParckyqMbVGPWoxcbT99c56ZPNMRnyRybuYwM9KjaGXPzRYz2NaMkyyJhl+hFV3hI5QsB7U7hYpBH3bckfU4/nUbIwOTmrh24OBuI65NIxUryMcUXFYolSScjpSBBngE/pU5x1yCO1NLEdDimTYZkjqBTg3p1+lMZieAOtNAJPfn1NAEwkVeijI61LHduhADdD93PFVMnOBinAgjn0pgaSTpKwyMHHaiZBnOfyqlGcdeMVY81thBwe3TpU2KuNZASMEce2c1C8DAZQE8c4FS78nI49aQsemfrQhNFbLKcFjinhlIyWxx17fnT5EJTcp+vvVck9D/APrpiJeewU/Q05VJ4xjHY1AOvX1p6vsOQfoOlMBxQZw3H4VJDG6twKaz55ANTQ3IzjjA7UmMS4tWKmZeMdaq5IOGBBrZVxs+UZU9vSqM0fJPVc+tJA0VOM9R9etKQQoYMalKKy4IIPamqpHGcimKw0NuGD1prA0siMDlQevPFCMWGG7+1ADc9utKp2tkHmlK9OO1NwVPOD6c07gShirbiTz6VsaZqkkYEbNlSerGshGA4zmnbGY5jOeemaQI7eznEo6j8Kvxnac1yvh+8VJvJmbbn7vauoDD86zasy0y9G1SiqkLZFWl6UgHilpopaYh1FJS0ALS0lFAC0tJRTAWiiikAUUUUAFFFFABRRRQMKKKKACkpaKACkpaSkAUlLRQMSkpaKBCUUUUAatFFFUSFFLRQAlLRRQAUUUUAFFFFABRRRTAKKKKACiiikMSilpKACiiigBKSlpKQBSGlpDSGMY4qlczBFJJ6VYmfArm9YvCX8lD9eaaCxm6veSXL7IydgPPOM1mOhU43AkdqnmfYMBRz+FQiT5eSi+xPWqAhIKfe4J64oDOclSMHnb0pku/1BAHbioA8inK5PpTEWSAT84KntUE1vGRnJHHXHFH2vjFwvXv0qCSbH3Gyvp6UBcAzQMcEMn5ipo5xyYpMeqnjNUmkI57fWnKUkPKj2PSmFy/utblwpYwy/7S8H8ahlhZH2uArEcc9agMbsMbGYZ4PSpAXVArsSg6Bu1S0MrSxPG2T07GomO7tV0Op4ycfyqKSNW6YODxTuJlUjPan7AE3EnnqPxoMTjgc0oGEwck/SncSRHx2FOB/Sk56DigA47UAKH5yR+tTrlk3Kc+oquV557e1CMVORxn3oAlwc5H+FBJH9fejOR81HPTigYKcE5xj+VMkUbs07HHFN54BH0oEM2jvSgwjHysW9z/AIUu3Jx601vkHFAiVWUYypX3zQyxtlk4I9OM/nVUE9QSKduI6E9OKAuWg8idGyAKUzEnDcEd81WEhJ5JNSbgAMgn+lMaZKCCAynkfrT8hztOBnOOO9V/M9AB7YqVXB9M/wA6Q0AJR8Yzk801lHUA8087SOOooWUtwVH4UAyELjg0u0/ge9PwAMA8U7AAwCPyoJIgBnOKC5Q55OKcQAelKwBoGOSfeemD29a6fStTMyCKVgXHQ+tcnsO7HvV20lJnDM556n0oeoI7y1cMOKvKeKwNCm3xsCSSD+lbqHis2USg04UwUooAdS0lLQIWlptLQAtLSUtMApaSloAKKKKACiiikMKKKKBBRRRQMKKKKACiiigBKKWkoAKSlpKQBSUtFAGrRRRVEhRS0UwEopaKAEopaKACiiigAooooAKSlooASiiikAlFFFAwooooASkpaSgApjGn1FJ0pAUb2YRxMxOABXGXNwZJXYEjOea6TXWItio/iOK5hlSNcPzn2zQikULlmDZGWJPHvTCjAAtkZHcVeAQAn16cVWuUZm3Ft/uSeKpEsi3q/BI6VHHIEbH5U2RTwSyjnjPOfypqSbG+YKfYA0xE7xEr5ihWGec8momjjZcCNVOMZC4/lUwlXIaIkHvzkfkKR7fzf3kblX74IIb8KBlFrU5JBPtkZqERRo2Xc/SrEhkjOHUj0NOEyMn7xYiPdRTCxH9tIUBcY+vIqOS4Z+GO8dsgVK32fOQpGT/CRj8qTy4mA689wOlAEIKu3zAAHuBStEVOe1K8BX5kYMAewqSOVgMHDAdjzSAi3nHGfpUe4k8gVZfaVyuMHrnn9agZR2/xpgJkDgik65AH05owfQY9aTaM9yaBCk+hB+gpoGeQM0oWl3D0oAVWO3BA5p4yOaYGOOv5U9eetAxSec+poKBgHU/h1oYE4x60KTGeR1pAOcB0DL94HpTTCJFB3AGlyMfLjmm7jnnANMQx7dlXIOcD0qFRk45q2snPXp29aZIBncox7UBYascefmJz9akEQPRvpxULMTyDT1b6fh2oEPKNjhgR9KNu09KQsT3NODUDQ05PI4IpMnGfT9accdelIMEc8ED86BjWOOcnmjcegJob7vvTRz2NMkkzng/nQB6ikyeMDkilzkZzzSGPGScZyKljXDZ5yKiAyM96ejEHBzigDqNAdSvGOOPrXRoa5LSLpEKR42kt6etdXGeKzaGicUopopwpDHUtNFOpiFpaQUtAC0UUUALRSUtMBaKSloAKKKKQBRRRQAUUUUAFFFFAwooooAKSlooASkpaKQCUUtJQBrUUUVZIUUUUAFFFFABRRRQAUUUUAFFFFABRRRQAlFLSUAJRRRSGFJS0lABSUUUgENMfpTzUch4pDMPXFJtWI7VyzEgHIXr3HWuo1xj5G0dzzXNMhLH+fpTQyDzAch02+4NUJZSp5OOfXrVu5inOWduPQVmToVzlu/erJJDdPjHy9OoqvJNubDIG90GDUJYBgCwwSfwqbyWRg6hyD0KELzTEMcOo3KSQT36ihZHziN2DY+lWoy+MSRliehIAI/KpNnAJRQvbJpXHYZDJM6lZVXB6buQahli+c/uQvPUDFTHag6sKkjdTwG60XGZjIgbawYc8j/8AXT41RRuXzRz65Fa/kCZc7Qf1xVdozCxCsw9s0rj5SvhGIJPPrjHFRyRg9+3arxYSDDAfXFVZomRuhwelJMbRU+Zf/rUm/vjtT39iQfQ8Y7VEcgZzVkMduB4p4KgZzURH09uKaecdKBE+5TwSRQY0Iyr89+KhUk9acrYPWgQ94yvA5xSAEDuKljIcflTZRtOF5FAxwxtyDTSxJ5Ix/Oo1bBzUmVbkcNQgGMpXp36UqENwT9Kl+UrnHaoZFIOVH5UxA64PHamhvcZpwfPDCmnkd+vrQMRuoHWgMc/Wmgj0FKfp9KBDwRj/AOvS9wD+lRqc4JHHvT8c5/KgEOB9qUjPNNxxjP0p2e4/GlYY1lJHHXNMVgOCBTz7DrUTjBzQhMmUDBA6ClPHIH1qKNse9TA5OcdOTQALxyDxUoORjpmmA4HFKvQjJ/LpSKLVu5EyupJCkHPpXeWsgkhR16EVwaMMAA122lqUsYlY8hRSYGgKcKYKcKkB4pRTacKYC0tIKWkAtLSUUALRRRQAtFFFAC0UlFAC0UCigAopaKAEopaSkMKKKKYBRRRSASiiigAooooA1aKKKskKKWigBKKKWgBKKWkoAKKKKACiiigAooooAKQ0tJQAlFLSUgCiiigY00lKaSkAGoZDxUpqCY8UhmFrTH5QuOvX0rCkbaPl5Oe1amuSHzQuOMVgzzKjbVb5vRapIfQbNljgh/oKqy2+5c7CPxNWFZ2PRgPTvUmG7nk9KYrGQ9vjGQwA7hSantbZwVIkGwjpjH+fwqebocnP4CqbKVOYyc/hzRcLF1zGnAYtgnqT/WozlhkkHms8zsoyasRXMYABoGhXhDDAkwSfSq7QyKx+bI7VfWNZQDHICT2zTGGw/vMHnnrSuOxDHNKqccEfrS/adww3DdwaRo1ky0EnI7dahfDHEgKt6igCwpy20jr3pXLKNrjINVd8sJyRuHbOf51c3GeLch57cUDKMqckgcVAykAkc/0qy5x0/HmomXIyOtUS0QHPUgUUpAz9KVV9qZAg/SnBR6mnBAAMn8KRmTsfrQAoyuMHmhiT2GP5U3ORwQaXJHBHagCJuCTzQj4OetPZNw6VEQQ2KYiwr8dRSBgen6VADx1pwbJ6DrnNFhDzjJ55pMnJzz9KdjjtSEg8H9aYxpXKggdaQFuhpwyOR0oPIyvfrSQhpyDUikEVFkdPSlDH60DJVYHIJANKT36VCG5z3pwbjNMB2Rkf402QHGetJkkZyaeDuXk49aQESHByO3Spxz0qv91u/wDLNSqec4/KgCTJB5OalUE9D1qLGTUkZ29RxUlInt1ZZFbqBnNdtpl0txbqQMEcEVxkU4XIC54re8PTBpXH97kCkw6nTKaeKiQ0/NSA8U4UwGnimA6lptLQAtLSUtIApaSloAWikpaACiilFABS0lLQAUUUUAFFFFAwpKWigBKKKKQBSUtFAxKKWkoEa1FFFaEhRRRQAUUUUAFFFFIApKWigBKKWkoAKKKKACkpaSgApKWkpAFFFFACU2nUlIY01Xm6VOarTn5TSGcnr0oScknoKwoYWuX8wgqpPYcn+laOso0+oFF+Yk4A9P8AD61IsYgARcufYU76FEaR/JhV/PrVfDb+h/GrpZmGDGw4pmwZyx/pU3LSKdxGSuQoqhLFIDkAcVtsgHWoJIQxCtSUxuBiNGGHIqAx4x2Na01sE56f0rPlG1ysi498dqtO5DjYrnfG25XYHPXNWI71mXbIM9gajGCMcMPyxUckewgHpiqEWMjdui4x/dFSK6uoEowSOoHaqa5BPNSgtt3KQQeozzQFx7ZAx1WnxnyypXABGMYojdXQxuCp/lUZVlOMhvSkgHXKjG4fnVVj796tBw8e0g5HaqzJgnJpoTGAAnJFBc4wOnvQ3Azzx1pnv1qiRTzzkUxlYe/4U/rTgO1FxWIOwPSnButSMgPTNMxyDg5PtQJgr7Tk9KWZAV3DFNcYGafGQUw3emBX9etOU+1DjB6n86Z3+vWmInXk5z+FDrxkcVHuIPPan78jBNMBm/nPpT8/LkHr1qJhznPenIxBwc+9IAbDZNNBI4PNPfk5B6mmUALnPFAJHekHpilA/SgBd3Jx3p6tg4OKZz/jQCRSGOb1HekUkHHpSkg/jTc4bJ/lQgLQYEcYp2eeTxUMRzUvfmkUi3C4HBAJPrV2yuGtrlGQ8M2D9KzI2IPPNaNkpknQg9CMj8akbO0hfcgPqKlFQQ/dAxjip1qRDxTxTRThQA6lpop1AC0UlLQAtLSUUALS0lLQAUtJS0AFLSUUALRRRQMKWkpaAEoooNACUUtJSGFFFFABRRRQI1aKKK0JCiiigAopaSgAooooAKKKKACiiikAlFFFABSUtIaACiiikAlFFFACGmmnUlIYxqpXbbY2PoKutWXqj7LZzjtSGjlbhj9oO0ZkY5PPT/Io2M7ZbHHcmoVy0pPBJPPParAO5eTgU2WN3KW2g9OmBUqhT94fkKWFAFxjjPTtSyZ3cEVnJlpELsqDHOPyqKSQHoQamkjBPzHr7E1TdVUkp6/w80kirkzYkjwQOO4qjMincjA47+1W4kZlyPTvUMqNuJI79qewbmPJEVPykkdsgZpElwNrrwPbpV2aPPbr/OqrpkYJyBWiZm0O8lCmYzuHfHaomQxuDkdOOKciuGzGwB/Kpky4KzgexouKxEML0HT9KifKNkNlT2xVoIBlT26GopE2tzg++KaYNESsfvKTkGlfDYPHNOyCcjP0ocFhjJP49c07iaIHAGMY5qL/AD1qVsg8nn3pBzxTJGgCjgdv0pSD69ulKiHr055pBYUAkc//AK6bJGQM+/1qcKFPAzUb9SOnrVITIeWiz3FNjJz1NSBflOc4piDB4NUiQlG4ZzUB4OKnJxlT3qFl2k9MZoAKbkjjnilz/n0pOD1NAgJzSjP+FJjv604A4z/WgABOMHrSccZo79Ohpwz7UrjEFKBjp+lKFzj2p4U9RRcLDAKCCPxp2OfrS9c5oHYjPA6UmfU8e9PIyCPSmCkIkQ8g1YHUYqqvHP41aByB7UDRIBwOO9XrCUR3KbgDz3BNUFHrVmMkmk0U9juLZt8asMcira1Q00q1pGV6EVfWoEPFPFMFOFMBwpaQUtIBaWkpaAClpKWgBaWkpaYBS0lLQAUUUUgCiiigYtFFFABRRRSAKKKKACkoopgFFFFIZrUUUVoQJRRRQAUUtJQAUUUUABooNFABRRSUAFFFFIApDS0lABSUtJSAKKKKACmmnUhoGRsKzdSjL2zgelahqvOm5CPUUhnFxwqzEsMhTThCT8wxjPFXbmHZlVU8Z6UsERSDldxP6VLZaZXJ6LjGB1xUbbQepwPxqWUtJJsVSBjBNQMiCUxRHJB5bHSpsUmJlWyAKglhbs74z93NXEiQruU7z3I4xQWDHbgHnn2pIq6M5W8phkk896e+2Vcoyk+mc1YkijYYQjI9u9Vtk6NlV/Sk2UkVnw/G3BqM2jY4BIHTjFXJI3kO7bgiojBcpltmQvUbhx+dNMLFJoO6tz9M1E0U4JC4PFaKuCf3kbdPTFSDYeRC/XklafMHIZcccjHDJyT71LJauFy2do6cVoFVH3RtH+6aawR+7ZHXg0+YHAyvLHcgAU11GMLzWm0Y6eWSfeoJLbksAF9cGqUiXAzJVJGMc1F5bZ54NaDwMnJUj6igLEww3yOP4iKfMZ8pUSNiOABx1JqTygnLkn07VLsRshJFY59SBQVkjKiJIdx4zgtn8KLjsVwp3cgj2psg+b5TxViaFokDTKxkPdv8KqlwXPNXEzkhnA3dBmoVPznHTP1qWRuCTxVdASSPzq7kWJJjn5sGozg/KcU4txg8/wBaZyPU0ANwc4NHP+RUqrv6A5oZecZqbhYjUHsKlCYHIqSOFjk46Uu1sdCf0zRcpIgC881MIuASOacqfNyDn0qwsO4gYx+VJsaRVWFt3Tin+X2xV3ydo46UGPtilzFcpTKfLnFRlPUVe8v3HNMaIbcYouDiUWXjvTNnPXpVtoyCeKjYYbGOKdyGiFQd/TrU4IoYAjnmkXg80Aibvj8qkyyDOPpSRISd3SiUYbA6UwZ1Hhy4MlsUbnaeDW+p4rl/DLAF0GcnnPXNdMnSoYImFOFMFOFIBwpwpopwpgLS0lLQAUtJS0gFopKWmAtFFFIBaKSloAKKKKACiiigYtJRRSAKWkpaACiikpgFFFFIZrUUUVoQJRRRQAtJRRQAUUUUAFFFBoAKSlooASiiikAUlFFABSUtJQAUUUUgCkpaSgY00xxUhpjdKQGNfRMpcqRz2xVO3XlldyDjgAAfpWlqS8Bh2rPAKk7f4ieMdeKRSI/JUMcByP8Ae45qKSEiBkiAGWPAGMn/ACatNhCQpJOT1NOKK0KnnJPrjrSaGmUpsQWilQMYA7VXEZKDaDz95vWrF4GkMMKuMHkjP+eKn8oRpuwCAP8AChId9SiIAqFgTk1ZggDLzmmojNIxbgZ6Vdh5wOlZTOiBELWPJ3RrmgWse7IjB7dauFNw/CmmNx0JrMoi+zRkcwxj8KheygYHPAI6AYFWG8wHGSSfemFZB/CRTQFJ7OJASjDjphQf6VWnhZl3RKdw5zswD9a2lhLc7Vz645/OmeTtY4U5HWm7oejMBFeV/LlOxx2PH/6+Kk+y7fvke3vWhdWqSHLKQwPBHUVV/wBIiU7iJE6A+1ClcEiI2zL93DA9uv8AKq8ls6j5Itq912/0q0Ze7Fl9TgjH503zVx98v7E4z+Ap3YNGTMDu2RxoCeuQaaluYiWG7d6r0FaLAHJHX1qIQF+sb7R3BArRMzcTGuVYtycg9yRVXA5xlj6jtW49tErDcj9O4zUdxG7R7Qxx7kcVamZypsxgitncRntyKZEoAc889OKuTRKjY3ZHXNRGIlfkXC55YmrTMnEpOmG5wfqKeqAjk4FW1t+2Rn1PakaAqSNwI9cU+YXKQqh6Age54pVQM/IOPUDrUyws2QiZA6k1dtoOOcDHXOBUtlKJAIflCIuM4qwsOPlAHHXFTBF/gGc9809YyBgA9Khs0USt9nyw2jHPNSLDt5xyanCkfWjBoKsQso9f/rVEy+3X9KslR1zn3pCueO1K4NFXb7UFc1PtPoAPT0pAvWncmxUaPg5/yahKhgVJwe1aDr6Dmqki7WNUmRJFZYzuwrenWnLHs68+tSd8ge/TrSMc8kfWrMyWIjb09qWUEp3B+tEHIPGPSpZF+TOOgoEafhjLFznOOvNdOlcx4bUB2KjGevPp/wDrrqE6VLGtiQU4U0U4UAOFKKQUooAdRSUtAC0tJS0AFLSClpALRRRQAUtJRQAtFFFABRRRQMKKKKQBRRRQAUUUUAFFFFAGtRRRWhIUlLSUAFFFFABRRRQAUUUUgCiiigBKKKKAEopaSgApKWkoAKKKKQBSGlpKAENNanU1qQyhqH+pNZcGHY5UYGNvOc1rXn+qJ9KwZ2KfMCDkjqaEh3ElcpcSOzHBxjIx2qbz0aDIcZB4GMZ71ArJJOpIP59eabcAMymMdKbQ0XDGqSIyqOmMgf57GnSZYHjioom2wqsmcinyv/o21euMZJxS2GiEkAbVz9TVq3XjJPWqUEe09SfxrQjBxk4rnm9TpitCUUv1NNJfHyDOf0pRn8akYEAdaQKGPJOKVh3460hVcZLEe1CGSDGcCh+VOCB+HSqzyFeAajEuDzjmq5kCixWySc4OKqzKp6Ng/WpJJRnjj8KgZ+e/Ws21c0SIHVgPcDPHGKga3ZjuZUHuBg1ZJyeeKa7Z+tUmDRWEQToWP1bNPZfUninE+1MJOe1O4rCOgZdrDINV5LRX45UYxgdPyqxk+vHpTd3P400yWjOk0kM3VOPbBqL7AUbaqqWHTJrXBJHHFBBY5IBq1Jk8iMd7W5HJWFce5qNYDKQGfb6jHX/Gth0I/hU49VqLyQTl+fSnzC9mVGg2qI0bA9u9TLboMBhux3NSiNV6KPr60rZzmlcfKGAvAAHtSZGMd8U0kikLAjj8KEKw3GGznvR6UMc00k59u9O4CkenWkOOfxpN3rQDz+NDEJigDHoc0vvxSnjPNArDWA7Cq0qA5x/jVr1/nUM3J5HNUmRJFNkIPH86YwGDVogZ3Y69RjpUDId4Patehi0EfC5JPFWowXTB9Oc1BCu8lR61NGCqkc0WEjd0C3EaO/qa3VrM0lSLVSSDn0rTWpYDxThTRThQA4UtNFOoAWlpKWgBaKKKAFpaSloAWiiikAUUUUDFpKWigBKWkpaQBRRRQAUUUUDCiiigQUUUUDNaiiitCBKKKKAA0UUUAFFFFABRRRSAKSiigAooooASilpKAEopaSgAooopAFJRRQAlNanUhoGVLhcow9RXN36hwqL/AAnJNdPMODXM3iP9pYKuFBP40rjRQgcrc4JztyAPpVmN96YcYJyBUDoEfcQuW6c1PCvmEIegI59KY0Xm+aNG9P8A9X9KawGCWJ2DrkZojGIyBnaPamyYIAHc881MmXEfHgHOMc8DrirUZqtGhJ5q0qAc1zs6FsPyR3pd1NY9qYTUlJEhb/8AXUTN6Umeepo25pNjSI3JqEkljmrJQd+KjKAUmUmiu+TxUbDvVrZ3FRuntxSsVcrMMjiomBz68VZ2HP401k45GKpAysQajYHqPxq0V4pjLz+NUhFcg4zxmm9qnZAevFM8vHWnckYpyalHqaaEw3SpAARRcCNvbH5VGVNWSnNIyce1FwsVcZppBqwyc4HFMK9vWquDRXZfwqJlPXsatlBUbIMU0yGiD296BjNOK80hXHrzTFYZgA/hS9KU9OaT0JpiaAfSkJIpe1IQcZ/KgQAZyc//AFqjmXI4qQE57UEgjFNEtFQHBwabJgHPJNOmXacDikbG0H6VomYSI4Tsck5qwG+UlvrVVjtBxzmrVqRKwQgnNUSdTpYxZRj249q0FqpZJ5cCr6CrYqQHCnCminCgBwp1NFLQA6lptLQAtFFFACilFIKUUgFpaSloGFFFFIAooooAKWkpaYBRRRSAKKKKACiiigYUUUUAa1FJS1oQFJS0lABRRRQAUUUUAFFFFIBKKWkoAKKKKACkoooAKSlpKQBRRSGgAooooASkNLSUDIZBwawdTXyyzEcHpzXQPWFrcZcIFP8AFz9KQ0Y8YMmCeeasxQ5mIQlh/IVE4ETIqA/j+dWUI5ZhyeD/AJ/GmMnd9luE4x25qOHLtlsdqhZ8naenWrdsuQBmsZs2gixGgUZp5zQB6Uh+vWsWbDHIxUfOac2elIc+9IpACKcDTOB1pVZSetCQNj6aV545pC4U8kU+Nwe3X1NWosnmSGNHgZHWmBGPUVbIUDJP4CmZBBp8gKZWaPFRlRVhhUMhFTylcxCUGOlMZPapPMGMZpoYZIBHFOw7kRTt15ppXHNWcgjNRsM80WFciCc1IIgelKq9+KeCMf8A16LBcYIwOgpGjGMYp7yAc1A06luD096EhXDYPr9KYyA54pxkBPJ6VGZQe4xV2DmGsoqFl54qdpEwTkVHx2p2sTchZc9uaYUxUrkAnJ6VC0q5wetNJk8wxun4U3+tKXXqTgY600sMZ7YosK6A+1Ie/NODBjwwP0oOO3rRYBoHb0p3WkHGcfype1AmV5l5NVnyuR2q5MpI4/HmqEhJfaa0iYzQwjPPGM1c05WEi46Zqm3AA9619Lj8yZQONo/Tj/GrZmdPbgiNR7VYFRRjAFSipGPFKKaKcKAHClFIKUUALS0lFAC0tJS0AApwpopwpALS0lFAC0UUUhhRRRQAUUUUxBS0lFAwooopDFoopKBC0UlFAzWooorQgKKKKACiiigAoopKAFopKWkAUlLSUAFFFFACUUUUAFJS0lIAooooGJRRRQAlFFFAEb9KwtcyIQQcYNbzVk6tF5luwAzikNGB5oGMckj0zSecckE0xjkcjOKWNd0XmYOCabZSJQ+SB61q2owox0xWKp/fADH5VuwLhOawqG8CXoKYSe9SEccVVnlVBgE5xWdix7Oq9evaopJgg+bj9KpTXeR+7HTqfX+tVGhuJxloyR246/hVqK6icmW5L5FYh2GP9kZ/XvVKXVQGIj4GcfN/9apUsJZAPMjTHUZz/gP60S6VG2P3YB7nJ/pxVLlJfMzNl1SXcMEse3GBSRa1do2XQ7Qeuanl0Ufwv+bZxVaTSLhR8rIcdMmtU4mbUjQXxIoVcxkcDJxT11xGY54Ue1YT2F0jESRdDwVP9TUBhnVjsjk6dlBptRJTkdL/AGzv/wBWnGPvGo5LuQjLjCnuD0rDjZzw2euSTxWrbMDBt4cEdQ2eP8alpFJskacMu5WJx+tTxyEqGGeaigtAWJUkZ7CrkUKoNpB4PWpbRorkkRY9RTyOMgVNEnHSnNHgYrOxoVc9ajJIBIJ9assgB/GmvGuOaaQmzNmmxxjr15FUZJPnyp5rQuIyBlD06571TkUOvzJhuOa0jYzlcY0jLGG3ck1Wa4kU/T171NMuVAJwAe3aqsxULhQMetWZtsa95Kp+Yjr0pr6mdvJxiqzZZucnmm/Z5pvuxNz6inoRdksmqFhnn61Eb4k5J47UqaZcsceUPrn/AA5qxFosu3LAD6EnH407oLSK32tzypyPenpcHOOfxq0NIKn75x6e1Rtp7ofvfjildDtIkhkX+E/Wp1kB71RMTKduf1pTvVcgn8qlxTLTaL6nPfinfQ1QhuSDyQR3q8jq4ypH4VDVik7iuMjGPrWVcNtlyRWwQccVjXnEp4+tXAiY3IeVeQAD+VdBoCB7l5M/dFc4hG7p3rrPD6FYWYjkn9KtmKNtaeKYtPFSMcKcKaKWgBwp1NpaAFpaSikAtLSUUAOpRTacKAFFLSCloAKKKKBhS0lKKACiikoAWiiikAUUUUDCiiigAooopAa1FFFakBRRRQAUUGigBKKKKACiiikAtJS0lABRRRQAlFFFABSUtJSGFFFFABSUtJQAlFFIaAGt0qpdKGjYeoqeR8Cs67vY4lO4k/Sk2ilFvY514su6HPFRrKY4WjxkZ5HWobzUUS54OA3HHrTUkEgyCMfzoZVrFuy+e5AwfXpXRoAF/Cuf0lC1yTjoPSuhUYFc9R6m8FoNPHBIqrMJGOFdAvoF6/iatMTnqRUTAMcsxY+4qUyit9ljxuOGP509VVeiAfTjNK5A4FVLm5WBSSarVhYtZUDv71BJcRg4zyegHJP4VkS6nGo33UpRT0jU5J+tMt9TnuZRb6dbom7puzlh9BVxhcmU0jRkuCRkRMPquMfnVKa7kQfdUYHRjQ+j67dO7SyGKBeS5YIq/j26iubmt2Es0cbSXEsbEZiUspHrkVsqSMZVWacmqXHRTEfwP+NR/wBpXWSNkTc/3TWT5ZGS4dWHY8Vt2ukSvbLIJBkjIGKfIhKQ+HV0JKzwBc9wc1pQPC4ymOawZIyh8ude3UDGKms2MLgK2UPQ1Eo6GkGdPCihflGKsJGuc4qjaOXUZ6/WtOHkVzPc3sGMDpTWcA4Jq15YIqhcrjPNPmsC1GSSqD1FVpJx0JqtcSMDgGqrTHPNUndA42J5ZPfpVd3ypGajLZ6moJJlX1zitEZSJT0+Y4HWq8s8SdQDUDzeYSM8Ck8pfLLuwGTwD1P4VokZMVr45wiZOepNSJd3ePljQA+mR3psFtPOMwRgIByznj8KrSNcBwvnpvDbSAOnNOxNzTW9mX70Sn8acdSTGXjYfiDWHNLOj7WlG7HZjTGnuNwDEt9KOQFUOjW+gkwFcAkfShn3d/yFYKygYEqMp9xUscrAZSQ4/uk8VLiWpmrhT94D8hTZIkK/dzn0OKrw3Ak4PBz0qyCMZPNLYejKbwMrZx0PtUsJI4Ax+FWHAI44zUSqd4PoaT1FbUsjJGTzxWPfjFzgk4rZGSB0NZOqjE2c/lThuFRaFe2RpJ0Re59K7fT4hDAF964izlkil8yLG4dMit231G5xmSTd+AH8qtszUGzp1IqQVl2N75zbWGD2960lNTcTTRIKUUgpaBC0tJS0ALS0lFAC0tJRQA4U4U0UooAdS0lFAC0UUUDCiiigAooopAFFFFABS0lLQAUUUUDCiiigDWooorQgKKKKQBRRSUwCiiikAUUUUALSGlopgJRRRSGJRRRSASiiigAooooASiiigBKY54p5qGU4FJjirsq3LE/Kp61jXUDZOeafqF1L9oKxuVA9Knty8kfztn0rmk7noQg4RucxqMA2n5Qfw6VUtSVYqckiuovbUOp45/rWNJaeS+5fx5q4T0sRUgpao0tFQncfU+lbfFZujrttgc9T6VpDNZvclLQbjrk1HLgD/wCvUjHBqtKxpFJFeaQDNZlwskrEopYjoSOBWhJ9agOFOeKqLsU0ZS+HjdN5t3ckseigYx3/AK1PaaVqGkSCaywzDnHX/P6GtKKYA8kZ+tWPtDAdP61opMz5UYurajc31v5V5bkSA9VOAfwrC0+4u9Lu/MtwQxwCM4yK62dg5wVIx14qo6KecfpWiqyIdGLOcmuHu703FxDtyd21Mmr7axOFKxwEJjABOatyxKRzVWSIdMfpVc9xKnYy7i5mnbLIcU6ynKOEkVipPOR0rQSEKf6GrcSQtjKKpHPA6molMqMHctafIN2ADiteGWspCo4SrkRKp3/GuWT1OhIvtMcVTuSxXrUiAsM1DcZ2mpbY0kjHuchutU3P61euR9apOuVrWApkRkPIJ+lVpn3Z7HFObIbB4qCTg1sjmZC8hjH4elRxysW3spLdverClCeevepV8s8BQPwrRMzaLtrrIUBZISAOmBn+VZOoFJLgyQ9G7c1oIint19Kn+zRMORu470+YHArST6PJpIU2ojvAOq5JJ/Ht+JqjYwh5hJMwVV9e5rXawhJyBjjsaiNlGvQH86blclUwv7yCWMxxRb1B4bHb+dYhjkUkgH25raMKKMcDH61DIE24A570uYpwKlu5JGSAQB+lasWWGe1UVjAPQe9Woxs7kZqWxpFsDsaXYM5NMTkZzUoBAqGzSwoGD2rO1ZPlVgByPXpWkKgvl32+M9D+VKL1JktDKtk44BrRjUnr7VBAg28HmrUJ5wapsqKJ4JCkqcd66aP7ormEGZAR6jNdLD/q1PsKcSKyJhS0gpapmAtKKSgUhjqWkpaBBS0lKKBiinCmilFAh1LSUtAwooFFAC0UlFIBaKKKACiiigAooooAWkpaSgYUUUUCNeiiitCRKKKKQBRRRQAUUUUAFFFFAC0UUUAJSUppKACkoopDCiiigAooooASiikoADVeY/KanNQT/dP0qZbFw3OZnIe6bOeprQthwtZs2BdEc/erTt/u5HpXHc9Oa0RZkjVkyOv86zNTQLasQOcVckkYA8nmszUJy0QQcknHFUndmNnYvabGUtUB7AVb74qCAbIVX0qfHFDIGOcVUlJ6irTc8VA6cZ4oKRQmPaqzBs8VekTjFV3jI6VNzQqMWHOab5rjgSMMenerDRk8moWjxx/SrUg5RjSHAALfiaaSxHU/nT9oA6UuBj6VSkLlISD3oIA9akKn0pVj3UnIOUr7ScnHXpViC17t37VZihAOcc5q1GgI7A47mpcxpFeOHBz6VOq9qeRgYxQo7+9ZspEyHAqC4Ixz6VIc7eKoTNICcnIPShIEirdYPtVQjgjNWJT6mqrng4IreK0M5FWdRk/rULIW6CrEmSaReTyK0uZNalF4T1XtQjYOG61omIEcd/aoXt++KpSJcRIznvVpWI5zniqYQqePWp0Y8A9qLhYnMrBcA8VC8jEdqkHIBpdgODijmDlKjK7Hkjr6U3y2xzmrmzFAXnn6UuYOQqrGR3z+FPUMKn2jPTqKUID6UNj5REbnpU6niothHIpy59akdiTvTZBuicY6ilHpS/wn3FC3EylbJ8uSO/FScK2aS3wHdccZp8qjaTkcU3uOGxPbEGRfr/Wumj4UD2rmrEbmTqCTXSp0GaqJlWY8U4U0U6rMBaKKWkAoooooAWlpKBQMWnCm04UALS0lLQAtFJS0gCiiigApaSigBaKSigBaKSlpgFFFFIAooooA16KKK0JEooopAFFFFABSUtJQAtFFFAC0UlFABSUtJQMSilpKQBRRRQAUUlFABSUtJQAhqGYZU1OajcZFTLYqLszk9QBS4Yj1rXsoyYQW9Kq6nB+/Xj7xHNXi/lxBR1xXEt7HpSnzRVhJIEYHLAVhakqpcRqGBJPGBWjPcNg89qw5JA9+mCeDVxWpNnY6OIfKvvUvPNRw42DFTKM0zMYVz/WmuuR04HtU2D6UxqaQJlR1FQsg7CrUgAGaiPIyKlrU1TKzpxkVA8dXSKhZTnnoe1TbUq5V8vANN8vvVrbnrRs5yRRcCr5XenIuDyKseWMdKAgHTmgARfWniIFgx6/WkH9anj200iWxrL7UBcCkklVWxTg4ZaTQ0RyHGeaoTPknmr0vOcVnzoeaIrUZSkYFsVXkJHappF6n061FjIwTitkZyIWbdxjnNNH16U4gA9aYWweoqzNlqM54NPKHHAqCJulXEGRUsaIPJHQikEPpVsIKNnc0XK5Sn5ZBpyqTVny6Nv0pXCxDsPTBpdnrzmpu9Lj19KdwsQbPYdc0FKm4B+lNNAmiPGDSEdxTiDz7UY69uaYrDR7j6+1OGenXNNOeemactBDKcf8Ax8t25qy/TGO1QKVW5arTEEcY6VUkEGWdHhJlLEcL0rdFU9OiEVsPVuTVwVS2OebuxwpaQUoqiBwooFFIBaWkpaBhSikpaAFpwptKKAHUtJRQAtLTaWkAtFJRQAtFFFABRRRQAUUUUALRSUUDFopKKBGxRRRVkiUUUUAFFFJQAtFJRQAtFFFABRRRQAUlLSUDCkpaSkAUUUUAJRRSUAFFFFIBKRqWkNAIp3cQcBsdDWZeSFTgHtW1KMqRXL6i5WVhXPUSTO7De9oRyTEk5NZ8YLX6sQMZ4okm5x61Npybptx69qR0TVkdHEfkqdTxUEP3RUy0jnY7mm4Jzmn49v1pce1UhFd1LcYP5VXkBXoKukfSo3iDHOelS0WpFFVJJJoKc49KsSrtGRVePczHIpNGlxNvOMUu2pSmOtNYA0JCbImXAzmoz3qVu4qM07ARu20ZpVdmXI4qOT5vlq7FFiMUth6FXaSetWo0wvNKISTnFW0h45qUhSkkUJFOaqyrnrWvNDx0qjKlOzTBSTMiWMdx3qqy44rSmXriqUij86tCZTlQg9KhZD0wKusvf0NN2ZGCOlXcixSGUYHPANakBDKDVKWMH8PaprFv4Sc4psSVmX9tG2nAcCnAe1SWhm3vSFBkmpMe9IQe9NICEr2NIeD/APWqVhkcVGynFIBh9ck0w5zx1p+Dj+VMPPrTExOScmj39aM/59KMn1FMQ00q53CkPJOKTJwT3FMzZnu+LvIzVqN9xwO9Zsz/AOkkg4weau2qs7ADPJ4qpbExZ1lqMQJ9KnFRwjEaj2qUVSOeW4op1IKWmAUtJS0hC0UUUALS0lFAx1LTaWgB1FIKWgBaKKKAFopKWkAUUUUAFFFFABS0lFAC0UUUAFFFFAGvRRRVkhRRRQAUlLSUDCiigUALSUtJQAtFJRQAUUUUAFJS0lIAoopKACkpaSkAUUUUABpDS0lAEbjiuc1i2YuWHSulaqdwitww4NY1VdHTQnys4KbKsQ3XvViwk2zAE8GtjULCIhmZfyrEjAW4XZwCecj+lZRd9Gds5c0bnWQHMSkdxU6daqW0mVUZ7Cra+tM5x65PWnjAHamDrTh0OKpEgRkUhXPTrThTcgcDrTAYyhhgiojGF4A61O+cdMVE+MZpMpNkJ9DULdakY1G3rS6FojY81DIee1PkYUwKWNK5RGBtYMR35rYiIaMYAwRWc0I24HemCWe3XA+Ze2e1CYmrmuSo9OKjM2Dj0rFNxPJJjzmA9AAKsi0nbBS7fnrkA07diLdzTaUkc1XkCnqabgxIA7bj3NRSy4700CIJ1QE5PSs2TGcDvU95cBFyxHFZEtxcMcxIuCO4JqrXG3YuhAT070FOKz4r/UUbDQwsD6qRWjFMZBl1APejlYlIgdKrxEpLzU91PHHwrBmPQA1XhBJ5700hdTVjbI561IMgVVhJA69KshjSKHDNB9s03OT/ACpwI9aGMb3/AAqNsDNSEntUbdwKQhjd6YR6044J701jTExmBmk706m9GwaYiMkg4PU05jiMnPag9QajuHAiOc9KaM2ZON10emM81uadGpnQEjgg9fSsqzUSTZwcVtaOpN4SDwBiqe5Ceh0CjAx6U4UgpwqjEWlpKWgApaKKAClpKWgApaSloAWlpKWgBaWm0tIB1FJRQMWiiigQtFJRQAtJRRQMWikooAWikpaACiiikI2KKKKsQUUUlMAooooAKKKKQBRRRQAUUUUAFFFFABSUUUAFJRRQAUlLSUgCiikoAKKKSgBDVa4X5CfSrJqNxkYqZK6Li7MoSxxzRFXHUVztzahLhtmeveulYBAQcc1k3hUlmOD6e9cyVmdcZaC2z5AGRmtKM56GsW0J3jOa1Ym4psCyCQcU4ZzTRnpTsYHWmmIUkjNRRyAkgZB+nWnE5OKRVAJ560XGBzUbnFSE1GeetDBFdjzx61FI3Wp5FwDVWQ9aRoiNvmP41IgA4qMEZ5NKZV6DP1waLA2Ss2OlMZht5/lVaW6QZAPf2rPudRKuFXJz19qaiyHNIsXEgST5QT+PQ1Pb6ov3DjPrWHcSu3z569qqlyp3D8a2UDNz1Ora9R3xkAUkjBlzmuYiuju5OTitS0uTJyTScRqQ+eAyPmo38qJfmx/9erE021eDWLdzbiVPbpzTihSZLJNGR8h61UO6RvvcVTeQxvgc4/SpY5fUnOauxHNdl2OFQQScmrCr6Y4qksvTB5qxHKD3/pUO5omXFJx1qZW7Gqivx/8AWqUNxwahl3LG40u73qHNIGweaBk5JI+tNJpu/imswJoEPPTNRMfX9KdnvUbjOCKEACkPWhc9+aQkZ5HU0yWNY+9VrtgFwM9OanJ4qndMOQegqkjKTG2RAfqOvNdDpMQWR2Bzgda5yzBMpxXWaZEUt8sMFqbIb0L4pwpopRVGY6lptLSAWiiimAtFFFAC0UlLSGLS0lLQIWlpKWgYtFJRQAtLTaWgBaKSigBaKSlpCCiikpgLRSUtIYtFJRQBs0UlFWSFFFFABSUtJQAUUUUAFFFFABS0lFAC0lFFABSUUlAC0UlFIAooooASiiigYUlFFACU006kNICpcIcFhWJdKN5BPQ54ron6Vl3lvGWd2yMjtWUoam0KltGY0LkSkhsjtxWrbNnBJrN8ry8EEA5q7bMOg7dKho1TTNJTxzSnLZ4qOI7uvNTcUkMaBjoKQrTjTSc96B3G9+aQ/Sl70EccUwIZM47VRnIAJq9JwMVk6jIUjOOfb1otqVeyInnxwfxqvLetIwiQYyKqGU9SMk44NWLaJnIwD/k1pZJGd22OVCQSSTzx3qjcW5aUs2feugjsyFBYj8T/AJ9aSaCE4JOTQpD5dDmxC7HG3ge1Na0kbOVFdCVQH5VGfp1pjg9So9+KfMylTRzps5EOSpqWGQpwM5HvWyyluoH5VG1vF1K0uZlKkil9oZu2arXCFiX2mtEiNPur2ppIK4KjFNMTpnPPEckkHApM4fvW5LDHIuNuMVV+xKxJBHFaJ3MJU7FD5iuQKatwykqeePSrckDA/KDjFUpozuJA/KhENNF2O6JGCc1aiuAep4rGXcozggdqkEpUhlI59qXKhqbRvCTPJpc9wKo2s29RmrasCOlQ1qbRldEobH401Sxck9KTPOO9LuwRjNIq5LxSEgYpinJzxTuvpQIa2BxnrTG/GnseDmomJ5x1pksZI2AelUJTk5J4qzKcHHrUkKIACQGyemc+1UjGTJtFs/MYSOp2Dp710ygAYHaqNmgSJACORnjtV1aOpFx4p1NFLTuSLS0lLQMWikpaAFopKWgBaWkpaBC0tNpaBjqKSloAKWkooAWikozQAtFJRQA7NFJRSELmkpKKBi0UlLTAWikpaQGzRRRVkhRRSUAFFFFIAooooAKKKKACiikpgFFFFABSUtJSAKKKKACikooGFJS0lIApKWkoAKQ0UlADW6VTuU3IR7VdNV5VyDSYGPOCUKnPHrTLdhwM49anmjO5hVKJ8Pg84OM+9ZyN6bNeIgCp8nbn86qQkEA+tWc5H0rM1FLcc1EW5yAT+FOIOetOPpTAbgnmjBoOQaXNAyKReKwtRyZcDt/n+ldC/I6VkyxAyOcZx0oQ9zJSEM3I6mr8JjhjBBGQKjMRDcDiorm2kmUorEDviqvcErE0+pRlvLMqg56ZpVcuM4yD096yjpX2eXeIxn1x1q9Ei7BjI+hqtOhaTLBIABYgc+tOByMkjAPqKrNYRy8uoJ9xmqsmnbPulxz2NF0WoGkqjORzn0OaR1HrWWkckAxGzj8f6Gh5LyQ587PrwKasVyMsPEN+DmnmEFOnbtWcz3owd4+u2iOa+AI83P1Ap6WJcWWmgPPBqnJGV5HNNa5vRwZAPwqtJPfZ58sj6YzTRlJMsO+RjtUYjVzjt7VTea4Byyp+GaiFzdBsqenYCqsYNmjcW4CfKMc1RkhK4I/H3q7bXDS8TLtb+dTFfNJwuAPelsLluZ8Z2kH06YrThbcv4VTnhIP0qxZn5Mn2qZO44aFoDnnPHpSsoPNNGPwp/b3qTUFGOTQxx6UmcmkbP5UCbA/dzULHAOTz+VSytgDFVZW4+tNENkRGZAue9aLALaAbgD25rOjOJVb0NaoBlAGdwz+VWYPc07NSIE+lWxUUQwg47VKKkQtOptLTQDqKSloAWlpKBTAdRSUtAC0tNpaQDqWm0tMB1FJRQAtFFFABS0lFIBaKSihALRSUUwFopKKAFopKWkAtFJS0AbVFFJVkhRRRSAKKKSgBaKSigAooooAKKKSgAooooGFFFFABQaKSgQUUUUhhSUUlABSUGkoAWkoooAQ1G44qWmMOKQzNu48qcZBrIxslIx371v3CbkIrDlTYSOePX0qWi4PUu2zAnB/CrqsCMVmWzDv6VcViBn0rJrU6CYn5utKTzjmmKQx3Z4FP60AJ2zQKU0nekMD0qnKoGcVbJ4qqzbice9MaK23JqVIgBwKUKCelTKKQ2wWJWXBANQSWKhiV4qxuweKDJ2NFxJspmJl4I6U04PB7VZdz61Wcjrj9etUmaRl3K80SnnAqvsAJ4471bZ17hvyqItGV+8fyqzT2isQhEJyTg4oaBdp6/nTsxH+Lr7U1zx8pzTFzoqyxKAeOKqSY6AVeMZc8mo2t1BySTQRKSZmOpY4A+lJFbANlgOtaLRKOi0zaB0A460cxi0RIgHG39BUoHPWnbcdqXHbnr+NFxWGNGr5689famqmw8d6nHC4/GmsBn6UDSE4GPpS54waaTmjnPpzikxjicdM0E45IpGbjt7e1Ru3y5oJbCR+O1VJn68mnyN71WJLN6+nvVJGUmWbUZiJHBBrcsowyKQBisfToJJWyWCqD+ddJbxCOJVHYU5MzJlFOoFFSIKWkopgOpabSigB1LTaXNMBaWkooAdS02loAWlptLmgB1FJS0ALRSZozTAXNFJRSAWikooAWikooAdRSUUALRSUtAC0UlFAG3RRRVEhSUUUDCiiigApKKKQC0lFFABRRRTAKKKKQBRRSUAFFFFABSUUUAFJS000AJSUppDQMKWkopCFpDS0lMZE65FY+pQfLvBxitthVa4iDoQR1qWCZgjKgMp5GKuxSbkBzn1qnJC8TkEZHYipoTtXJNZtHTFl9cgVJniqyv0wam3jFQWP6im7scUBhSE5HWkAjelROQikmnsQOaqzSbjtHT+tNDEjlBOQSR9Ksq4rMeUqcEqCPTtT0uOAd3X14xVCbNAsPSmk5qJHyPel3VLGhkg9KrSMw/GrZOarvg5PSlcpIpyFugH1qHaxPWrjqOeagYYPIrTmDluVm3A5p6OxHHNOYjcaaNoPQU+a4uWw4v2I5qNnpxIJ69ajPrQ2KxG5wcUmRgn86Gx1qNmAXOaaJY/zFH3T16UF+1UZGwetCSgccHNVYz5zQVh3/AJUhOarpNkdc/h0qQNkZpFpg3XNJklSSaXg/0oJA6YNAXEzxknionbqKVmx3GaryNgf1p2IkxsjjHeo4QXk6cVHIR0Oa0tJt2dtzKQF/nVWMWzT0mBVi4UA55OTya11FRQRhUwBipxUsQUUUUgCiiigBaKKKYC0tNpaAHZpabS5pgLS02loAdRSUUAOopKWgApc02loGLRSUtFxBRRRQAUtJRSAWikpaAFopKKBi0tJRQI3KSlpKskKKSigYUUUUgCiiigAooooAKKKSgBaSiigAooooAKSiigApKKKACkpaSkMSkNOpKYhKKKKQwoopKAA1G44qQ0xqGIyr633fMvHris2OTJKsSCO1dBKKwr2DbIz54zxg8is2bUydH+UE1N5g6Y5rKiuCvAbPPXFWxJgBvWocbGyZc38c01pQBwce5qIOCmc5pruqjLnr096SQ7itLkYyWz7dKgmkdRiMDJp0kp25ERUdiSBn8OtVt0jt8g59cZp2BsjnBjXAO4nqcYx+PeiGUAbjknPrUdyVRPnYMxxx1qNnCgADk8jjirsQ2aaO8i7lO0etTRuMYHPFU4JgkeSQxPPXipI3LEHORn0qWiosssTUTqO9OBJOM80rY71FjRMrMvOQajYDHA7VKfQHFNI9qC7lN1+bimnGeT3qeTqRj6VCyYPvVoTGE9qRjkdaCcVGz4PamZtkb4BwahdhtIJp0rZ5GKpySbuM1aRlKQkjHNRbhnmmM2GwCetIZDkhhWiRi2WEl2kYP15q0HBHB471nIQXweh6GpwxHDfn60mi4yLgkGcZHWlZxjGcZqp5n4/rTt3NTYfMLJIB3NVmckd6WZsrjn86g3YJIIzVpENkkal51QEEseldbp1r5MIzjn0Nc1p8Ye7iLd26V2ij2pNkCqKfSAUtSAlFFFIAopKKAFooooAWlptLTQDqKSlpgFLSUtIYtLSUUwHUUlFIBaKSloAKWkooAWikooAWiiigBaKSigBaKKKAFooooA3aSiirJEooopAFFFFABRRRQAUUUlABRRRQAUUUlIBaKSigApKWkpgFFFFIApKKKBhSUUUxCUUtJSGJRRRSAKaaWigCFxWfcxqWIdQQfUVpsKpzoGboKiexrT3ObuYvKucoSEB5HpTvtCt8qsG4wcDNXNTtiLd8bgxGcDnP59KxbApGjb2PmhujHr3oi7o0asy9HPhtrZ9s1OGJOQAD/sjGKzFmJmIyOKn3ptJJI49OaHESZLPMu5QMM3cUrOUUtI6qD0X/AD0qg9xGrhiSxHZT1pkly8pyF5HT2+lVyg5E0zq2WUBj/eJ6/jVRZpN2WIHXCqelQ3UzYwCMnrg8023aQ8KQcnngVoo2RnzXZqRS9CxJz0APWraOduBx+FZ0Dgy4ZyWH/wCvtVhpsDaMD6is2i4s0oJFKgAjPvUjHPSsmOT5jwcZ61fjmVhhecdahxNFIeevT9KRhzkUAgjPHHtQp5yfSlylcxDIvBPWoCTjBq1MRt6Hn0qu+MZGOM1Vgcio55PpVZ2w3PQ1JcOAcZqpctgbsg5FaKJjKRFJJyaqyPzn9KdK/HbmqjMCeT3q0jFyHlzzTS3OPQetRsfrxTNxIqrE3LSMMe9TCQMcHg+hNU4yN2Ae9SZ56dTSaKTLIcZwaDIPwxVfJzjPPamlyDz0pWHce75bOOPanRRtI/H8qijBlfHvzWjCiqBgDnik3YErst6aMXkfHfpXWL0rlrDH2uMY6GupXpUBJC0lLSUiQpDRSUALRSUUALRRRQAUtJS0wFpaSloAWikpaBi0tJRQAtLSUUALRSUUgFpaSimAtFJRQAtFJRSAWlpKKAFopKWmAtFJS0AbtFFFUSJRRRQAUUUUAFJRRQAUUUUAFFFFIYlFFFABRRRQAlFFFABSUUUCCiiimAlFLSUhiUUUUAJRRSUCCkpaaWAoGDVWl+9UzOPWq8pBYVnPY0p7iMqSRmOQZU/5/CuY1nSJLeRri05U/eUdf/1V1ApssQlQrnqOayi7G7VzgEmfzF3rtB6npVlrng4bt2q5rOniKNi6nAIIbJH61ho5G2PAJJ4wOtdMWnqYzTRaieMkmQLz70eYpY5b5R0Gc1E58mQeZnDDnpxTI5lV2IzyfxNUQOf5mwD+mKIgFySelQSTkyEtwB704M8gJG0IDySapiRYWQR/MAB+FPjmLFiT1qnjKjccmkOY/vEAd6LaBc0Tc4G1T35qeG4ITGaw2dhzzzmpI7whcEHA6nFS4lKZ0UVxtwGJqUTg9+3Fc6t3mTdk8everIvvmA3Yb6VLiWpmnNcgA9sVVN18pBx/jVCa6LgjPNV2mKr0B/pVKJLmWZ5htJB6VUacGHHfpzVaSck4PAqF5DgjPWrsZOVxWlIbtwaYzfNwajOd3r/Wh+vtTsTcUkdscn0pVHb86avI5/8A107vxjpxTAcuE5Bpyuc5A+nFRMR145pynHOBSY0S7u57UgXPJ5zTeXPyjNX7WDjcwHsKltItK463t2Cgn5efTGasnA9eKXgA9PypprJu5qlYt6d/x+J9fTrXUL0rlrEhbtCD1I/GunDCgiY+kpM0tIgKSiigYUUUUCFopKKAFopKKQx1LTaWmAtLSUtAC0tJS0wFopBS0AFFFFIAopKKB2FopKWgApaSloEFFFFABS0lLQAtFJS0Ab1JRRVkhRRRQAUlLSUAFFFFIAoopKYC0UlLSASiiimAlFFFIYUUUUAJRRRQAUUGkoAKKKKAENFBopgIaQ0pqKRsCkIbJIF71mX2pw2qF5XAApmq3y20DOx6V55ql/Peys7sVQdBnrVpCbOju/GCxsfJjDDsSetb+l3Ml3ZRXEowzrkj0zXk5Y5ODn3r1HQV8vSbZc52xqDgewrOsrI3o6tmsMUuajU07rXMbjLmBLmBo5B16EdQa4fU9LutOuPNjG+PPDAZI/wFd2femzRo6EFQeKqMnElpM8/t9t253bdw6c4pl1C1u+HUj8DzXRX2jDz/ADrdAmRhl7VnXNlIqj907A9TkHNbxqJszlT0MJsE5Ud+9WUSMj5m3Y64OMfhjNTyWqMS0WEKnJ3tg/nmoStxEpWQMkbcjOQP8DWl0ZpMN6l9oyfoKbJ8zckjnpSqkZ4wAe5460YXdgSAd+tO+gWGFT3HFQbcthamk2ocM+cjr0pNuB3OT0xT6E2Dtz26c1GXJJyCPxp3UYXBI9eKrNLsypUhu59qSBkokJIAzTGY9+9VpJctwWB+tNLtnknn1qiWyZ92Tkc9/wDIphB6gHBpHckcUeYACCRn0pkg2ASR9KQ5AyTzSqeckEntgUrZb2oAaPqaQthe9O2Y/OgRk9Tj60DGqCxOSfepo4ycfLxTkh3Nhavx2yqnIH41DkXGLIoIB0Gfc1fCgLTEULxgDHank/Ss2zZIQ+5zzTc45xSk02pKY/zCil0JVh0I7U6x8RyBzHeEHB+9jFQs3yN05HrWFI5EzL2B4rSCuY1D0a2u454w8bhlPoatBsivPLC/ltZQ8bnHUqTwa7LTNQS8hDDhhwy56GlKNiEzTpKaDkUuagodSUZooAWikpaACiiikAtLSUUxC0tJS0DHUUlLTAWikpaQBRSUUALRSUUDFopKUUALRRRQIKKKKBi0UlLQIWikooA36KKKskKKKKACkpaSgApKWkpDFpKWigApKWkpiCkpaSkAUUUlAwooopAFFFFABSUUUwCkpaSgQUlLTWOKBiM2KpXMwVSSelPuJQoPNcxrGpliYYm5P3jnpVJXEZWv3sl1OY4slF9O9c5PuywJH0rWnKhslgTg9utZcxBJx3P+f8a0EUCQG54Gea9T0c/8S6EcfdH8q8tdCJMY716RoEwNjGvcL+f5VhX2N8OtWbee1OU1CWHXP0p6EN7EVypnTYloHp60gbjBFKDgdKZIki5UgHk/rVF45FGFkCnPdetXwSeKRlJFA0zDurYsdzHa+cg4znmqksb4Kupde4xmt5xzjgYPp0qo0KbsOVcZ4zjiqUhOKMA6dbsoK5VT3AB/Oqs1jLEQyzhkXoGGP5CulMaBsGJW9PkB/WoZraJxkwAAHqQRj8sGrVSxLgmjlWty8/7xWQDrsI/z+lSi1jLBdzZOMDdjH1NbY0uLeSkk8Qb+BGwD+FNTTY2Y+WJOOpLEg1p7RGfs2YkkPlOVik3sRycZIqJ9MfGZVJHqOo/A9a6ZNPgx8ysc9cnAP5UrWoRSEJA780va66FeyOKmtXRzhXIB6kYqFkbqUYcenFduYEx/qhnPXJqHyIw24oNwPBIFWqpDoHH+TO/CxN+VPSxlDbnUj9a6mTLnpx64qtMigY43Z9BTVS5LpJGEIJCf9W3HrTTGQcf0rWkGWyfx7U0RKeFUfWnzE8hmrBI54HA9atRWr5yR09auBQo4A/GnBce9S5MtQRGkSxjGOe9ShcjIFO20uOlRc0sMwO1IfenkcUxuOlK47DDnr/WmnrSknOAKYx54+lNCY1mIyRmsO44mb65rYkPHWsi6/wBeT61rAwqAjHdxWnYXbW11HKuVGfm9xWSh5461YVsfjWjMj0aGQOgYHII4qbNYXh+8860EbN86cHntW0GrnkrM0Q/NLmmZpc0hjqKbmjNADqWm5ozQA7NLmm5pQaAHUtNpaAHUtNpaAHUU2loAWikooGLRSUUALS02lpALRSUUxC0UUUDFopKKQC0UUUAdBRRRWhAUUUUgEooooAKKKKAEooooGFFFFMQUlFFIApKWkoGFFFFABRRRQAlFFFABSUUUCEqGV8CnSPgVmX14sMZZjjFOwFPWLsxxlUPzHpXKuCrkyA5bmrdzdtcSMxGcnjmqd05Lhi4xgc4/CtYrQljW2NuJAyRWZOm3cTgDmtNeXIyc/Wq13GETO3JzTGY55OeetdToF5tjVSeQfXrXLy45Kn86v6bMUPBIrKpG6NaTsz0KKUOuc1KPWsKwu9y9a145Qa4mrM7LltWJ4JFO5FQbuOKej54Jwe1CE0TK1O3A1HwKQkUyRXUMckc1E6A9zUmaQ0ikVTEueQB+GaQx/Tj2qcn1pMUIZVKMM5OQe2KQIOeMc+nSp3A9KjPHIFO4rETErz2qJiT27fWpmyetRMAP/wBVNAVmyO9RMCTzVh8Yzmq8mQetWhEUgGM1UlXJyBkirDnnHNRMM1aIaITgdhTT7AYqVl+bFJsJ9KdybDNueCDSgYFPwBRjrx+VFykhvfrS9sk0u3HH60hpMdhpPuKjPtT2P60xuefyoEyJufwqNjxmpG464qFzTJZBK3XJH0rMuDlvf+dXpWAzgdTVF+XNawRhNiJ0qUZPemL609cE8VoZGpo119luwXYBG4JPrXYRyAgEGvPxgjjtWvp+py2+1JWLoe5OSKiUblJnXBs07NU7edZUDKcg1ZBrK1ih9LTc0uaQxc0uabmjNADqUGm5ozQBIDSg1GDTs0APzS0wGloAfRTaWkAtLTaWmAtFJRSGLRSUtMApaSigBaKKKAClpKKQC0tJRQB0NFFJWhAtFFJQAUUUUhhRRRTEFJS0lIAoopKACiiigApKWkoAKKKKBhRSUUCCiikzQAUx2wKUsKrzSAA80wKl9dLDGWY8CuPvr43btuJwM4ArR1i6MkjIOVX+dc/FvEjFlOQemOtaJCZKqnyvlB4PH503JdSm3/EVPv8A3QIAIzyM0tpgyEFeowOKpCIVBRehPPJqC6G6Lcp9sL1qeUGOYoAR+dMlRWOM8H/PSmBkzxrjpyfeorYmNirDvVqfhSM4x6VUDc57VDRUXZm3aXBU9a3bW6DDk1ytvJWjBOVNc04HZCV0dTFNnFTq3oaxLe4J5z1q9HN3JJrKxZpJJk4NPJ9MYqksnOalWQ9zn8aQWJ8+hozmmBwRRkUJAKeT0pMHNLkUZ5osAjAYqFgKnbkZxUTj2pDRA+Bwc1C+49MD+lWDn0NMZT7VQFRkK8kjJqBlzxVxxyQc/wCNV3HPFUmIrsoA4H/16iYAHOKnYY681C3PFWmJoj7/AP1qTHOKfjvQAD+dFxWG7e9Mz25/lUp9vypm3PUj86Ex2GHj3ppqUg+tRtRcCJvamH3p7DP49ajb1polkbd/1qvKQc/rU71VnIwevPXmqSIbKk7YyOeBVc8d+amk55wOKhY+xraKOWb1AUZwMik6jNKOn41RBInPORUmcd//AK1MXp1PNAOW9f60DNfSr/7K4Vz+7Y+vSupikDKCDkGuEBwBW/o2ojCwSH/dNZziUmdEDS5qJWyKfmsix2aKSigB2aXNNopDH0oNNooAeDTgaYKdTAdRSZozSAdRmkzRTEOopuaWkAtLTc0uaAFpabS0wFopKKBi0tNpaQC0tJRQB0VFFFaEBSUUUAFFFFIYUUUUCEooooAKSlpKACiikoAKKKKYBSUUhOKQC0hYConlA71VlulXq1OwFtpAKiecDvWDfa9bwbgJAzDsOa5+58R3M7FII2THeqURXO1mvo0+84H41m3eqRmNvLYMQOxrjmuLq6OHdgWOBzz+tacEIs7Urku7dTnrVcqBFCa4aV3bPJPLCoRcsgUoAWHerzwoihSfmPJqs8ERBAX5sdSadwaBZy4wM8/560omCuCM8dRmq5UoMA9PQ1GHyWBU8dKq4i9cMrBZAc/XnNR+YCMkAZGOlV2nIG3kKe9QtKRxk4HpQIdNjLHjk8VSkAJJHerswBOBzn8M1SlRlJGCT6ZpMaYkb+X36VowSeprJJIPJIqzay4O0ms5LQ1hI3YJNtaEMx9axYpMgYNXYpMc56VztHVFmxHL7/WrKyAj3rKjf3/+vVpJDjFTYovK/vUgfIqmrnPBFSqf8ipAt7qAahD+9PVqAJsccUxgaVTkUE0WAgbjNIwNSMOf/rU04oHcrNk+1V2U5NXHzUDYJqhFVl6ioWTB6VdYcVCy4PrTuBWI9KTHvUrDnjim49qAG4pp69qlwAMkmo3x0HFAEbHtg1E/WnsTUbfXrTQiJuP84zTGqRuOKhfI64FUiWRSE44qnM3GAPyqeZ+uT+tU5H5wPStYIwnIjY4j4OahfpxUzH5cZ+vFQMRn3rZLQ52GOO31pehBzTBg9Tj8KeAfbmhiHg479aVenSmKcn6VJ0+XtUjFyc1YhYh1O7BB4warj8vxp6cNgenbimB1NnqcLoqs21wOc1oJMD0NcM7AS/e5q1b6jcxMMNuX0zWbh2KUjtA4NPBrAtdXjfiX5G961IrhWAIINQ4tFplzNFRLIDUgIqWMdSg03NLmkA8U6owacDQA7NLTaWgBaXNNpaAFpabRQA6ikpaAFpabS0ALmikooEOopKKBjqKSigDpKSlpK0ICiiigAooooAKSiikAUUUUAFJRRQAUlBNNLgUALSE4qJpQO9VpbpVGScUwLTSACq01yFHWsm91mKL5VO5j0A5rIuNQneNnlO1ewHNUoiuaWoauELLFhmA9cYrnHvri6nYvMQAD8qnAqjc3ReXIBx70ls4WdhzyKtKwiYHBc7eW6k1XPU5J+lStnqfeosEtgd8570wJ9P2/aFHJIPHPQ1rS7nOAduO2azbJQkgYnHP5Vp5Hmbix+YcY/wAaTBFSYYOVyM1Gw+Xrzjmp5iScZqKTlQPeiw7leUARBSAM81Tkk5OCOO+RVicAjj2qtOC7hc4x2qkhNkbOWiLZOO1Rh2xnkmrJjRYsFgvI60nlh8FVLBfQUCuRguOXBUHvjGajndQOGH+NTMrlf7o7/Mpx+FVpoiOwPvwf5UBchZwfSjp8w5x+tMKFSCPWgccZzSaGmadtLuAPv61oRvmsS2fa2OOTWlHJx1yTzWE1qdMJaGpE/erKPz1rOifpzVqN6yaNky+j8VMr81RRqmQ5qWirl1XBqUNnpVRW7DPSpVfvxSAtq3anZ4quG4p4agQ9jxTe3NGeKafrSAa2MdsVCwwT+lSnHc1GTzzVDIW9qibnrUzdOmajbp0oAhYelNI61IQKjYkHpQMacc81G3SnknGAKjOPWgTGMeOOtRE1IwyelRsAOtMTI3x3/wD11WlbrnjFTyHAqnM3B/SriZyZXuJNo46n+dVgh25Lf/WokYyPx296SR/lGOPw610xVjklK7GOcjGajYHOKfgjr37Uj4zVEDB6804dOnNIf6UoxQAL97pT+B0J603HPt/KnbSRnnrSGGeeamUYx7+pqDGTnNSAnggk0MBJxl8nv0xUalkPBz7GpZu2epFQ5yc89aQEizDGCvPrirdveSxHdFKSP7uazifegZ7Aj/GnYLnUWmtKeJhs961obtJFBRgRXBrIyZ9KsW94yH5XKkVLghqR3qyg96kDg1ylvq8gI34ZfUVrW2oxS8BsH0NZODRaaNcGnZqokwPeplkBqLFE2aXNRBhTwaAH5paZmlzQA6lptLmgBaWkooAXNLTaWmAtFFFIQtFJRQMdRSUUAdLRRRWhAUUUlIBaSiimAUUlFIBaSkJxUbSAd6AJCRTGkA71Unu1jBLMABWPea9bxA4kDEdlOapJiubkk4Hes+71WCBSXkHHbNcrd6/PO2IgY17571jXszSSfMzMOtUohc6e68TRciMNn1NZE2p3F7KEDvt77RWTHGGOeeT6VpwDYpBIGB6VSSETOFTDDg465zVS8nJUqSMEevenXTq8LKp6DtWTNLnoKYDGPQkknPrVqIHzgeckiqgIEYIHfmraMGjBJP40wLUmAvI6j0qAFRKAOcnv61I2GUHmmoCUJBHHt7UCCeUo+Qw/OtmxkE9ukhIJPUCudunPmcEc89KsaTdmC4ETZCyZxk96AubUiHf0GPX/AD+FVNrSMFG4e9XrhFZDzyeuTWVqlw1tGqJ8rsCG70WG2R3cqRvtXG5cAk8iqMk2MlQWz3J6VTlkcyAN8oHTFTjJTgfrVElaW9ul+VZWC+g4piXkpOHYkY696LpADnAqrxmkBpcOuQx57/8A1qZGZY2Lxsc+lV4ZWH/6qsBye/T1oAmjkMp2yRjjuBjNQTELKdo4+lSwv8/I5PHWkusK/XqKQEaueCOx71oW8quvSsw4xwefpUlrLsfB71Elc1hKzNuJ8HrVyJxwBzis2NuMgdatROB3GfasGjpTNFTU6NwOapo3vUyN0HpUNFplxXFSKenNVVPGe1Sqx9qVirloNkY6U8McdOntVdW7U8Gk0IsB6Cx9PrUIY0EnOf60WAeWqMnnOTSFqaW5oAG//XTD+NKTSE0DI36E4qJhyealNRMKVwIz/KmHmpDUZNMGNYH0qFjnr681IzcVDJn2qiWyvK3B4rPu5Nq4B5NXZXCg57frWUSZJyx5AranE56srCxr8uSQKjZdx4PSrMh+TAXH4VEqsWI49smt7HMRujbc46daYykAHHWrU0ltAgy3mSdSFbiohdQSEhlMeOncGmBXPfBH5UoB/Op5IVxlWBB6EHrTVG0YNS0MYfWlAJ6/yoYZHI/+tSgcZ44/SgQDrzin84yP8Kb9KUdOcUxjZuFGKiz6elOmPOM/pUZ4oEBOSf8AOKM8fWk/KjPPagBT/T1pKPyopgKruvKkip47k5+c/j0qvSdevpSA2LfUp4iArblPStS31uPgSgqa5UMQeGNPEzDg84qXFMpNneQXsUoBRwc+9WllB7158lzsIZWYEeladtrE8ZG596+h4yKh0ylM7IODTwawrXWYZR8zbD/tVow3SSDKOGHsc1m4tFJl3NLmoVkB708MKkCTNLmmZpc0DH0U3NLQA6im5pc0AOopKKAFpabmloA6aiikrQgKKKTNAC0maazgVE8wHeiwExYVG0gHeqk14iAlmAArFvdcRAfKIOO9NRYrm3NdKgySKx7/AFyGBThgx9M1yt/rU0rfK59+az5Hlmj+Yj8f61ooCuX9U1qa5X925CntnFUI2YqCWYkiomCspwQ2KfEygrx+lUIml/dgBu9RyRlsEHGetPlcSqTjnjvUSMTGvPXpz0pDJiVjVFX8amSbj14qnITsAxnnrUkOMN7e3SgB0sm58HGMc1myjDEADqR061ZlfDKck4z2qK4yFyMYPSmAyMZ61YiIKuM9vrVaPO7J6VMhEc5B6HrQIuRHdEACSR7UzO3dnJz1ptvxLgHHGenpTrk4kySASOtMCm5IwDng/lUZJDq4zlfepZlA6EkHqPSopMquOOfSgR02m3qX0fBUOv3lB5rJ17P2rAz7H1rNiuXtbpZYOo6gnrU2oXjXmZDHs+hz/OgCrMvRsj/61Sw/dGAfzqFwTEGyOKIXxgYHXvQIluEJTkDNZ7DFapCsvBAyO561SuI9ozQMrqSDmp8bhkc1X70+N8cZ4oAnjdlYA4OTgCrV4habO0qMc8Gq+BuVgeMirczKVQqT09aAKrKBULZDZzU8mOoBHpmomPPbFIC9Zz7xtb7w7VfjJz1rEjwsm4dq1beTeqnNYzjY6aUrqxoxuKsxv6is9Dx1PSrMZ6DvWJsmXg1SKT+dVlYVMv6fWgosBuKkVuKrqT2qRWpMZNn3oJ680zPpSE9xSBCs3fNN3nocUm6mnr1oGOznpS54yabnmjNIBGPrTG/WnkjOajY8UgI249qjYZPT9fWnOeaiJyMf5NUgGPjHeoJGqV2HPpVaU4QtnoM1SRm2UryXC4J6n0qrGys+cZ/CiZ/OkIHQHjipwCkPy9cV1RVkcc3dkJYtlOFHbiq1xjOOvrVkuVJDAd6qS8tknNWmQQ49gMUevGKVj6U0mgRJFPJA3yYIzyCM1bjnjmHC7W7jrWd3zT1yBmkMuMnPy8/U0AYGCKgjmIOH6Va4ZByD6GiwDevbv6UcAZP6ULjP+elRSuDwD060DGE7nzmm5Oc0dBRQIO1GaXtj3pCf5UwDPqOtJ+VGD60UgF/Kj86SgcUAO4o60f56UfU0AFPxgccU3qadjt/SgBVZx0ap4bueDlGx/umoOgpwGRnNAG3aa+ygLMN3PJrcttQhnGY3BriQg6etOV5IXzFIVJ9DUOCZSbPQUlB71KGBrirbW7iDCyDePU1u2erwXGAHwx7GsnBotSNoGlzVZJQe9Sq4NRYolzS0wGlzSAdS03NLmmAtFJRmgDqaSkJAqKSUDvWhBIzAVBJMB3qpdX0cSkswH41zmoeIBgiHP1IqlG4rm/d6jHCpLsBiufvvELZxABz3aufur2SUlnbOelUZJizZBGe5rRRSJualxqUkr5aQ/TNUZLlpFYFjk1T8zjOST3pJWyRgU7ALnkjj1NP80dB6c85quxDNjp6+9L5mBgZ/lQIlVwCQO+aUPtfknpUJOGyMc0/+LPoe4oGT7jg4JP49BSoCAy59e9QEgcYHXH1pWcgLnPNIB+4btoOcU8Nsl4ONwwc1FcAjGMgkc85p83ysjMAeMigZCchGB6j2oBDRdOfoKexwpJB5qEZIIan0EOC8HB6c05vmwwzn09aSMDk4Oaeqlxjk49qEBPGQHHPSnyNkEkIMd+mKhjPzYb0xUqHcGU5wO1MClMOvB60Sc2ykYzznjpU7KN5/mahZgy7ckkenegRSkBznipUXdGRgf40yTGcfpUkOccGkA0L8hVqY3ytjgEn16VMQAwI4BHWmSqCMkgc0wJ4iHUnuPWoZ/mQ8Lx70sDHP+I4p7gZPI596AM5lpBxVhkIPrUEmd2TxQBYgkGNrdKnbK4KnOMcetUFODVyCTPyt+eOlMRIJYpPlkXa3bPQ1BLEykkgU+WLPI4ohuEA8q4HHQP3FIZDkjrV/T2yCD68VG9v8oZSGUjOQKjVmQfL0z1qJK6Lg7M214BqZTg8VVtZN8YIP19qtD9a5mrHXF3J0PHU1MrY+lVlORzz9amVvY1LLLIYZp6mq6nkc5qQH1pXKJ80MTjkiow1KTgZ/OgQpNITz1ppPvSbh9aVxkmf/AK1Jv75puf1phPrQA/cD9aaz9hTSwphOO/enYBHPP+eajZuwxStnv/KmcngDFC3ERsefrWdezc7V44z9au3DBEyMZPTmsrIeQ7geOma6KcOpzVZ9EV1QF85x+maubSY8Ag/hUbpgDgKM9aa8qov3wwHWtrHMMmB5Jx+dUnbJPSpnuiwICjBqt154zQAnU0EU7A9OtJjmmITvTvWlA+lB60DGgFjgCrECsqkGooztPSnPMxG1cgCgB8shztXrTMZHemLkHrT+PSkA0880p5HAo5z7/SjH0oAPy49qaafyB1NM60wCj+lFLSATtSjrS/j9KAPegBMHNLRSjr2oAVevP6Up69KBS9TzQAYJIp4pFz6frTuenvQAuctkkUgyW75oBJ7/AFp6jPWgYoGTzjrzRtG7KMQR6UjH0JPuTSA4BBFIC9a6rdW42kGRR71uWWswT4G7a3cGuXRj2Pfmn7FYjGVPtUuKY02dzHMCODUyuDXEW2o3VmQM74wec5restYhn4JKt6NxWbhYtSNwGlzVaOYMODUytmsyiTNJmkzRQBvT3KoCScVg6jrscWViO9vY9KxdU1qWYlYztX69awnmO856n3rpUTJsv3mpTXJJkbI9OlZrzEluRz15prEbSd3X9ahLGqJH7uoJzUe/5u59qa3XPrTW+9x3oGIX+YjnFB5XA/nSMME9eKRTg8cE0xD1JUggnI6e1ISCRx9aVM9KGAGOMDHrSAVyDgr+NOX5s9j9ajXHSnR4x83b3pjH5IXJzke2akIDxYweBmoQSB6epp8f3iDk5HHNIRI3EY3Y46YqSTDeXkjHeoo8tlePzqdFxtyBwaGMhcqBj0461H6Y9KsSJ8xBB5qvJgA8dPwoAcp4z+dSR4DAhuvfNQKxxgj9KeDuXp+RoAcSRcYJ4P8A+qpuVkOMjNRyAEIQBx170/ksGU445yKAFIAww4/Gq0gCucZ561cIPQmqs+dwOce+KYipIrZ5zye5qSJT0AHI9KXGc8dupNLGMEdx3pARvzGMA8H1pHUBByBT253L+tNUgJt3fhimBHGwU4yfb3qxISCCMc+w5qAHLdzxzxUg+ePGOe59KAI5Bn1z9arutWmX93jkfh1qJhlO/wClMRVI9MU9Wxzk04odv3e1MAxSGaEEiuAHGeOxxUUtufm45HoarxsV6Hp+tX4GWXhiVGP4R1/OmIp2TCO6TI+U8HNaupx7YUaKMKp6BR1rMuYgpJHTtV3Tr1JIxb3GMH7p/wA9KXQZBa3LQt8p+U9q2oJllQMlU2so3/1YB57elQKZLSTPOc8ispwua052ZtqecGpFPQg1XglE6B1yQevFTc1zNWOxO5Mp4qQMagVuOKkDDFIpEqkUuetRhvWnZ96Og7C5pM8UwnBNGe9KwDyxHH5UhxjJppPOc0hORimIQtjv9aaxHrmkJ5OAaToefSgQDnqO9MmZEj3OwUdzTbi5SBSTznoKx7i4ed9zH8K1hBtmNSooqxY3JLllcOM9emBVWUqjkqw46jOKpyyupxG7KPQGomdiOWJ966djkbuTyT9QoC+tViSeSSaT/JpQOKBBRjiloNACY/8ArUoWlxzgCnjOaYDfYYpCPWnkH0ppx1pAIBzxSHr9adj60duM0ACgZ6Up4H1p0aZXJYDH60NkdRzSAYKXjuaB0xmgZpgB4GP5U33px6009etABj60YpenFLQAnU8ClxSDI60p9OfyoAT8KcB3pO+KfigA9+KBz3A9KDwOSaVfwoAVRzn064p2Ock0AYGMg07tk96AADPrTuQMcc0L1x1/rSkfh+tAxuDjpn8KOMcj9KXGSBgflSk/l/OkwGqSFPHenKfr7UEDAoPoaAHqQTkH600xrjcDtPHNGBt5pQR0GDnFIZZs9WuLVwJDujFdNZX8VygaNxyOmeRXJMQ/ynhaapltpPMhJGMdKlxTGmd8rg0/Nc7pmtxzYjnIR8dSeDW15w9aycWi0zkZpDnAOfTIqCRjnOAP6UrMzHGaay8Y6nFdZiNY56HBph5PenjG0nj35zUZOT0/+vSAG5Hfj2pgxjpzTs84yaa3XFIBrEkk03HfNOwSMDqaTGO30pgO6djg9DSucHOAM+2aFYDsPxp0o+XIC/lSGMVgCOvvTz97jOT74pi4/H6U9ssOPxoAUEt0yaOVboTTVYYIBPHTmj5i2MnGaYE4wsgYAKOpyatrjrnIzVI52ZAzt68Vcg+dMlV/A0AOdQJM4GCPrVV1wWBAq9JjAIHaqcpy3QY69aQFU8ZwMc1IhB4wDzUb9cc09T82MZoAtffhAHOD2pRnb1OR2qOIEgjPU9PWhSUcrjr6dqYE0fBPRvr19KgkKshPJA6EUqdTkBsjgVIAvc9R1oEVkAZCMfjmmx5Cgf0qSEYd8qD6dqaFCduhoAZJgS5wORz1NMkGyQjgfWpJPvgccjr0xSyqCiuDn1IOaAKxGGHzZ/CpYwAxDBgDntikyB/EMUq4LdTge1ACBRyMfSoSMZ//AFVYk+STAAx35xUUjbhkYz+dAEeAc4J59ajdSOcdalQ8j6U/aG45/GgRUGfepY2KsCD0PpTGUg80AnOSKSGaA/fx8kA+y/1/+tWdIhV8dcdatW8pjlBwcdx61YuYQ6B8pz6GmBHp1+0TBJBuXPB7iteSJJ03KDzXNODHJwQPTnpWzptyGiCsfYd80IBq+ZZTZOHQ9QDnHStWGVZUDL0NRSJG6YfIBqmhazlA3Foj7/41jUhc3pVLOxrjJ5pwOeahRwwDAgipVJI55rmZ1p3HfXtxTvrnmm7uOKOaRQHnvSHnqaQ/ypMg8/5NMB5PoaaWPJFNznj1oJGc0gD6ioLi6SFSW5bsKLmcQLzyx6CseZ2kfcx59a2p076s56tW2iCeV5pC8p5OcAHpTVLEZbp9M0eXxkZJ9aaxKJnd+tdKVjkbuVZsbs9PwqLOfpSyNls5z60KOlAgxTsY7U4DtQQKAE/CkI5p3sKMAdqAAcmnjNIo5zkU7HOB6UANb3/Gm4z1p2Oc4pQMdqGA0jjNJgkH609hnmhRx/8AXoAAOMGkbr9KkAFRv17EH3oAQdKOP8mnAcdDik6igBnrigjn/wCtS+lKfwpgN47c0uMngUdDS8Z6d6AE5x9fajjigdeBTlA6ZpAABz9fenbQMD09qMfMcUuBQAhx7iheWHP1o79aevGSOaAFxzyf6UppVAzSkDOaBiKOOuOKUfMetKBhSQTnsaApPU5oQAi7n4A+mad0NOjyF5z+FIF7gdKAGnJbGM0uB0FAGGzzRjnORQA09R/h1pB9TTgMn/61IeTSsAdqkUnPJzg9D3qPOSfel5zxnNAxrJg5Tr+dSLf3aqFEj8DHWmZ496ZtX0oEWnHAOPypqtg59ae2MHgcd6h6jjPWrEJuIchT19qa3b37VJIoIBUelRuCecYHsaQDQc8Z5pGPYfpRkE45/wA+lN5PAoAXAIzkGmnijPBH9aTO7/8AVQA8MB0H60DOCMD8aRcEUEnbQAADdyBT1Ocjio1znPGO9SdG/qaQDR94gde9PDFWxk5+lJg7sinr97rj6GgB0eWbaVznoMYq3aAgMCO2evWqvRtwyeee1WISRJjaVz6imMtsoeIAj6nFVbgFfvdvwq0igRtgH6+lQTjgAd+KAKMg5zwcU1Mbh149qldcbgeuP89KjUD3/KkBZQBG3EHBHH1p0iqX3Co4idmOOOtSEglTkYz9aYDVIDkdMEd+tLuy4xt+v/1qfMqnJVscdqiQbgThmIP3ic5oEBKpPggtnr2pJU+UkDb3Iz0p0xJYbsjA6Yx+lGS4xzg+lAFWcEAYbqPyqRSXi2tjK+9DrmPkYwfrmkQbZQDnmgCP5lbgYI9s07OSQWxntilZVJIAIx3zT0ByPmVc96AIZhgAryPYVG2SueTmrMmDCeSQO9Vuq8dqAGD6VMBx9Paov4uv51OjADAPPrigCCRfaoSMc+taOzdEx2/jjpVN1HeiwEYJGCO1aMDtLHgAE+pxWcR9P8amt32kDigRLcwOyEFSeOOelVbaRopcgA81poqM3KcH1qlfW/lzZ24B9OaGhmmjGSMujEkdMmrKst7AynO4D8qytNucN5ZPB6cVaJEdx5kfGeue5oYJj7OYwyGCToOh7VpjB71n3CLcRiePAdBzgjtUtnP5iAEgEcEGuapDqddKfRl0HijPbP503PHOadxn2rE6EIeeaac59qefamHjmgBucd+lR3FwIUORyeKWaRYU3NWXLKZJNxyPQZ6VrTp3epjUqcqstxkkjSSEvjJ7U0qc5znJ475o4ckHjHVqRjsXLZ5HaulKxxt3BiBGWyPpiqM0pdsH8KfNMW+XnAqBQSTQIFXPNTAYGMcUirjtTxQAlBH86X+VGKAEA5xSkc4pwxS45zzn6UAAHegjjtTuep7Gmt1xmgY0KB1p20AYORSgD86eBnmgCIgCngZXvSYJbg0442980CG7euKi5JNTHAQnFR8ZyaYxADSYp5+v/wBakzz1H5UCGYycijBzjjrTiB6dqTbjgZpAJwT39qU56DP5UYwR+lBB9BTABjdinrwelIq9elOUDbyaABeuMZobOTkfpT1AAJANMIHXHtSAbk5zxUijHUYNMAG7FTKvHsaAHIQO5oPPrTto25wefejgcA9fpTQxHJ28Y/woUHbnI6/nQ/I605FO7oKQD2GFAAph/Dj2qRhzgHOKjA56UAAyc9fek7Hnr1p7LxwTx1pMHPf/ABoAYRhcZ/8ArU08cYqRsbuO1RnkZ7UgE9yaMbu3XtR/LNIQM8dqABj6+tHy+n600HJwScU7cfX+VAFvBJ+/26Y61ERtfBxz7VMRtO4A9OckmmuoYZBOewqhEQYBsDnPvSODnJHWk28e4NSoVMee4HamBTZdr4zwfag5FT3CYG7vVdjzjJ4NIAJOeOfwpMnvQcY7dqaM+vU+lAD+vWlGMdDSDPBz7U7IPfj2FADO9TgggDHeogPr/hUieucUgHMuFHX8qRc7sUHJBGKEXDAnGPpTGTEFo+e3609DwCRzj0pI8kEjoOpA4p8akrznr1oQi6jLt47jjmq84/d/jU9uq4wQAf8AP+NIw+VwT16GgZQkA3Z5GRUTAg9Dz7VOw+XGehx7/nURwB/j3pALDjPIpydTjPBpqnLAYxzint8snI60wHoDyGBpdgQ8gnHr0qVVAUkHpVeQ5YEg0CH56DIUDt2oGQcZzUcmcgqDgjjPrTskdQPyoARRuDLx7e9VmJDDnp7ZqZyAxIHUflUMijG4DHPSgB033wcmnKBuGQSfXtTG+YKc54p0Z+YAt+HrQA/Bw4G0euP8Kq9BjtVyRdp4UEMPWqzj97nHNAETA7uKUE+uKUnnikHBxwRn60ATQyEZB7imuAy8DbikXBlAzS55IOPb6UwIGXnpjFM4H07VPggcH9KYy7gOnH40gJreYA4OfTirVz5cyruLHPSs4bkYEHnPpVuKUg7cgDrx60XApsrRS8fUZrUhkWSHJHOKhu4t6hweg/OorKQrJtJC59aALfnPbyLIuNjcNT5SIZVuUOUPXFEq5QqPmyOP8/jUNrKfntpQenHFJq5Sdma8UodAQBzzUoweD0rLsZijmCTg9V9xWkG9P/1VySjZnZCd0Ob0JqKRlVSzGnu+OSRxWVdXQlbaCQo9utOELsJzUUR3MplkJLfKBxiqxOTjJCjvinE5+XpQSqKSwyc+ldSVkcTd3cUZUcgYHQVVuZs8Dj+lNlm5wDkn9KhwSc0xAASSaegx6fnQq08AZ6AfWkAqjr3NKBzS4GKXHGaAG45xSgd6XHU4pcd6ADHuKUAdM/8A16Oe2DTsZHP6UhiEYXANNPU808gdhimnk5zTBh2z6Uoye/50uB1zSqOMjvQAmAOp5obORzSnA9KbyT04oQBJkDBx9BUWRnvyO9PPzNgDnpxTMZbGaBB04zx2oz6d6U46U3gtxTAQ4zQPegjnj8KOgoAUdeKUZJ/ChelP42ADuaAEB+XHvRnjHGKMDHQ0h9QKAHA5GMmmnPXg07PyYzTWI7D6/SkAsfUnAqdRxk1CnAxng1ZKgAYPFMBWHGOCRTD16frTyAFzmozu79fakMAMnGPpU8QPJIAB9ajiUDJI7Y+lSRAkE5+UnjNACv8AeyV6VGOvGPansTnNNRfmx1oAlCf3j9KawHbOM1IRwQMe1REkc5yfpQBCxx0NMY8gAZxSsRu5NNIBpAGePrRSYOME9fakY89fwoAOByKbge9KWzxS4P8AeH5UAXn2iRhj5c5AJoPyjbzyeOKHwxDEnd6Af59aVmXpkA98DrViIXCjnGRTEIR+h/Cp2AYZY7QOgxz2qs4IbBHy00IsSqDHkfpVCUfPgetX49jIQQc9eKq3CkNyB9aTArc0nNOpBjPpSGOAwOemalAxgg1GOn408ZI4GMcUAK3XjHIp6g496j78VIpAbkjH1oABnPJ6Gn5A5BPvSNxyO9LuBU8DgUASqcAHv2wealU4Oc84qFMlRhTx1qVVLMue49KBk8Zw3K9DxT2JUsSDz781HtPm4INEpKvn1FAEDLtBIPB9aiYDZmpjknPt6VHkkY/SkBEOeQMVNnLLkHOaZgemKdHjt68UwLgX5CCKqSccZq4jbkPHUfWqUhBb0xQAwgcksfwp7II3UKoC9+c/r0pp27SN3PalUnAIJ46e1AgkQq2N3Qcc1FJlos96lmGHU5ByKiC8Ek96BiLkpg4zmgAhhn19KQDkg55/WnKOR8h47+lAiRyuxuSfpzVc5PQcVeVAyMCBzVMgAMAc/SgCMc9euaMcdP8A61NRiDg8ZqTAI4oAjJ6H3p+SSDjqPWgY6daAMnIH1NADsZ/hppzyOuKlXaynI5H60jffGRnNMCEpuHfApoYhhgDg1YYDIweBTWX5snofUUgLUcoeMNtUY64HBqrdQlJBIoIweRmkhyr4GSDUpBkjKselAF20kWeEcgcDNQ31uVZZIs5HQntVK1lNvNjjmtaN0nj2kqSR6UAVVlMkYlA5Xqa0YJdyA54IrGc/ZZiq/dPXNWY5S0RUZGemBWco3NYT5Sxe3Bb5EPHc5qhsDHrtHvRK6xjBPNU5LhmPHWqirIiUrkzyKnQ1WklLjC5x9etMJZuppyJjkgc1RI0CpAMepoVeen6VJjnuOaAEULjpSqDnvTgvYUKDjrQAvHcUvUUBevXFOxml1GNC846/Q07GT/nijHPHengY79elADQuDmncDmlA547e9B/SgBowPzpMccD/AOtTueuM03HoBQAHB7ClTOPehlIHKjmlHPQge9ADXUZxmmsABxz+FPfO/B6/lSEZYdaAI8bRnmmtknmpnOTycZ68VCw5/lQIQ884/KjBGf8A69BwO1KeTjI6UAN57Up9eMUmO/alPToBTAFBqQnAxjFNTAHbmhiMgUAIeB+PpRk0r4GBgUfX8qAEOQvQc03nrg/hUhAHQU1eoJHSgCVADjI6VMWbgZPAqOL73bP0p7k784z34oAGYngnA9qaTlscce2KX+Hrz6U0D5uef1pATxk7DsIIxz3qVFIjGSCaiRfkOM5PYd6mKlEBJ69hTGRe38+KVPvUmOSRnP1qVB7fSkA5wFTgdarzHA69ammOBgVUlY+v4A0ARseeOpoHX8KTOaXOB7fSjqAYFMYc4OOB+dO96Q8DrQA0dcil3epNN5Bx3oz7/pSA0dxZd4JB6HjpTSwOcjOO4609lCOSpJRu2elMYEEhgeOnfNWIduVlDoTnGCDVdsk4z9cd6lDFQCSfcU4p3jGcdTQIjtmKSAZwGpl4h3/dGaGIV92Rjv6CpLzLEHA6daAM/nuKQZ3Dv+FObqc00DkelAxw6H61IpPINRjqeKfFyeBk0gHAc85P0p5GDwOh70Ac8lVwKMjPUn+tDAe6kKCRTlHyDHekPK47Z796VdzIRjoOuaAJBjZgZNSx5XDDjFRIp2bSegPbrUkQyCEH1oGSs3zAjJPf0plwcMp45HPPSlJ+XGTj6dailJYikAvvjimNy+OpNPA4PPShlG4HigCJ8hQBgU+2XL4Jyf50koygIA6061JDjHfrimBYgXLuM4GapNxMy7eMnqKuuTHN0AyM4qjN/rtxHT9KAH7Sc8DHv2ohUFCD2FKv3Md8U6Fcts4XI7UCEcA7Scce1V2JGRnGalmO0bRkke9NGGUnH60DIWbBBHGacCAQWJGOlNJ6cDrT845XAoETEgbSueRyfpVd1w2G547VMHBCnOfpTLjG8HHbg0AVipDHnFOXHr9KUnnJPSgk9KAFUAvjcF9z2oKsG45H+e1Ip54NPk4IPf2piEUbZDnHSjnAJwcfrQ7Zkzkc9fel5244oAcAdmc+9O6x9QcUkefLIGDj1p0RYD7ox7igYwgKVYdvWnA7fmOOR2walU5jK7AW7UiEMMMo5HGKAKlwoPOO/Ud6ks5iDjIHOck0+VOMsOKr7Qp6fnUjL91HFMucjd/Oq0sywxbExT/NKw5Y49Oay5ZDK5ZifzpiHM5dzuPWn7R6ioAM9KlXOO9ADwozSke9IPf0/OlI/EfXpQAoHPanY7ZxTVHPT9aXnOBigB+MDqM0o789KTtgYpwGef6Uhi9qVRkc0gXPIOacBQAfX8eKX/PFIAf8mlUcdMn60wFA449aQ56il7cDpSYAHI4pAI2MDrQv3uR+XakPXnt79KBwcgnOKEArcnnI4pV++BjPrSE8dTzTAfn6n6ZpiHNkv2oPXqB70gyWyaTODknt1oGDE46j8RUeCx5xgdMU5iOcgEU1SMEgDI96TEJxnpxR7+tCkc5FGeMf/XpgITzTuAOM0wkZHanN2pALn5cUOMHr/wDXoBHA/OldgSOTj60wG4yeOKDjd1NAIHoaCcnHHU980AKwGPlJpR0AJpBk4Oc/hUjYPHBx6CgB8IHHOacxwSSO/pTF6/ypGb160AKpJOccUg+9yOn60nrSpx70DLMQxGuSQKnl4jHJqNVIVckYPtUkvQCgRCORjPbpU+AMHH/16iXr1H+NSHqB3pDIrhhjofw5qk5y2KtXRwcE/h+tU8ZPA6mgQoOOOKGJzg0vQUIMn1HtzQMcozzx14pkhOc1IThcY6VATlsigQHOOc0zcfWlds4Ao20AbPDoyHGTzUDq/CkYZf1qcMQdpOWHAOP60rKdvON1UBUU7WyB1xn2p5O1/kOVPOSM0SKUbORhqjyx/dBvlHOT270CEk2k5Cjb6UtzgQKduM/l+VRjqVY5H8qkuGzbKu70zmkMoN1Jx1puac3Jpv1oEOB5z/kU+MdqYBzmpUzjt/hQMlVCfuqDQQQ4DDilQlTyTk+lDADB2sM880ASrzkEnpxikiHBHHNC8HKkn/PrS7drYZQM/hQA5GAzux39qlhILnqQfwqGJVJ2qPz71Ovyrjcqk4zjNADl+U7cLgHioXwDjPU1K2FbIUHPdvWoZiN+QAOaAHKp5z0H60jfdBAFOjPz7TnkdqdgGPr3oGRnhASCc0Q5Mg3HOGFNL7uMnOaeqlXyRgA80AWNQGDGR3FU8ZXPrVq+kDxKR7c4qoCdmc/SgAUhT/hT4yFnU4IBNRlflJzg+lPjw2Dzge+aAH3ajccMeecCqiPgkY61cuyBHnjnjJrPzh+SPzoESY3KcY4pqk5HC8Hk81JGu4EKBz3xTM4YjJ6+woAfkhOJAM9RjpUcxOM5J/GpGBwcAc9cmmEnZ8xP5elAEODtpMkqBxkY71IB+7J5596iyMf40wHKTjJ4984p8mdoPAPsaahOOvIp0hO0DJ/KkICDkFieQe9AY/MDnFNyD90j8qFIzxj86BkqZAPJHXtQMY69famAjdzj86lXnjcPz6CgAjkwWDOQCOTinB/7rE9PamxFjIdpBPbkVLCpd8Agbfbr+NMCNnySMj6ZqJslsfj2qV1LOSQBj3qJPmdsDNIBt4+AFyMnrjtVDqTViblzz3qEqRytACqRUqY/yKhXOeR061OhwMA0kAv15+tOA46fpSdjRnvkUwHqOvBpceg60Dtk0EjHJoAeBnoDTxwpAByfemoRjsfw6U445HakMAMjnnvS9UB/M0LjaeR+AowGHUc+1ABnIwMduKdztzg/pTTgD1/ClwoQEnnNADsjGSDz7jimkHGD/SlJG3oTn2oYjp/QCgBB1Jyf8KQcN1oVhuwWHJ7UpzkgAECmAhJC8HjvxTFUh/mHU8UrN8vNNQjeTn86BCglWPFLzgkqG44poOX65P1ockcAfrQA1lx2/WmDAzTySRzn86iOTQA7GFz6+1N6df8ACntjYACPypCc4x/OkA0DmgnPIP65pCeQMdTTsE8nmgBO/Q0Hrz+HFIeTxTsYPY/hTAQ+3rxS45AOPypT16jilyS+ccfWgAUAuA2KlwPMxtGO9MGc5K/kalixliQeBQA0gg+56Uxj2Oc/yp+QXOM/0qJ/vnnoeKAHA9hgU9R3qMD5ugIFPBwAOeuPWgC5FgsuOg9qllIDA8dKijwBgE1JKSHAJHT0oAFXPXn3pc4bA7UiDsMc9aaSQ5yPybP86Bla6bLnqOKgXqTT5iMnHT61GBjg0hCt3AoX19f1pvB/CpB06kH2NACNgjnNQk9ST1qSQgDBNRdT/nmmA5Bj5uOBxTt59T+dJ2+lN3D1P5UgNqeJmAdDhucD1pscjuMbhuA5A46VefYQHUZDDjHIqhPHtk3L0HUetUA2QDuBzVUkqxycf1q2214iw6DrxVVwCpZR0689KBDHGRkZHUVYuNzWcZIOMf0qsSSeT9BVliTZAH16fnQBmsQTxTM1JIMN0/8ArVHxwTigB6nnpUqjIqIdfoaniJ6gjmkMlVTgdBSyrtAJYn1zSqR1xk0sjZTnAApgPhPTj/GnXAywymR0GOOaiiJAyMe/tUkhZosnI4GPwoAZGAHwT2qfOM/L64J7VWjUYOSBg+maskFrfPLHH0pALMeA24t9MVC3Cgip5FH2bDEA9gO9QceVyQfwoAdH8zrgY/H/ADmnS5j3IwGfr3p8OfvHjjnnrUM53SYXAJ9qBjE5ctnH1q1tGHI9OOKgjQhzuIqfIRjg9Tz834UCGoS8O0kHGagRSdwyevpUiBBJgg8+lGAHIwPbmgCE5xjI5p0W5o2G7j2pknt/Onwg/MRgDHp1oAfPloflHzegGKoMSG7/AJVeAV424BPt2rPzj0/KgCeB9rcevWmvjzSdwOfeo0J3Z3Y59M1Ky/vQc5yaAJC3yDIb6kYzUTYx0Ap0jAkAsOMcZJpMkHC7hn14oAaudhC8fQVCx59PwqRcYwowT71E33uPWgByYB5NOPPAOajQnOM9R6Cnsx2gE8duBQANx/8AroQ/Nj+lITnsOlNUgPk5I+tAD8fvDx+dWVIBwIw2exFVcjzR16/pVhlGcFnB74oAVQvnYMX69KmgRAHO4DjHTNVxhJAVdh7/AP66sWz/ADuFlZs56Lyf85pgQMCpJJ/GmgBYnYkflT5t3n4JwM9x2ps4Cw4XP50gKTE5waAPX+VBPbP6UDIHX9aAAcHHFPBPem85wKeMZ7flQApOB7ClUHI/wpCOOlKFPXt9KAJNxPXH5UAnHBHryaQD3FKPTAPvSAeuc45z9BT9p5znPemoPUDk+lPUD5jmmAi/dOAffJFKv/66QA+Xk88+lOXjjv8ASgYDHJ/rSnGwDA5PrSqMDBz09KeQSvIPseKQERBAA9/WmtnknOMetO78A9ecUxh8jZzznHFMBq9SRn86kGRyflH1/rTY1IIGOD64/wAmpJBhhtzweOaAIphk8Dr70i7h78Y60rnJXPrz7U4DOTg4AoERo3zkAnP4Uxsb+h96eDhjjoD6VH/Fxn8qAFyNpHP5UzjtT2XjOD9cU3nHBNAAPfP50gPPWg5zgk0gz/kUAIeDgdunFLk46D/CkI5zSn/PNACZGccfnTl+91H503PHelGeoz+VAhT1xjr707oRlaYDluR+lOP3uRj6jFAxzAKcYI9KfGwwff2qJj05/Wnpz1/nQA7gen51G3J471J0JXPao2xnkj8DQAoAHOevpUo5xyMVEoxjB49xUgPTI+nNAFuIYIJwfXnrU0ud+QDg+/SoI2KkDJU47jP6VK7EtgkH8OlADo+WxznH1qJsnPYn2qVCd3JyB71DKD0OOaAKE+BIQuCKMgjjvTZP9acfh7UZ70AOzntThSDPqfzpGIxgGkAyTnp0oAxRjnOaMnGOhNMBec4HWnbT70i5HJx9acGGBx/OkBp6ddhQ1tIPlJ4PcGppFDttzzjOayiu5mDjOf51o29yJozCzqHUcN0JFUxDIpBDKYpFBD/xZ6fh+VMnUwSZUjBHORnipGUSAqVIA4HenRstxbmNiDIvA9/8aBmcPvHjg9OelWlz9lbA5zyarTReWxB6A8exp6sTF179M0AU5B8xye9Rk496lkHzcgCoT0HJoAduOeakX/ZNRDoPepRgHBOM0AWo8EcsFpHC7ckFvQ8/ypVA2DaDTslFIbDH+VADogWQ4HbtxToh8jAk5xwKbCRkrjnPU5605Ad5XJwaAGxBm3EqCB/ETVxAph2M4BA6Yx696r5GGVsDHSp4ycBCAAPQc0ARH/VMCB15OKYeVPOcH0pSg3EAdu5pN20FQTgj0pASbiFCoTyOo71XYnzMYPBqUAE4PXHqah2/MRgHB6YoAsnaGP8A+vH+NMkJAz2qWQAwZ6E9PaqrDPcZFAEkfEyEkYJ5yacflnIB6jj5etR7fmRmBzmpZME7gB+dAFWchT0+mKlgIUkYXkdCf6VDMV3gcH3ANTrjghcexPvQA5cCJuee+BjvWe33v8mtI7jEeU56BR0rNcHcc5zn0oAQDnrz9an9GwDj0qLGAfvdKfkeXyf1oAHJLbj7ck4p3zM+CxbjnC5qIknoBx6d6l3MQC3zD60ICLB3tjP4ioiADz61KzYYnA69KhZuckfrQAnGeM/iKeTg8cfjio93/wBansxb1oAcvPGT+dMbIPtTgR0PP4Uw46cUAHO4EY496tLllAGzI6e9VcnGeT+tTg4UcNz7daAHncWAwM46DjNSwbtxJ+TjkA1APvqe306VZgOWb+eM/pTAibHnE4+mO/aoLnIHTvVp9xkJznPfbVS74IAHT2pAV8nsaUZxwP06UnalH060gF59BT1+9kj9aaPUZFOXHqaYDjxzzSjBX7v603gjjpR25oAfnocH86cpBPQ0zsAGH5U5M7zyKAJkAAxtPOcc05RwT6e9IpU8719hzT/4SSOPpQA0H5OVFAOVGRj0pwA2/KTwe4pADnI/lQA/OCflVsjoe35Uu4bM/L70YBOCDj6ZzSjcEYEHHUA0DIlIVyQq004MTE4PPSnJna5z06e9NUZj5xQA2MgkDAOcfjUkp+bn06EUyPb6jP1prOGzz1NIQhySBwPwzTkcruXAwR3HSkLfNkY/OhscnP0poBh6ngdaapGcACnEHZmmg8cAc/jQArNxnj8KYSB1qTnqQKhbrwKAFyP/ANVJwB2pBSfmfwoAf2/HtRikP48UHr1oAMHPf8qDj2pD1paAHJnOc08YzncffnFMjyemRz1p5LAg5Bz7UAI+AeD19qfnAGc/lUbFuCQPyp24YGAPbmgBXILdqb/F1xQW5PWljz7fhQAuMjPH59aMgDv+VP5xnHTn6VGxOAKQFyJhlRk9KmZjvzyOe4qrGw3DAHHarAwz8DPPPNMCZWAyQRnBxwaqSEhzjHI61b28cAj8qq3HA557YxihgUGOXOfXrQOpx1FMJy2ad14zzQA9TxkUMc4HoKOi9s0wHnrQAvb8KUDJzx7DNHO3jgmlA29aAA5GB+mKPMX1NI+MZNRYagDRttrSkFwuBkZ7/hTZmKzK6sWYH7y8dP6Ulvy5+XcMYx/n6UlzgnAJHtnNMRsoUuLcSoDjoQRyDVCTcJvMjyGHX3qGyujasA/KPx34/CtR412blOSw6+lAyleBZrcSRj9aqQg+WQexI5q3HlGbB3bshqhMfl/KBuGcjvQDK1wvJIP6darHrgVculYcsCMjIzj/ACPyqpwT1oYkIDipkOW4P61B3/8Ar1Irc8E/ypDLcbHA5GfekmU5Bxj1Jotz1AHNOnwxBBPHY80xDoyARzke1SMo8wElc4zg1FCHJ+6R+AFWHGcMRuGee2aBiheSTnBHPNSqoQABePzpGxtBUADHrj9aC2F5zx09qAIpG/eYBP4DFR9W+YcHoSc0OQzgEL6YzmlQgHqc+2aAHYKOjDqOmFxUYO5mJ6/XFSTtgIcdepJqNSTKwJ5I+tIC0dwtOec/pVXBAyQRn1OP51ZkDfZTnBBHHze9UkAxheeKAJePLQsQAO55qZyDyCSccEDqajHMIxk89xSuM4BABxjtQBDxvyTjHvTmIK5BBUdsUIv3uARnigltrAkAdMetCAXeDF8obGOTnFUnOGJIPX1q2xC22CxOaotx/wDqoAeBkEn07inBsxEj+VCH5D1psZLRNzkDrmgBucnHPAqUjKjK/jzUKj5iMjmpgFKY3EHPIAxQAxxz/wDWqA47fyqdiuP55qE80AIfTHWl7Dr+dIeee9KuNwzx+FACjqBzSSDaeQaU4DfQ0j5NADPpUyHKYLEVD0OKlTGMFQffNAEx3KVPmEfjU8ZYghmLZ96qOAAAQM49auwqPLJwBx3NAEeSJivPv81VrvHmcE1MxxNkkemc/wCfWq9ycvx+lAEQIz3PpSj6/pTRTgaAF7cY/OnL15/nTPw/Snp9B+VADqM8ZNID64z7UhJxQA/sBTl68D6io88inofQd/zoAsj+fv0p23IIOMimADb0H86kjySccelCAjQHkEZ/pThjcRj9aSPBc8fpSqfmY5/Ed6AJAB0IHPvmkiIVHHH+P4UqEjIDEfQmmqW2H60AJkLCfXNR4AXtz7UsmRGuc8n0pG56c+mKAETh8EY/Chsnnjr+VKBtflfrmmuBgZXmgBMEnJNDcjjqRSgdPrTW+aQZHSgBSSqgbf0zTCMEHaKGP7wL0okG1uhHPrTEO7Yx/wDXqBshiDwfeph6c9KhfjpnmkMQetB602nc+lABnkCl4/wpO/fp60vPPSgAOffmkP8A+vilHfmmnr1/WgB6AE9Ac+tOYYPQc0xTz3p569/yoAQ53d+tOABbGMfhTP4hzUiff5/nQA05BIpVHBOfzpDyTinKeOv/ANegBe3yk/h3pHGOoFHXqKUqucZIPfgUgJI25wSasRurNkleKrbcd/pTkJBAzTQGhkbCMr09aq3Y4OTx/KpsjoMciq910I9uef8APpQwRn98inJ97JPAPFRn75+tSDgcZoAV2yecUgGKTO5ulL1PQ5pAKPejJ9BQf1pjEdBQAHBOB0p2D60gGD81OoYFm3wJBvbbkdaW7DbsZB5/KooiNyZB6881PcBGk5jZcDnJzVCKkgAABB961LKTzIfsxYb1Hp29aznAMoGQefWpCzRyBlIJB7f/AFvagZflVo06E471W8wtlM/Q1faVbiAOvIrP2nzm+lAEc6gDHf3aqTYz9atzYDdv51VbryelDEM78/yqRM5z6frTBj3/AAqRM44x+VIZbiAOcg9PX/GnnphOeMnj+tQxthwXPB4PHSpWZCOFY4/AUxCQkCQKSMeuSf5VcC/KSzAYPLE1ThYgkAAD6cirajMbEEEnpTQDnbavOCO59Kg35zycH8Ke+DHhlBI74qAZwTtXp35pDB8hs4zn2qQk7RwenT1pDkofmK5J+6cU4Ywp+bPQ8Z/lQA2VlKRkkcdB6U6AEsTt5+nSmzncqkHv9Kmg+Vdx7c9P85oAJGyrDgZ6jFQIDjGeg44FSHlm4IxzTCQh4HUc8n/OaAHhcpgcc5605B8oCnnHb/69MjbcTx24AFEDEyFcZxnqelIBIQWLj5iKQL98BQcd+aWIqJmA4/Chz8zDJbPp/hTASZibYAt0qgTnr396tv8A6nHUY61UON/NAEsYG089qamApwe/SnKcAU1upwccUgI2HIIGPfNTxlirDKhe/wD+uq7AZBz0qaIgHIXJNMRFuJyT37Co+eeBUn8RGMc0zkUANbpmkU8gUrUz+LHvSGSsQWzmlY5XFN7c04Y29TTAiOM4/lUinvk/iM1G3BxSqSOfypASk5XJP4Yq9aklMFzjHUDOKz+dlW4HBAOMcUwGswE7c8g1WnyWOf51OciYkevHtUU+MnmgRBTu386aPenDp9aQCnAFOj6/5NNOfWnJ1560DHL1xjvSN/OnoCX+YimMp3cCgABPtUifepgHQY61JEPnHHSgC0AcdevenRjDkEdBTVUEcfiMU+MHcx9R+VADEwC+M9evrSLkMciljPJIPOSOadzjIOBnigCSMfeIB6UzbwRjHFPjPynJ601TkHp7mgCCUYCg9OtIgBB5Jwae4/eZ7CmKpI4x1oAVzlcgY9qjbbsXCn6GpdwHG8n2zUeQcgE8UAJk8ZIowS45pPTNH/LQZGMUANfAk/wFOkVSM5PHtTZDtfg4qXBZOWXj3oAiGM8Nj8Khc9RnOKl6MeQcVE+N1ACZx/SgfUflSA+9KD05oAcfWkz7Uv8AOkPTNAhD60h9qVvakbr2pgKpwePSpWZjySPyqMZ6ZpzcY4/GkMOrAkDrThy3Pf8ASmjGehNO6+nWgAyMmlxTP4zTxjGfSgAPv/jUi5JByMDpiojnrTgQSMigCZsbeRmkXrzmnHBAA70AAnr1oAniOSMt9OKhucHOCDz2zUiErJjnGOagnI3Hnt6UMCmeX6dDTvujtyaYvLE04kk+1IBQcDOaUH0/KkycZFA9eOKAFJzTRyckUuc/SjoOaYC4HpTse5/Kmjpnnr607cPekwJISAQSe9W5wS4ZJMj0I6VRjORir2MjOM49KsRSlyZc46elKhw2WAwBxmlYAvnJ6U18JkbaQFmxm2SmNuUc8cd6tXKfvQTxjPSscFlYEEgg8Vqifzo9zEBx7daEBUnX5iQ3U9MVTYYbp9e9Wp2becn9etVH6/54oAM+uaejHPX8qj785p6Zzn0FICZSeq8mrDFmO7aMH1OAarKcZxj61OhBGWJZs9GGf50wHBFDHBLY54GKuFR9mDhSM/kagUMF3HaoHTkD+VS7lMZG0AY4J60AJIytH0IOOtQAjbjPbnH+famqwLHn86Iyexx9aBksYypAXt3+lO5WH5pB16CmxZO8Fug7ClJO35QCCOvoKaENn5WML0qzGdsQ578e1VVBbZjqOx4q9s8uJctge9IZVOAzrgHj64pCPmwP/wBdDAGRzkgU5uDgZPFACKwSQckUlqMXTEnr3ocjzI9wB9aFZRcZOee9ACIQJmK8DPHNTSD5zlgvuOc0xEJJKg/TNO25YYHGP0oAqvgR7evoardW/wDr1ZmV1Q5YdfyqAZzjI/KkApzs5HQk5prDkkZpzgBM5701shupoAaR2yPT609MAjJP4UhyM/KOP0FODHg5HTimIhYgSHn86MZ9KJs785B/CnKOMDFAEL+nT8aZ3NSP1PP0qM9cUgJAT3pynHPfNMB78U5cjn1pgMb79H59aH4bpSA0hjgflqxA5CYAJ5qBeV6ipIWPTPU0ATnBcnHJP5VWnOW6VZJPX2qrMeTzTERHr/jxTs8Y4pDQPTmkMcfoKVeoNNwOwNPXIYdefagB6/e/HmkbrinNwwpj54NACg+9SxfeHOfeosH2p6k564ycUAWwQAAO/tmpE6secYpkSnK4INOUbZHBOCemR1oAjiVt54POcVIMcDJ69CKFwHz/AJzThjsKACPncBxxx/n8aVMH86Ihkkk4P1ogJ3Mwxx2oAruS8rH0FNX0IPX1pSDuc9OaAVLDPODQArLg8kGmt3zjmnyIOCOAfUU1j2xnJ4460ARSA8HOaBy+SaWYAsCcdKFI68fSgBkg+boDkU6M46r0pJQM5IP5+9NQgEdetAA2A+CuDionOG6VLKAHyMioW69T7UxCfSigUo/CkMXv+FB6Un50p6D3oEI3bmk60dKOnWgBRzyCacSCATnmgHjg0HOeDQMd2znNGO2aTnpilbrx+tAB3zyaep+U89qYOtPwMe2fSgBhzj+VPU4H+eKb2p2OhwQKAJSentT8ggLxnPpUA+916VOgORntQAqsPNOOahmJy3IxipejHHGf0qvL90n1oArqcZIpRmkA6c0LnPWgB45/pSj5jjoaMjr+VPUADPH1oAYwwQPy4pBnvT5Pz4pqD1IPpSAUDPr+VOx70o47fpTsn0/SgCNBzjP61fXJAOQPw61Rj6VegDNCONwH8qoRXcDzcZGeOhpkgBbqP8KmkBWU4GPXmowm5yTwRQBXlVlOCO1SQSbW2gkZI4prn5zyaFHzDvk0gJZ1+YkdCKquOc9fwq7N90HA6dqpvz6/jTAYMfrUg4Pr+NM78etAPtSAmQgZ9farFuTtbkYx+JqovX+dTxden60wLKnuAT9TUo45VtpxyOaYp3A5PPp60kjYAA/LpQBXLYlOfX0/woVwBg/pTJM7ienrT4sjnPNAFq33hvljwDnk9qMsJWVmGO2KVcbgWYntikPyvkLge/ehACcsM/UZq1KAIRxznpiqsS5kAz0HerNxu8ravGDxQMicKHZguOPXNMkbO4juOP509iysdvfjmon4c4/GgAycp3HfGaXAFzg56DtTW6JggnPan8bgW6gelAE6/KxPSoZj+86t19amY5wcDp09ahmbdLnAXg52Dp+VCAqTcHJHXk0wA9SMYqS6OJAFJNNHJ9cYoAY2AOce1OcYHofzxTZQQvPQ1I5/c0hELAZypPShvuDKn6560qnOcEDiiTBUfN3oAiccg4FOGcYzTeppy5zzTAikHzYpvepZcbs4+tRd+aQxR/n2p2fQd6YOnFPGfxpiEk6Z600fSnSdM800AUhjh64p0Rw38qYDjoafDyx4oAtEfISD2qpJ15P4VaYZXn6Gqjnk5oAbQCT3oxzSjpQA7v1pynDghuhpO/Slwc5AH4UAPfO/imMRuzTieh9KbznNAC8FeelPXqODxTR9RUgxkDPegC5AemQOB0pWAExIA2k9OlLGFCdKSQrvUnjngZxQAJ9/HHFKflOSMc0oB8wEnoKXp0GBTAcmRIVPYUyEAK+DT1XLn6ZpkeQHDEYx0xmkBWAJUnIzk/l9f/rUKOcg+/1oyNnAHLc/nSchyoHb8qAHvjAyxJxzTXHJ28ZJqV921QT26d6jbBXnAIFAEUw+Xdk0gIEYOBzSOcoDnv0pzEALx9aAEkAAGDj071EpORluhqaQfLkY4AqFQcZ4oAkcZX7w9jVc9TmrKtuBAAqs3BNACc+tAPrj/wCtSEc4p2cUALQ1IKU8igBp9OKUZ/GkPXp3pRye5oYhwHNDAg9KTPPNOY5OC1AwAB796UjJIzj0oB64xQvU8d6AAe1OHTAIHao85J6daeM9wP8ACgQ7nHNDYGCaXjAHNK386BjQecCpV7D0NRd+O1OXk59qAJWPPsagm/nUh9iPyqKf60AQ/wAqMnPI/WgelOUHOB1+tACouSDj61KcYxnkds0bQq/hTcknnNADXHGKVBx2pW54xSoOKQCrz9Kkx/tfpSDGPT8adk+gpgQhec4q7asNn3ttVI2IbnuOc96tWzBVOBg571QgmUGVjz+VQDhs8nirjJlyMDOew/pVZ8qWDcAj0xSGVWbLZxSKRuBB78UjAZIApP4xyaBFli23kCqrDLE4qcMOh7VCw+Y5FAEf0HFKOeOaDjqKB1pAPXpxViAZOTgVAvTpVm3xkUwLHzKpKjHue9NuH+7nHHf1pWBK9c8+lQynIye1MCGQjcDjjFSQ/NgcnPHTvTJBlFKj17VLFkIrDt+tIC0pZQCqqoHfHFNmG1iScsP1pZcbQSrZI5NEoOQRjaaAJYIyJM54I61JJjbnfnn0ptvwcYA47j/PpTmzgnuD24oGQycqDnIzUU2ACcmp2xszgjng1FLg5zTAZIB5SMT0PpUpxsUg9R3puB9nwQevrUkZ3QEFc46UAPY4AOOarygbsqvWrLccDniqsvIwGPfpSEQXRPmrwAc84pMEN2/A0XGwMpA5+lOwCe+cetICKbJRfanDmJsjNMkJ8sdetPhJ2sMbTigZGFI52dOtIxOSAoHqPSnjkcn68VG2N3AJ/rTEMJ9cU9ckDnt603AC96EPagBJQc96iNTyqfxqA8HmkACnDj0pq04fWgYPyvNNXOaVjweaaOvPrQA8dxinw9T9ajHrUkQ4P14oAtbcJyMDHaqjAZPp9KvMuY8Z7etUm/Hr60CGY9aMAUrUduc0DFA7GnY789KQZBzzTwc4GT+XvQAjdMADgUzqakfAUimfX9KAFz246VMuSFIxxUY4NTqMr0A9c0AW4wzRZ+Xk+uKSYAOhUgehzTkU+V2yOuKY5B2Ajv2FAD3UrOBnJz1qQxgHGVP9aQDa4GSPTinfxjPbtQwEPD7gQKbwFJB6+lPyCzdeaRx+7wueevPWmBRYhVHPU/1pMDJxnPany5yCc/nTUIJx3z060hkx4j+4OBxzTOSh6cfWnNjZ0bA7EYpjHC4OcgetAiHAMYyOQaJR908DIqRsGNeuccY5psrMwUcjHXigBkxGQMZ9eai78ZxUkoGOM/jTOMd/xpgSRAZJ56VDIACamjcYIyM0245I6fhSEVvrSnNB9qPxoGLzzig0oz1pMY7UAH40c9qOSelOHXpQIOhyTSnJOSBSHg84FLxjNAwU8dKcOn1NN/hxinY4xQA3jPApRjOMmkHTNPTryOlAD2OG7cD1pWHoM03qwwMVI4HAP50ARn8aFzyOKD65FN65A60ASIc5PtUMpyM1JuODyM1DIeAB/OkAxfXIqaNe9RqM8YqcckDimA4ZYHI6VGOp/wA4qVyFTAH/ANeoe5zSAU/1pV5H+FIOvAAoXH6UwJV6f5FLuH+RQoymTjml/GgCLBD+1WrTd8wJ4z0quQC/UfjU9uSC4UAjA6dqoRcJDN9f1qncAqDgEA9eKvBVIXgEkcn0qld8BhkZHtSAoEjdmk6nJwfpSn/PFN4yB6UAT5JwevFQydcipv4VqOXqDmmBCeOMU4deaQ5604dc0gHL2FWIBzg//rqBev4etTw56D0oAtNtCcDjvVU8qzD1zUshODio0IaN844pgMIJTntUkT/IMjOOMVEhxlTjmnJyMj1oQF+ff5Y3EAEc4FRsUMaffb2qQhTEcLzjkk9KAp+zBdw9KTAnjKhN3HSg4bBYenHrTmXbGec5/Wm7isQBAzTAif7pKjaQeRULAMevtiplyVZeBz61Fhd+3v2oAUKwTocZqQZ+zgjAz2qURr5LAjt1pgCm3ABGMn8aTGhyZZST6daqOG8s5AHJziroysZyD+WMVnP1OBwe9AEbBnYAt+YqVmUEgt29P8mkVC3b9MU6QDHIGccc0CIDtEYON2TT1xuIAx7Y6U1clOh4NOyRMM0AROCHORg+wpGYhvvdetPkA8w4XtzmmfxgbQc+9ABJ/quCDk1HHj29+amc4iYcDPUYqEZHGR+VAD5Pb+dVm61ac5TqMdsCqzdeMUmA0dO3507j06UhNA69qAA56+9NHWnHvSY5oAUZzjipYskH69qj79P1qWIUAXJQRENwA4x6Zqgx56D8qvyjEe4lumBgcf4Vnt1PX8RQMTt2/KnD8KCDjv8AlQMYzzQIeBzxilGc9vzFC447evFLwVyG6dqABuR36VGOKewwOQDTFBJHUE0DJFAPX0qdQuw9cn2qNVYEcVY2t5YPT8aALEQPkkcgH3pm37oP4c06MYQ9Dxxzmn4JjHI49BQAjZ39AcdzTwwIBGKaUwcnoPapETGTzk9sUAIy9NwX8AajkICDGOTnFSyI/B5Oe+KgmLocHr7L1pgVZiuV9frQmR16E0yd8MCO9MWULzkdPWl1AtOcIORg+9MblSSB1NNLg4JAx7CmlvlwAAPXFADmIOBjjtTGH7z/AOvmnFycEHtzxTCRk9B+FACOGZuMHA9aZ2x0oLA87RTcjHFFwHD3BwafLgr1P5UzPA5NPGQDnd04FMRW78evFApe+OlIaQCilpB06fpS96BiHr/9anLye5pp57/rToyeecUAHfv+dGffOKU5z1zzSEDPX9KAHDPHpQx+vPWk/i6UE9cd6AFAyO1OQYPWmLxxk09c555/TNAEn8eTil3Bs4HP86RAOT0pQPXIoAa3YDpUeeMHipWXnnNRnr9aAAjpio5TwOaeRzmo5OSBmgByrgdOtTovPaokGMEnr2qeP8fegBr8nmo/yqVgMmo2yT3pAC9D/hSg8njv3pBx3+lLz3FAD1II4pMfT86WHkYIH4VIcZP+FMCJxtfjjnsasW3yknHWq55fJA/LGatWrYPBBH93NUxF1QW2k8Y/unrVK8KnO44z2xV9DuQHH0yOlUrwnoCTj0pMDLON1HXt9KG+/wD55o4x0oAmHKDrUb9BT1zs57dKa+SDnt7UARd6djimke4pwHagByk7gAasREBsnNQDqDjpViHbng4oQDpcn+Icj0qNCBuHc55qS4JXkLjNVxyeDigA439elOQDdgHqabjPIOB609V5yQOOR3oQGii7kIJPI7U6FOCOSQTg0RHCAgYAGPmqxEAcsOc9OMZpgI/ETcfT60yQsVQhz70+UgqcZ4pjEfLgH8aQEOSMqcEk9qZgefg568c4qRuJTtPOeaY4zcAkBgAD+NAy2o+RiSBgdhTB93DFjk8c1Kiq+5gh6dsYqEEYOABzzmgAJHl4HAI6iqLqzNjduOeBxxV6QkLjaT+GMdqouP35KRDHqTSARNoPJxj3p0pG4gADGfuiljMmTtVBgd8VC24kk4P0GM0wEUkrgdM5+lJuBlzg5pyDpkHr69aOk2eB160CIpWPmHkHHtTEIyNxOPYf1p8uAx75PpSx/e79McUAKx/d4Bcioeepz0qeXOMOB19elRc7sYPA9aAHfN5fAb8/6VVbvmri4xkgfnVWThiMmhgRj8aUE9+lBH40DqOtIYN1pKc3pz+NN6dKBMUde1TRjHP5VCMg4wPfipoieCCQO2KBl6bH2YZ7e9Z7Hnr+taDgtbAkj/vnNZ74z0P5UAI34/nSrnbnmm/5HFLgbc7eaBEi7sf/AFqkBOwjP6VDxjJA/OpQBt44+poAaWx6flScZGVH59KD7E09RyM56UDJFAzjac565qbIKDAUHP8An+VRgY/iPtxUoUtHjLjngHoaAJYj8meM8fdGamBJjzzx6AVXjUbMAH65qyoKxMRtGB/ezTBCHLZ6+xJ60qg7QcfXnFIuNmcjPpToyuwEbQeowMUIY89BuIx/Kq11uZyFcAg8kVO4wE/ljGaqzMfOkPb86BCx7pImDqshz1xSGJSg3IAR14Ax/jS2xGzBIIPXI6VJMoWPaFTaOhWgCD7IJIzsY5Hviq7WtwCRyav2sgCnIcHP50MuX5O7nI5NKwGVJ5kfDgimbjyRnn3rSnXL4PA9CKrSQJnATOO4OKAKgbI6mkJ7jH5U9owGIHb14ppRscD+tACbunFPDZHbP5UxkYfNtIBpOnr09KBA3Wk+mKax54oyc0DHqee/+FLnk5wc+tMDUu455NADz+HNIv0pu7PelB5/+vQIfkf5FA5PtTd3PXOKcMdu1AxRjrmmtnGTTjwOnfvSdu/50AKP6dqXOeKTp3FL24FAEi/dz6/jTu2cd6jBOAKeG5zgfWgBWwO/J6VH0PXpUoOfXpUTA9sD8KAE7c5qLd8+akPXjvnpxUa8sScUASpzU68DIqNBj8aczYHHFACOR2/Cou/WnZyaaw57UmA9R6DFO6DsKaueo5oLY7Y5oQCxtzgA1Lzn71V04arHHcCgBu0AjcSDVuFF/uhsnqOtVs5XkHr61aj6jLn8RVCLMQYA4J2npzVW8UZ+YD86tQgjI4596qXY+fIPT1pgZz8E46Uz1/rT34c4po75H0pASJynamHP+RUkfK4yKjbOSOaAGDrT8fLntSKMt1A/rUuMk8Hp+dADFzjB9auW6EjIA/wqqo5Ax3qzEcNwuce5poAvAo4UluPpVUHHp+dWbs84weBVRSB35pMB59SDx3NSIQT0JHsaiXAPUflU0YLdB06cUIDQhwUG3rx+H+c1ZQEA7sLx69qq27Ns4PH0xU4xv9WxQgFB3biSTSKp8sHuD0pY1BLbgQR15pzABBhiR3OKYEBLCfJGfTOKa4D3BLYXJzxUm1dwJxk+pJp+SjZXJOR7cfWkBMiABtoHI9elQhQTtzjnsKljc7uNvPWm9Jc5PsAQKAGuBkcDGecnrVCTDTffC+lW3x52AR+XSqrFzPgLg59uKBjlf5Du3NgdhVQn5WI3AD1NWmyHYEgcY69arrt2uc5J6cUgEUKD90c/jSSLtdWIyPYdO1SbQDg5zj0ApHBLZAP5+9MCCcArncQRSQ7cfNyR70+4U7fur9OeKbCeOCB+HNAhJAobgc0wEbuwzViYndljnPovSoR/rRjOT0AFAE6AY6gHHdc/5/Kqco+cjINW13bj8rHjnmqsoIc54/ChgRE+wpRjtikA5xS9Ov8AjSGDHt+NJxSnHqKTjFAg6EVPEQSOv1qDHPap4h+H40DLucwjluDzz1qg+N3y5/OrgA8vqBx61TfBY9KYhvfOTSjkdccelGOOP50uDnFIAYcfeH5VLH9zA2nAqNs9cfTmpI8bOn/16Bjcc9B/L+dOVWzjHP1owcnANLgZHT8qAJ1RjyAPxNSDGOg5PXNRpjuBUhAxyp49qAJYVJ4JH5dasf8ALMjP6dKjtwNndcVLtwjZz+dMBibfLIBPPbFSpgKNwLfjjNNUZUfzzTuBxx6Dn3oGNlC+YnGQMnDGqkoDuV2dT24q1IAzgnH4fWoUUtK55wKAFji2IMbhxyRg1CzDa+WPsDmrvy+XnI4qBtwiLDHfOcf/AK6QiC3Yr07+9WZjgqSQv1xVJG2kHjg/SrblXVcnPPT1oASRhuyD27HtUTAsGJ25HoOetTuAwGY8EDGarkDa2Cc56ECmIpOvJPPXrmm++7vUjjqBgc+tMIIBwKQxDnHr9DmmMD1px46gc0wk9vX1oATAPYUFF7DGB60uaGJ74/KgCMr7/SjaaUnnHP50GgBNp7UYI7U9cetKfagCL8xT1PXmlyc4z+YowCeg+tACMxHv/Sjd06VIsak8np6GkMa5wM0gG549acrDpkDNBjAHBJ/EUbV9vamA/IzTl457GmbRnoRTgee/50kA4njBprev9KcGJ4pNuegzTAY2CKRFyex96GPelT2z7UATDjpTW5wBSjOD0/Kmsc/WgBR90H8qYcHt06UpPHr6800dv/10ASqOOQabjrx+lL0Hb8aTp3+lACJnuP1qQNwP8KjB+XsOPrS8+o/KgCXgjgdCKtJkQjAPB9aiAHk4HbFOj27FVh+QzTEXbPBLhiw4OBjrUF1j+EYHSpoN27joBxz0qO6AD/MPzGM0wMqZfmyD+lMHQn34qW4GTwc1GDxzz9aQD4vYE02TAJNETYbg9D9aWUDdnH4mgBIxk5zUpBXj2700KQvQ+1KSAO3TsKBCIAHyf1FTqMNjI49KgX72TgjPeplOXBI49hTGMuDuPLE/Wq5zjIxU9wpDn5CvpUWBt9TSYCAHpwfpVmBflJwB7VCp7GpoeGI9fagC9Cf3R+81WlJUg5VcDgqM1UiJKFd4H1H9Kn4CKDl/97jNABB8rvtyeKe5Plg4+uT/AEp6BuVII9hxilK/J1Xp1GDmgCBlxjjP/wBensuM55x6nNIASORznnJ6VKwDKThQD/doGLGNyDqcnsOn40hQecOAp9+aWMEqM7jjtnAFK/yzBRjjr9aBFGYnz2Vdwz2AqN15GQT9TVqc4fHoO9VWzknA/nTGVnAEhwo/GpFjbyicEfhj9aRsl8lj70p2+V1J59algNcAuCQcY4JP403jIyB15GKUH95nII96TeSMZO3PYf5zTENuVwmT09hTYc8bSc544qS6IMQ2FvfcBzUduCf8AaACQ/N0I9TmmITv4zxweafN97OfwzSKm45+XgetAD1U5yBj3zVeYnccj9asLw2ARwOaimGHOcUAVOM9qXA/yaG+8RR78GgYYo7Up9MGk+tIBDgYNTx544PtxUHU9qsQZPFAi1uKxEnv6jpVFiMn39qu3AxGuQRnpVGTAH40wG7scD+VS2qeazGSREVRklu9QrmpVRGG0sAeg96QxzlCcKeKcv3T71CoYNtJ6VYQDbyf0oATpzz+fSlX0yaGHHGOfalUdAADj04oAsR8dWP4Gn8+p9+ajXPUIKUhyThAfwNAFu3AC5znj1qUHCMABz+NQwDCc1Kv+ryWHqO1AxyDIypx+FO5znr+HSmqDglvwIJpwyRnB/OmIYSA2WB6YFR2ykW7Nz830qSbaqEnHt71AIYyg2kjI5IPWgCVcmMgjjHJx1qBSpifsRnkd6csUqk7ZiSR9aiDSjcrYIz3oAhYlH4yfwNSl9oU8Y/z+NRSON2CuMdacQsigr1HekDL37srkMTkc9B/Kq8iMEGCOvakhYlPmI4FPyNnIyO3OKoRTcsTiRAc88jFRsoA+VAvPY1O2c8Fse4qORTjkg0rDIGxwMnimEDGQevtUh69MU1hx3pCGDkZzn6GlIIGMn8TS80Y9qBkR9KAOeKew9qaPwoAXkUAkdh0pecY44oPXPNADR1py56004/SnKPQ9qAHAc96Unnp9KQZHel6mgAPPboPSgD2NLj0PNL396ABvekH505vb/CkA757+tACgYGeaM8UUZ9elAETkYp0fP4UknI5J5p0XTpQBMeI8VDnsM+tPdv/AK1M/rQAd+MUoGegpDnHb2pV/wA+1ADuoPf+tNPGc8VJ2zj+lRt6Uhijp0pmR6n8qfjI5J/z7Uwrz0P50xFtAcY9fapkzjHvUa4zycfoKev3skHB96oRctcCQZGDjtTbwAfOBn8KS127j1Az+NS3CEgbSD7Y/OgDGuOWJPTmosbhnHarM6ncc9fpmoCfUjnrSAbHw3PSpWIJzn9c1GhG6pwBnOQCKAG4PXn86a2SMZ6joBUrAY4ABHvmoz2yST9cUwFVQmCwxz9amBGcDHtmonIZcgAH271Iqhj19qAGXGN3UZ/Oq2Tycj3qecgPgYBHoKh6ngcikwFGPrVhMZH+NQKD+tToMD5sfjQBbhyex69PWrgULFufCD061TjztIDEY/u1PGoYEYLfUn+dMCxGUJ3DcT6san3EqCecjooxVdAAAeBgdKczkAfXucUAMkADMB36g09F/d5YnnoMU0qTIxIHPOMVYUfuTnHPXJ6fhQMjhj7kj+dJNnzvT8cVJHgE9fw4qGcBpQSOB25NAIgnYbuD1HpVeUjZj5sn2q1NyQSD04wRzVO49Dk46YPWkBHnLgKv5mn/ADKrcIBn6/rTRkuAWJ+vNPkVRjGQfegCB8q3p+FOjzt7k56560jjc2CTTokHlnaM/j60CGXB3R5ZcenNRQj5cYz+BNSzcYGPyxSRDBOGC4/HNAEcucA7e/JANCZABwakmTMeckEdeOtR4yoJHX0oAerkODnHPamTEbjyefUVMQN496jnG2TBPbpQBSI5pfTrzSuMN+NN6nikMDgimjpgGlbqRQM9SPyoATgdQKs2xBI7c1W9gantztwaALd24LAgdhVCc8D3NWpST36elVpfm7d/SmxEfGMmgYyMZpAcdc07cueufwpDH8lhnvVuLGzjP41TXLHOf0q4uAnBoAa4FICARngUrYzjnn3pFB35oAsAjHJPNLgDPX8sUiEnpg0o5ZsEDOaALlsf3Z6egqRV+THHtUcIxGc4561KvQ47+9AxzY2Y6Z/Wh2zGvJ6U7qnIPFRyKoTOCQOvJpiIrsqygHGe3vVdScADGf51O4yqk8fWmNHu+bIyelACRuxBHU+vXFN3HD5INJhlJAIAxzQi5+Vgcc4oAZHKEkIIPPtTXSPLYOR25pjfu5sEkfXuKdtBBKkEcUkBMscipkP+FAJ8v5hjHIximRxsY2XLcj16UnmSc5xnJHIH+RTEDDjgqe/zcf8A1qhYgjGCTnsc1I0qfxLz7U0spPy/L9TQBXbJ9fxppHHapn+/1yfpUb8HJ/lQMjIx0NGe39Kc2KbxnpSAQ+oH5UgPbP14pW65NNxj/wCtQIdkUcZwaTPrS9xQMaw9MDingcdDTG/zxT8jI5oAf27Ug654pCach796AF6DGAce1Lj8s+lJz7k96F6dP60AIT+PHNOwOuAPxpOc80ucmgBQT+mKQj/OKOvbilJ4zQBE+eOnWpEzt61E3J/nzUq8DH/16AA/dzwfoSaapxzTjyOQfypg+tADsc4/OnICenSmgD0xTxgZ/wD1UALj6/zqKUEHn9DUhPB+nIFQMSRwBQBIpytJz6/pQv3f8ik5oAuhhuJChQSSAD0p6kHBViMepqBRucZ7VMqnzcI2aoRagzuJYZyBk1ayF4UE/WqsIcPhhtA6VawCRkg4HagDJuc73B46496p9z6Veusb2xnIPpVAsM/zpMEAyHGKsIMA1W/iGMVbhYAjdtOfU0IBmTnCg8ikYDOTjPfmnkZmLDGAfpTpEIPJGR6dqYEanjGT19cVKgOAR29TwPwqFTh8Z+vNTg9MkjjjIoAr3QzJncD+GKiGCOtPlJL4PamKeenT1pMBUPPU1bjUEZB9OlU0+/zjrVyM/J/hQBYgyGO4deOauIxxhn4PYVShYBgOfT1zV2MKRkKST6+tAx6j5QBkD1x1pGI28kEg08H5cMegwKeqqIM4PXGaYDVXeWJBGf8APSnxg88Dgc8UKCW78j8805SQxUA4+tAgYDyzhc5981G4G3A//XU8mDGOmB1qFgcf/XpDK0yY6D61nytlzx0PBrQn7ZOPes6TlzuI60AOz93jC47UtxnI6HNIhBwOfem3BBAyM+h7UCEwCeTjrn2p8LDBGO9RoMxk8miEkSH29qBjJiGIyOg7U6MdmXORxk0jbnOd4456dKf90g7y3HpQIWYN5RG0D6CmFcIu05Jp06YhyzZz096EAMak84H+elADS+WAYHIpsoG7gHgeuDQ33uQRz69KfKvGQTj2+lAFA4JPHSkX/wDXQ3BPekHDEUhisPTFN4x1pzYzwfzptAMMeuKmhBAyKrn6GrVuPmUAc0AOkJzj09KhcHHH8qllP7zFRMOO/wCVMQ0AEU5VAHBBP50qgFenelx7Uhj0BC9ARVgEbcbT/KoV27RlW471Ku4kBcHn9aAIyBv9TmgAA4OenpTf4+CP8acpPr3/AM9aAJ0xnPX8KVFHm/dI5701c5znoPyp6nLAZ5oAtxN1HtUyn5CM9+KhQe4PHpUi5+bjp14oAnXBiweoBxUT/dOT06VIMBMjrULnKlduc96BkJcnOB0FMDcDHNPXIBHQ46e1RF/lxgZzQIVyck/XpTVI80ANt+opHfLfyoU/vAD82aAI5/nOMjINOjjxHnGGx06ZpsoBYnaeO1LEPlwCcHr7UwJYWdYmUkY5xxTV+Vj8oIb1FSYcRYxnPT3pAAoxt65/GgRWKBnLMAeeO1VnO04wfb3q6SuCEUqR1qjIMNjNAxVj3nOf0prqynBJp8TYbGBUk2COn0oEV+3zEU3fgYprE033zSGPyCeaQYpB6GjGTj1oAdwAO9OxzTNuOc0uD0z9aAAj5sZp7AjmmAMG6UfNxk0ALz379KepIHQ/nUYJHrUgLeo4oAMnuDS5GOhoyfXNHfGQcelACjk5pT0HP58Ug608fQ0ANHX/AAoJ45/Cg+mDSMSM80ARZy3U1MowP51Egyx46U/d36+9AC8/rTR1pc569KTj60AOHX/69LnJ5xSoOcUHG+gBOeoNRN6H1qUkZx/Kon4B96AHKfb8zTi3J4/SowR6daXcfWgC3H1FPi++lFFUI1Yv9VTov9YPpRRQBlXn+uf/AD3rOk6miihghT2q2n3RRRSAkb/XVEeo+tFFMCIf6w1ctv8AWN/ntRRQBRuP9aab/wAtTRRSARfvH61bT+KiihAWLfq34Vofw0UUDGp97/gRq0v+oSiimAwdV+lSj75oooYh3/LNvrUDfd/GiikMrXXRazj98/QUUUAPj7VJL9wUUUxFUf6k0Rf678f8KKKQxifeb6U6PoaKKBE83+oFNi/1B+lFFAEad/rTZeiUUUAUz95vrR/EPpRRSGI3WkHeiigGB+7Vm2/1qUUUAE3+ub6VD/hRRQIev3TTh1/GiigZIPv1NH/7MKKKAIW+/wDhQnX8aKKAJf4UpV6L+NFFAF6Pt9KkXo1FFAEp+4fpUUvQ/jRRQMrn/W/hUI+8fqaKKGIG/wBYv40kf+s/CiigBW++/wBadD900UUwLJ6N9P8AGoZuo/GiigRDL1P+7VCX75oopDCOpZf9XRRTEVj940hooqWMQffNOH3z9aKKYAeo+lKetFFAAPvU7vRRQBG3SpV70UUgFFJJ1P1oopgOHQ08/wCsFFFAEQ+9+NOb7tFFIBkfU/Sl7GiimAHt9DQnSiikBLH1H+e9MX71FFMBKjbrRRQAi9DSd6KKTA//2Q==)"
      ],
      "metadata": {
        "id": "SPDpPHnhn2_m"
      }
    },
    {
      "cell_type": "markdown",
      "source": [
        "# **Output After Optimization**\n",
        "# Referenced video to convert the above image into Live Portrait"
      ],
      "metadata": {
        "id": "GCuylDVJoHWr"
      }
    },
    {
      "cell_type": "markdown",
      "source": [
        "> **The change to enable AMP (flag_use_half_precision = True)**"
      ],
      "metadata": {
        "id": "pHHQGH9Ure_i"
      }
    },
    {
      "cell_type": "markdown",
      "source": [
        "**Here I am providing Google drive Link to see the output after optimizing the code**\n",
        "\n",
        "> After\n",
        "\n"
      ],
      "metadata": {
        "id": "bjwBiZDFoRWH"
      }
    },
    {
      "cell_type": "markdown",
      "source": [
        "**Inference Time: 37.26 seconds**"
      ],
      "metadata": {
        "id": "upJWUwwuopzm"
      }
    },
    {
      "cell_type": "markdown",
      "source": [
        "**Click here to see the output:**\n",
        "[Output Before Optimization of code](https://drive.google.com/drive/folders/1QelEsu1FiUsB44L0Kp0MG0mOIOQZbPCO?usp=sharing)"
      ],
      "metadata": {
        "id": "VJMwgSF9rKzc"
      }
    },
    {
      "cell_type": "markdown",
      "source": [
        "# **Optimization summary**\n",
        "\n",
        "> The reasoning behind those changes."
      ],
      "metadata": {
        "id": "cX1W4cQgucmr"
      }
    },
    {
      "cell_type": "markdown",
      "source": [
        "1. Original Inference Time: 36.77 seconds\n",
        "\n",
        "2. Optimized Inference Time (AMP Enabled): 37.26 seconds\n",
        "  * **AMP:- Automatic Mixed Precision**\n",
        "\n",
        "3. Output Quality: Identical in both versions\n",
        "\n",
        "4. Hardware: Google Colab GPU (likely T4)"
      ],
      "metadata": {
        "id": "GntyYR2dulfn"
      }
    },
    {
      "cell_type": "markdown",
      "source": [
        "# **Techniques Applied**"
      ],
      "metadata": {
        "id": "IDFABLwRvPcj"
      }
    },
    {
      "cell_type": "markdown",
      "source": [
        "1. Enabled torch.no_grad() (already present in wrapper)\n",
        "\n",
        "2. Enabled AMP (torch.autocast) via flag_use_half_precision=True"
      ],
      "metadata": {
        "id": "nm32kPSIwYu_"
      }
    },
    {
      "cell_type": "markdown",
      "source": [
        "# **Observations**"
      ],
      "metadata": {
        "id": "c4FCneFJwoe4"
      }
    },
    {
      "cell_type": "markdown",
      "source": [
        "1. AMP slightly increased inference time in this case.\n",
        "\n",
        "2. This may be due to video processing overhead or minimal GPU-bound operations.\n",
        "\n",
        "3. No perceptible drop in output quality."
      ],
      "metadata": {
        "id": "LEZyeD1kwsfp"
      }
    },
    {
      "cell_type": "markdown",
      "source": [
        "# **Conclusion**"
      ],
      "metadata": {
        "id": "dNhHzGImw3jU"
      }
    },
    {
      "cell_type": "markdown",
      "source": [
        "Even though AMP didn’t reduce runtime, the code was correctly optimized with modern best practices. This establishes a strong foundation for future scaling and hardware-specific improvements."
      ],
      "metadata": {
        "id": "md-kiwauw72S"
      }
    },
    {
      "cell_type": "markdown",
      "source": [
        "## **Additional Optimization Ideas (if given more time)**"
      ],
      "metadata": {
        "id": "eP2IySprxBDJ"
      }
    },
    {
      "cell_type": "markdown",
      "source": [
        "1. **TorchScript or ONNX Conversion**\n",
        "\n",
        "  *   Convert the PyTorch models to TorchScript or ONNX format for faster, hardware-optimized inference.\n",
        "  *   This can reduce Python overhead and improve runtime portability.\n",
        "\n",
        "  * ```\n",
        "    traced_model = torch.jit.trace(model, example_input)\n",
        "    torch.jit.save(traced_model, \"optimized_model.pt\")\n",
        "\n",
        "    ```\n",
        "\n",
        "2. **Parallel Frame Processing**\n",
        "\n",
        "  * Currently, animation runs frame-by-frame sequentially.\n",
        "\n",
        "  * With GPU support, you could batch process frames using DataLoaders or multiprocessing to accelerate the frame loop.\n",
        "\n",
        "3. **Video I/O Optimization**\n",
        "\n",
        "  * Use hardware-accelerated decoding ```(e.g., decord, PyAV)``` instead of OpenCV.\n",
        "\n",
        "  * Avoid repeated resizing and decoding by preprocessing once.\n",
        "\n",
        "4. **Memory-Efficient Scheduling**\n",
        "\n",
        "  * Reuse tensors and avoid unnecessary ```.clone()``` and ```.detach()``` calls.\n",
        "\n",
        "  * Measure and reduce GPU memory spikes with ```torch.cuda.max_memory_allocated()```.\n",
        "\n",
        "5. **Model Quantization**\n",
        "\n",
        "  * Apply 8-bit post-training quantization ```(e.g., with torch.quantization)``` to reduce model size and inference latency.\n",
        "\n",
        "  * Especially beneficial on edge devices or CPU inference.\n",
        "\n",
        "6. **Asynchronous I/O + Inference**\n",
        "\n",
        "  * Use ```asyncio``` or thread pools to perform I/O (video loading, audio muxing) in parallel with GPU inference.\n",
        "\n",
        "7. **Use ```torch.compile()``` (if supported)**\n",
        "\n",
        "  * Use the new ```torch.compile()``` (Torch 2.0+) to generate optimized fused kernels:\n",
        "\n",
        "  * ```\n",
        "    model = torch.compile(model)\n",
        "\n",
        "    ```\n",
        "\n",
        "> If more time were available, I would explore batching, TorchScript or ONNX export, frame-level parallelization, and memory profiling to reduce latency and improve throughput. These strategies would target compute bottlenecks and unlock more significant gains, especially on large input batches or multi-video inference scenarios."
      ],
      "metadata": {
        "id": "hYj3D0HHxFW9"
      }
    }
  ]
}